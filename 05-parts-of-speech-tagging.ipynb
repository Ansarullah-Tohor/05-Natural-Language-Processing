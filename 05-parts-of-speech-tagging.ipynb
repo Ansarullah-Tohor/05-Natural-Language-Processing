{
 "cells": [
  {
   "cell_type": "markdown",
   "id": "1856ae12",
   "metadata": {},
   "source": [
    "1. What is pos tagging\n",
    "............................................."
   ]
  },
  {
   "cell_type": "markdown",
   "id": "f90a9547",
   "metadata": {},
   "source": [
    "#### Appication of pos tagging\n",
    "1. Named Entity Recognition\n",
    "2. Question Answering System\n",
    "3. Word sense disambiguation\n",
    "\n",
    "     example: \n",
    "     \n",
    "            I left the room\n",
    "\n",
    "            left of the room \n",
    "\n",
    "          here left in two sentense has different meaning\n",
    "4. Chatbots"
   ]
  },
  {
   "cell_type": "markdown",
   "id": "265d1015",
   "metadata": {},
   "source": [
    "#### POS tagging using Spacy library"
   ]
  },
  {
   "cell_type": "code",
   "execution_count": 1,
   "id": "fed067b2",
   "metadata": {},
   "outputs": [],
   "source": [
    "import spacy"
   ]
  },
  {
   "cell_type": "code",
   "execution_count": 2,
   "id": "5b823996",
   "metadata": {},
   "outputs": [
    {
     "name": "stderr",
     "output_type": "stream",
     "text": [
      "c:\\Users\\mdans\\miniconda3\\envs\\nlp\\Lib\\site-packages\\spacy\\util.py:922: UserWarning: [W095] Model 'en_core_web_sm' (3.7.1) was trained with spaCy v3.7.2 and may not be 100% compatible with the current version (3.8.7). If you see errors or degraded performance, download a newer compatible model or retrain your custom model with the current spaCy version. For more details and available updates, run: python -m spacy validate\n",
      "  warnings.warn(warn_msg)\n"
     ]
    }
   ],
   "source": [
    "# import english language dictonary\n",
    "Eng_dict = spacy.load('en_core_web_sm')\n",
    "document = Eng_dict(\"I am VUian\")"
   ]
  },
  {
   "cell_type": "code",
   "execution_count": 3,
   "id": "b478e7e3",
   "metadata": {},
   "outputs": [
    {
     "data": {
      "text/plain": [
       "'I am VUian'"
      ]
     },
     "execution_count": 3,
     "metadata": {},
     "output_type": "execute_result"
    }
   ],
   "source": [
    "document.text"
   ]
  },
  {
   "cell_type": "code",
   "execution_count": 4,
   "id": "f81b3018",
   "metadata": {},
   "outputs": [
    {
     "data": {
      "text/plain": [
       "VUian"
      ]
     },
     "execution_count": 4,
     "metadata": {},
     "output_type": "execute_result"
    }
   ],
   "source": [
    "document[-1]"
   ]
  },
  {
   "cell_type": "code",
   "execution_count": 5,
   "id": "19dbbde3",
   "metadata": {},
   "outputs": [
    {
     "data": {
      "text/plain": [
       "'AUX'"
      ]
     },
     "execution_count": 5,
     "metadata": {},
     "output_type": "execute_result"
    }
   ],
   "source": [
    "document[1].pos_"
   ]
  },
  {
   "cell_type": "code",
   "execution_count": 6,
   "id": "d9efe859",
   "metadata": {},
   "outputs": [
    {
     "data": {
      "text/plain": [
       "'PRON'"
      ]
     },
     "execution_count": 6,
     "metadata": {},
     "output_type": "execute_result"
    }
   ],
   "source": [
    "document[0].pos_"
   ]
  },
  {
   "cell_type": "code",
   "execution_count": 7,
   "id": "30ce8834",
   "metadata": {},
   "outputs": [],
   "source": [
    "document=Eng_dict(\"i left the room\")"
   ]
  },
  {
   "cell_type": "code",
   "execution_count": 8,
   "id": "8c775ccd",
   "metadata": {},
   "outputs": [
    {
     "data": {
      "text/plain": [
       "'VERB'"
      ]
     },
     "execution_count": 8,
     "metadata": {},
     "output_type": "execute_result"
    }
   ],
   "source": [
    "document[1].pos_"
   ]
  },
  {
   "cell_type": "markdown",
   "id": "e93dc318",
   "metadata": {},
   "source": [
    "#### Parts of speech assigning happen in mostly two way\n",
    "1. Course grained pos(pos_)\n",
    "\n",
    "2. Fine grained pos(tag_----> better form \n"
   ]
  },
  {
   "cell_type": "code",
   "execution_count": 9,
   "id": "607c1d1a",
   "metadata": {},
   "outputs": [
    {
     "data": {
      "text/plain": [
       "'PRP'"
      ]
     },
     "execution_count": 9,
     "metadata": {},
     "output_type": "execute_result"
    }
   ],
   "source": [
    "document[0].tag_"
   ]
  },
  {
   "cell_type": "code",
   "execution_count": 10,
   "id": "8d8bcbac",
   "metadata": {},
   "outputs": [
    {
     "data": {
      "text/plain": [
       "'pronoun, personal'"
      ]
     },
     "execution_count": 10,
     "metadata": {},
     "output_type": "execute_result"
    }
   ],
   "source": [
    "# know about what is PRP,PRON,VB\n",
    "spacy.explain('PRP')"
   ]
  },
  {
   "cell_type": "code",
   "execution_count": 11,
   "id": "55583574",
   "metadata": {},
   "outputs": [
    {
     "data": {
      "text/plain": [
       "'VBD'"
      ]
     },
     "execution_count": 11,
     "metadata": {},
     "output_type": "execute_result"
    }
   ],
   "source": [
    "document[1].tag_"
   ]
  },
  {
   "cell_type": "code",
   "execution_count": 12,
   "id": "bb10c6e4",
   "metadata": {},
   "outputs": [
    {
     "data": {
      "text/plain": [
       "'verb, past tense'"
      ]
     },
     "execution_count": 12,
     "metadata": {},
     "output_type": "execute_result"
    }
   ],
   "source": [
    "spacy.explain('VBD')"
   ]
  },
  {
   "cell_type": "code",
   "execution_count": 13,
   "id": "e0e3d9e9",
   "metadata": {},
   "outputs": [
    {
     "name": "stdout",
     "output_type": "stream",
     "text": [
      "i ----> PRON PRP pronoun, personal\n",
      "left ----> VERB VBD verb, past tense\n",
      "the ----> DET DT determiner\n",
      "room ----> NOUN NN noun, singular or mass\n"
     ]
    }
   ],
   "source": [
    "for word in document:\n",
    "    print(word.text, \"---->\",word.pos_,word.tag_,spacy.explain(word.tag_))"
   ]
  },
  {
   "cell_type": "markdown",
   "id": "ac797f62",
   "metadata": {},
   "source": [
    "Experimenting the word Sense Disambiguation\n",
    "\n",
    "doc1= i left the room\n",
    "\n",
    "doc2= to the left of the room\n",
    "now compare pos for left in two sentenses"
   ]
  },
  {
   "cell_type": "code",
   "execution_count": 14,
   "id": "ebd6626c",
   "metadata": {},
   "outputs": [
    {
     "name": "stdout",
     "output_type": "stream",
     "text": [
      "I ----> PRON PRP pronoun, personal\n",
      "left ----> VERB VBD verb, past tense\n",
      "the ----> DET DT determiner\n",
      "room ----> NOUN NN noun, singular or mass\n"
     ]
    }
   ],
   "source": [
    "doc1=Eng_dict(\"I left the room\")\n",
    "for word in doc1:\n",
    "    print(word.text, \"---->\",word.pos_,word.tag_,spacy.explain(word.tag_))"
   ]
  },
  {
   "cell_type": "code",
   "execution_count": 15,
   "id": "38a97b28",
   "metadata": {},
   "outputs": [
    {
     "name": "stdout",
     "output_type": "stream",
     "text": [
      "to ----> ADP IN conjunction, subordinating or preposition\n",
      "the ----> DET DT determiner\n",
      "left ----> NOUN NN noun, singular or mass\n",
      "of ----> ADP IN conjunction, subordinating or preposition\n",
      "the ----> DET DT determiner\n",
      "room ----> NOUN NN noun, singular or mass\n"
     ]
    }
   ],
   "source": [
    "doc2=Eng_dict(\"to the left of the room\")\n",
    "for word in doc2:\n",
    "    print(word.text, \"---->\",word.pos_,word.tag_,spacy.explain(word.tag_))"
   ]
  }
 ],
 "metadata": {
  "kernelspec": {
   "display_name": "nlp",
   "language": "python",
   "name": "python3"
  },
  "language_info": {
   "codemirror_mode": {
    "name": "ipython",
    "version": 3
   },
   "file_extension": ".py",
   "mimetype": "text/x-python",
   "name": "python",
   "nbconvert_exporter": "python",
   "pygments_lexer": "ipython3",
   "version": "3.12.11"
  }
 },
 "nbformat": 4,
 "nbformat_minor": 5
}
