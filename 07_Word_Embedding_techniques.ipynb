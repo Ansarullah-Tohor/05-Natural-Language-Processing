{
  "nbformat": 4,
  "nbformat_minor": 0,
  "metadata": {
    "colab": {
      "provenance": []
    },
    "kernelspec": {
      "name": "python3",
      "display_name": "Python 3"
    },
    "language_info": {
      "name": "python"
    }
  },
  "cells": [
    {
      "cell_type": "markdown",
      "source": [
        "#### Word Embedding Layers steps\n",
        "1. One hot encoding\n",
        "2. Padding on ohe value (one hot encoding) to make sentense of same dimension because machine learning model need fixed size of data\n",
        "   \n",
        "\n",
        "*   Post padding\n",
        "*   Pre padding\n",
        "\n",
        "3. Convert ohe value into vector\n",
        "\n",
        "\n",
        "\n",
        ""
      ],
      "metadata": {
        "id": "eqvfCFolUPiH"
      }
    },
    {
      "cell_type": "code",
      "source": [
        "from tensorflow.keras.preprocessing.text import one_hot"
      ],
      "metadata": {
        "id": "3KLg9UONbTbF"
      },
      "execution_count": 20,
      "outputs": []
    },
    {
      "cell_type": "code",
      "source": [
        "sent=[\"The world is a better place\",\n",
        "      \"Marvel series is my favourite movie\",\n",
        "      \"I like DC movies\",\n",
        "      \"the cat is eating the food\",\n",
        "      \"Tom and Jerry is my favourite movie\",\n",
        "      \"Python is my favourite programming language\"\n",
        "      ]"
      ],
      "metadata": {
        "id": "-Og9XPrMbd68"
      },
      "execution_count": 21,
      "outputs": []
    },
    {
      "cell_type": "code",
      "source": [
        "### vocabulary size\n",
        "voc_size=500  # it can be change"
      ],
      "metadata": {
        "id": "QZ1QGMG_bie8"
      },
      "execution_count": 22,
      "outputs": []
    },
    {
      "cell_type": "code",
      "source": [
        "# One Hot Representation\n",
        "\n",
        "one_hot_repre=[one_hot(words,voc_size) for words in sent]\n",
        "\n",
        "print(one_hot_repre)"
      ],
      "metadata": {
        "colab": {
          "base_uri": "https://localhost:8080/"
        },
        "id": "mBzd9Ch0bjcP",
        "outputId": "37f7463c-2428-43e6-86af-45d4c76deb88"
      },
      "execution_count": 23,
      "outputs": [
        {
          "output_type": "stream",
          "name": "stdout",
          "text": [
            "[[257, 251, 85, 56, 223, 186], [78, 201, 85, 348, 70, 211], [469, 175, 240, 169], [257, 121, 85, 82, 257, 346], [44, 187, 424, 85, 348, 70, 211], [488, 85, 348, 70, 177, 288]]\n"
          ]
        }
      ]
    },
    {
      "cell_type": "code",
      "source": [
        "# word embedding representation\n",
        "from tensorflow.keras.layers import Embedding\n",
        "from tensorflow.keras.preprocessing.sequence import pad_sequences\n",
        "from tensorflow.keras.models import Sequential\n",
        "import numpy as np"
      ],
      "metadata": {
        "id": "9g68OXAmcWd1"
      },
      "execution_count": 24,
      "outputs": []
    },
    {
      "cell_type": "code",
      "source": [
        "## pre padding\n",
        "sent_length=8\n",
        "# embedding\n",
        "embedded_docs=pad_sequences(one_hot_repre,padding='pre',maxlen=sent_length)\n"
      ],
      "metadata": {
        "id": "76ZGV9D2dQGz"
      },
      "execution_count": 38,
      "outputs": []
    },
    {
      "cell_type": "code",
      "source": [
        "print(embedded_docs)"
      ],
      "metadata": {
        "colab": {
          "base_uri": "https://localhost:8080/"
        },
        "id": "VmSD7M7nefZh",
        "outputId": "bf68e5ef-2a2b-4fae-adf2-88ed0ad060d8"
      },
      "execution_count": 39,
      "outputs": [
        {
          "output_type": "stream",
          "name": "stdout",
          "text": [
            "[[  0   0 257 251  85  56 223 186]\n",
            " [  0   0  78 201  85 348  70 211]\n",
            " [  0   0   0   0 469 175 240 169]\n",
            " [  0   0 257 121  85  82 257 346]\n",
            " [  0  44 187 424  85 348  70 211]\n",
            " [  0   0 488  85 348  70 177 288]]\n"
          ]
        }
      ]
    },
    {
      "cell_type": "code",
      "source": [
        "## 10 feature dimesnions\n",
        "embedded_vector_size=10"
      ],
      "metadata": {
        "id": "datPnZSCemjd"
      },
      "execution_count": 41,
      "outputs": []
    },
    {
      "cell_type": "code",
      "source": [
        "model = Sequential()\n",
        "model.add(Embedding(voc_size, embedded_vector_size,input_shape=(sent_length,)))\n",
        "model.compile(optimizer='adam', loss='mse')\n"
      ],
      "metadata": {
        "colab": {
          "base_uri": "https://localhost:8080/"
        },
        "id": "-PdeMcRoesrz",
        "outputId": "5b7ed613-c591-4831-df9e-12ad68aa151e"
      },
      "execution_count": 54,
      "outputs": [
        {
          "output_type": "stream",
          "name": "stderr",
          "text": [
            "/usr/local/lib/python3.12/dist-packages/keras/src/layers/core/embedding.py:100: UserWarning: Do not pass an `input_shape`/`input_dim` argument to a layer. When using Sequential models, prefer using an `Input(shape)` object as the first layer in the model instead.\n",
            "  super().__init__(**kwargs)\n"
          ]
        }
      ]
    },
    {
      "cell_type": "code",
      "source": [
        "model.summary()"
      ],
      "metadata": {
        "colab": {
          "base_uri": "https://localhost:8080/",
          "height": 161
        },
        "id": "vj2d_7b_fw5n",
        "outputId": "67f82442-7810-4dfe-8bb8-e07910a12919"
      },
      "execution_count": 55,
      "outputs": [
        {
          "output_type": "display_data",
          "data": {
            "text/plain": [
              "\u001b[1mModel: \"sequential_16\"\u001b[0m\n"
            ],
            "text/html": [
              "<pre style=\"white-space:pre;overflow-x:auto;line-height:normal;font-family:Menlo,'DejaVu Sans Mono',consolas,'Courier New',monospace\"><span style=\"font-weight: bold\">Model: \"sequential_16\"</span>\n",
              "</pre>\n"
            ]
          },
          "metadata": {}
        },
        {
          "output_type": "display_data",
          "data": {
            "text/plain": [
              "┏━━━━━━━━━━━━━━━━━━━━━━━━━━━━━━━━━┳━━━━━━━━━━━━━━━━━━━━━━━━┳━━━━━━━━━━━━━━━┓\n",
              "┃\u001b[1m \u001b[0m\u001b[1mLayer (type)                   \u001b[0m\u001b[1m \u001b[0m┃\u001b[1m \u001b[0m\u001b[1mOutput Shape          \u001b[0m\u001b[1m \u001b[0m┃\u001b[1m \u001b[0m\u001b[1m      Param #\u001b[0m\u001b[1m \u001b[0m┃\n",
              "┡━━━━━━━━━━━━━━━━━━━━━━━━━━━━━━━━━╇━━━━━━━━━━━━━━━━━━━━━━━━╇━━━━━━━━━━━━━━━┩\n",
              "│ embedding_13 (\u001b[38;5;33mEmbedding\u001b[0m)        │ (\u001b[38;5;45mNone\u001b[0m, \u001b[38;5;34m8\u001b[0m, \u001b[38;5;34m10\u001b[0m)          │         \u001b[38;5;34m5,000\u001b[0m │\n",
              "└─────────────────────────────────┴────────────────────────┴───────────────┘\n"
            ],
            "text/html": [
              "<pre style=\"white-space:pre;overflow-x:auto;line-height:normal;font-family:Menlo,'DejaVu Sans Mono',consolas,'Courier New',monospace\">┏━━━━━━━━━━━━━━━━━━━━━━━━━━━━━━━━━┳━━━━━━━━━━━━━━━━━━━━━━━━┳━━━━━━━━━━━━━━━┓\n",
              "┃<span style=\"font-weight: bold\"> Layer (type)                    </span>┃<span style=\"font-weight: bold\"> Output Shape           </span>┃<span style=\"font-weight: bold\">       Param # </span>┃\n",
              "┡━━━━━━━━━━━━━━━━━━━━━━━━━━━━━━━━━╇━━━━━━━━━━━━━━━━━━━━━━━━╇━━━━━━━━━━━━━━━┩\n",
              "│ embedding_13 (<span style=\"color: #0087ff; text-decoration-color: #0087ff\">Embedding</span>)        │ (<span style=\"color: #00d7ff; text-decoration-color: #00d7ff\">None</span>, <span style=\"color: #00af00; text-decoration-color: #00af00\">8</span>, <span style=\"color: #00af00; text-decoration-color: #00af00\">10</span>)          │         <span style=\"color: #00af00; text-decoration-color: #00af00\">5,000</span> │\n",
              "└─────────────────────────────────┴────────────────────────┴───────────────┘\n",
              "</pre>\n"
            ]
          },
          "metadata": {}
        },
        {
          "output_type": "display_data",
          "data": {
            "text/plain": [
              "\u001b[1m Total params: \u001b[0m\u001b[38;5;34m5,000\u001b[0m (19.53 KB)\n"
            ],
            "text/html": [
              "<pre style=\"white-space:pre;overflow-x:auto;line-height:normal;font-family:Menlo,'DejaVu Sans Mono',consolas,'Courier New',monospace\"><span style=\"font-weight: bold\"> Total params: </span><span style=\"color: #00af00; text-decoration-color: #00af00\">5,000</span> (19.53 KB)\n",
              "</pre>\n"
            ]
          },
          "metadata": {}
        },
        {
          "output_type": "display_data",
          "data": {
            "text/plain": [
              "\u001b[1m Trainable params: \u001b[0m\u001b[38;5;34m5,000\u001b[0m (19.53 KB)\n"
            ],
            "text/html": [
              "<pre style=\"white-space:pre;overflow-x:auto;line-height:normal;font-family:Menlo,'DejaVu Sans Mono',consolas,'Courier New',monospace\"><span style=\"font-weight: bold\"> Trainable params: </span><span style=\"color: #00af00; text-decoration-color: #00af00\">5,000</span> (19.53 KB)\n",
              "</pre>\n"
            ]
          },
          "metadata": {}
        },
        {
          "output_type": "display_data",
          "data": {
            "text/plain": [
              "\u001b[1m Non-trainable params: \u001b[0m\u001b[38;5;34m0\u001b[0m (0.00 B)\n"
            ],
            "text/html": [
              "<pre style=\"white-space:pre;overflow-x:auto;line-height:normal;font-family:Menlo,'DejaVu Sans Mono',consolas,'Courier New',monospace\"><span style=\"font-weight: bold\"> Non-trainable params: </span><span style=\"color: #00af00; text-decoration-color: #00af00\">0</span> (0.00 B)\n",
              "</pre>\n"
            ]
          },
          "metadata": {}
        }
      ]
    },
    {
      "cell_type": "code",
      "source": [
        "#The world is a better place\n",
        "embedded_docs[0]"
      ],
      "metadata": {
        "colab": {
          "base_uri": "https://localhost:8080/"
        },
        "id": "Vb65TH8jn9nm",
        "outputId": "f1da7d04-257e-4a2c-b3c8-757174287ec7"
      },
      "execution_count": 57,
      "outputs": [
        {
          "output_type": "execute_result",
          "data": {
            "text/plain": [
              "array([  0,   0, 257, 251,  85,  56, 223, 186], dtype=int32)"
            ]
          },
          "metadata": {},
          "execution_count": 57
        }
      ]
    },
    {
      "cell_type": "code",
      "source": [
        "model.predict(np.array([embedded_docs[0]]))\n"
      ],
      "metadata": {
        "colab": {
          "base_uri": "https://localhost:8080/"
        },
        "id": "vwEk0ONvoJHM",
        "outputId": "5669b7d9-9b8e-4114-8856-c743c8650118"
      },
      "execution_count": 59,
      "outputs": [
        {
          "output_type": "stream",
          "name": "stdout",
          "text": [
            "\u001b[1m1/1\u001b[0m \u001b[32m━━━━━━━━━━━━━━━━━━━━\u001b[0m\u001b[37m\u001b[0m \u001b[1m0s\u001b[0m 124ms/step\n"
          ]
        },
        {
          "output_type": "execute_result",
          "data": {
            "text/plain": [
              "array([[[-0.01652237, -0.02707862,  0.04576821, -0.02202795,\n",
              "          0.0033007 , -0.00192076,  0.04730621, -0.0342581 ,\n",
              "         -0.03830659, -0.00845622],\n",
              "        [-0.01652237, -0.02707862,  0.04576821, -0.02202795,\n",
              "          0.0033007 , -0.00192076,  0.04730621, -0.0342581 ,\n",
              "         -0.03830659, -0.00845622],\n",
              "        [ 0.03682784, -0.03601338, -0.01777239, -0.0160936 ,\n",
              "          0.0044561 ,  0.03890815, -0.0166141 ,  0.01306112,\n",
              "          0.01354002, -0.04067151],\n",
              "        [ 0.00800214,  0.04850599,  0.00721656,  0.01532287,\n",
              "         -0.00478878,  0.04521171, -0.03080991, -0.00036003,\n",
              "         -0.01771525,  0.03146398],\n",
              "        [-0.03884908, -0.04361233,  0.01271698, -0.01076504,\n",
              "         -0.00937548, -0.01057751,  0.02311165, -0.00848808,\n",
              "         -0.00139811, -0.01825937],\n",
              "        [ 0.02724079, -0.02899205,  0.03756764, -0.0020768 ,\n",
              "          0.04412803,  0.00500502,  0.02248311,  0.03347499,\n",
              "         -0.01311658, -0.0172801 ],\n",
              "        [-0.0423183 ,  0.03584209,  0.02773157, -0.00042623,\n",
              "         -0.02672966,  0.02895284, -0.00530352, -0.01383554,\n",
              "          0.02678492,  0.00336367],\n",
              "        [ 0.02740247,  0.03477049,  0.01664095,  0.01985631,\n",
              "          0.03992983, -0.00588561,  0.00323104,  0.04998613,\n",
              "         -0.0140265 ,  0.04359139]]], dtype=float32)"
            ]
          },
          "metadata": {},
          "execution_count": 59
        }
      ]
    },
    {
      "cell_type": "code",
      "source": [
        "print(model.predict(embedded_docs))"
      ],
      "metadata": {
        "colab": {
          "base_uri": "https://localhost:8080/"
        },
        "id": "ks2QxEW-pDjj",
        "outputId": "f54afc57-38fc-47b8-c3c9-1908fd639d1f"
      },
      "execution_count": 60,
      "outputs": [
        {
          "output_type": "stream",
          "name": "stdout",
          "text": [
            "\u001b[1m1/1\u001b[0m \u001b[32m━━━━━━━━━━━━━━━━━━━━\u001b[0m\u001b[37m\u001b[0m \u001b[1m0s\u001b[0m 68ms/step\n",
            "[[[-1.65223703e-02 -2.70786174e-02  4.57682125e-02 -2.20279451e-02\n",
            "    3.30070406e-03 -1.92075968e-03  4.73062135e-02 -3.42581049e-02\n",
            "   -3.83065939e-02 -8.45621899e-03]\n",
            "  [-1.65223703e-02 -2.70786174e-02  4.57682125e-02 -2.20279451e-02\n",
            "    3.30070406e-03 -1.92075968e-03  4.73062135e-02 -3.42581049e-02\n",
            "   -3.83065939e-02 -8.45621899e-03]\n",
            "  [ 3.68278362e-02 -3.60133760e-02 -1.77723877e-02 -1.60936005e-02\n",
            "    4.45610285e-03  3.89081500e-02 -1.66141018e-02  1.30611174e-02\n",
            "    1.35400183e-02 -4.06715050e-02]\n",
            "  [ 8.00213963e-03  4.85059880e-02  7.21656159e-03  1.53228678e-02\n",
            "   -4.78877872e-03  4.52117063e-02 -3.08099147e-02 -3.60034406e-04\n",
            "   -1.77152529e-02  3.14639844e-02]\n",
            "  [-3.88490781e-02 -4.36123274e-02  1.27169751e-02 -1.07650384e-02\n",
            "   -9.37547535e-03 -1.05775110e-02  2.31116451e-02 -8.48808140e-03\n",
            "   -1.39810890e-03 -1.82593688e-02]\n",
            "  [ 2.72407867e-02 -2.89920457e-02  3.75676416e-02 -2.07680464e-03\n",
            "    4.41280268e-02  5.00502437e-03  2.24831142e-02  3.34749930e-02\n",
            "   -1.31165758e-02 -1.72801018e-02]\n",
            "  [-4.23182957e-02  3.58420946e-02  2.77315713e-02 -4.26232815e-04\n",
            "   -2.67296564e-02  2.89528407e-02 -5.30352443e-03 -1.38355382e-02\n",
            "    2.67849229e-02  3.36366892e-03]\n",
            "  [ 2.74024718e-02  3.47704925e-02  1.66409500e-02  1.98563077e-02\n",
            "    3.99298333e-02 -5.88561222e-03  3.23103741e-03  4.99861278e-02\n",
            "   -1.40265003e-02  4.35913913e-02]]\n",
            "\n",
            " [[-1.65223703e-02 -2.70786174e-02  4.57682125e-02 -2.20279451e-02\n",
            "    3.30070406e-03 -1.92075968e-03  4.73062135e-02 -3.42581049e-02\n",
            "   -3.83065939e-02 -8.45621899e-03]\n",
            "  [-1.65223703e-02 -2.70786174e-02  4.57682125e-02 -2.20279451e-02\n",
            "    3.30070406e-03 -1.92075968e-03  4.73062135e-02 -3.42581049e-02\n",
            "   -3.83065939e-02 -8.45621899e-03]\n",
            "  [ 4.13972624e-02  1.54418461e-02  4.80272807e-02  3.29425372e-02\n",
            "   -2.24601272e-02 -2.31196769e-02  3.06961276e-02  4.66234200e-02\n",
            "    2.32636966e-02 -4.57045808e-02]\n",
            "  [-3.30462828e-02 -2.24694852e-02  3.52654792e-02  3.91023234e-03\n",
            "   -2.28585489e-02 -3.40890884e-03 -3.52484100e-02  3.60274576e-02\n",
            "    3.73796858e-02  2.86245085e-02]\n",
            "  [-3.88490781e-02 -4.36123274e-02  1.27169751e-02 -1.07650384e-02\n",
            "   -9.37547535e-03 -1.05775110e-02  2.31116451e-02 -8.48808140e-03\n",
            "   -1.39810890e-03 -1.82593688e-02]\n",
            "  [-1.56720988e-02 -2.36545689e-02  3.79996784e-02 -2.18646061e-02\n",
            "   -1.63118131e-02 -2.41457708e-02 -1.44758224e-02  1.14542022e-02\n",
            "    1.54128708e-02  4.82535847e-02]\n",
            "  [ 3.46401073e-02  1.33189075e-02 -5.73528931e-03  1.15439892e-02\n",
            "    2.95364521e-02 -4.40409780e-02  4.72371653e-03 -4.31565307e-02\n",
            "    3.13556530e-02  4.35531624e-02]\n",
            "  [-1.21082775e-02  1.37111209e-02  4.86093797e-02  1.31028630e-02\n",
            "   -4.75108624e-04 -1.70382634e-02  4.40481417e-02  8.74660909e-04\n",
            "   -1.78227797e-02 -1.06612667e-02]]\n",
            "\n",
            " [[-1.65223703e-02 -2.70786174e-02  4.57682125e-02 -2.20279451e-02\n",
            "    3.30070406e-03 -1.92075968e-03  4.73062135e-02 -3.42581049e-02\n",
            "   -3.83065939e-02 -8.45621899e-03]\n",
            "  [-1.65223703e-02 -2.70786174e-02  4.57682125e-02 -2.20279451e-02\n",
            "    3.30070406e-03 -1.92075968e-03  4.73062135e-02 -3.42581049e-02\n",
            "   -3.83065939e-02 -8.45621899e-03]\n",
            "  [-1.65223703e-02 -2.70786174e-02  4.57682125e-02 -2.20279451e-02\n",
            "    3.30070406e-03 -1.92075968e-03  4.73062135e-02 -3.42581049e-02\n",
            "   -3.83065939e-02 -8.45621899e-03]\n",
            "  [-1.65223703e-02 -2.70786174e-02  4.57682125e-02 -2.20279451e-02\n",
            "    3.30070406e-03 -1.92075968e-03  4.73062135e-02 -3.42581049e-02\n",
            "   -3.83065939e-02 -8.45621899e-03]\n",
            "  [-2.81376597e-02 -1.78722367e-02  4.14671563e-02  4.93217446e-02\n",
            "    3.14385556e-02 -4.69908491e-02 -1.26982443e-02  3.04539837e-02\n",
            "   -3.43202129e-02 -9.33825970e-03]\n",
            "  [ 2.90765427e-02  4.49364074e-02 -1.35575645e-02 -2.92181857e-02\n",
            "   -1.22219324e-03  4.78183366e-02  4.97488119e-02  2.90234014e-03\n",
            "   -2.55477075e-02 -3.48640904e-02]\n",
            "  [-1.73646212e-02 -1.04027018e-02  2.42428817e-02  3.78316082e-02\n",
            "    9.72971320e-05  4.60780784e-03 -1.89295057e-02  5.19486517e-03\n",
            "   -1.89826731e-02  4.15645726e-02]\n",
            "  [-4.00857925e-02  3.62699293e-02 -1.23317614e-02  2.24654414e-02\n",
            "    5.22581488e-03 -1.24378428e-02 -8.44983011e-03  3.61199118e-02\n",
            "    3.45015787e-02 -4.51352857e-02]]\n",
            "\n",
            " [[-1.65223703e-02 -2.70786174e-02  4.57682125e-02 -2.20279451e-02\n",
            "    3.30070406e-03 -1.92075968e-03  4.73062135e-02 -3.42581049e-02\n",
            "   -3.83065939e-02 -8.45621899e-03]\n",
            "  [-1.65223703e-02 -2.70786174e-02  4.57682125e-02 -2.20279451e-02\n",
            "    3.30070406e-03 -1.92075968e-03  4.73062135e-02 -3.42581049e-02\n",
            "   -3.83065939e-02 -8.45621899e-03]\n",
            "  [ 3.68278362e-02 -3.60133760e-02 -1.77723877e-02 -1.60936005e-02\n",
            "    4.45610285e-03  3.89081500e-02 -1.66141018e-02  1.30611174e-02\n",
            "    1.35400183e-02 -4.06715050e-02]\n",
            "  [ 2.76031233e-02  1.83387659e-02 -2.61488203e-02 -8.83699581e-03\n",
            "   -1.65947676e-02 -2.66742464e-02  4.46032733e-04 -1.86160579e-02\n",
            "   -2.83911712e-02  1.18333697e-02]\n",
            "  [-3.88490781e-02 -4.36123274e-02  1.27169751e-02 -1.07650384e-02\n",
            "   -9.37547535e-03 -1.05775110e-02  2.31116451e-02 -8.48808140e-03\n",
            "   -1.39810890e-03 -1.82593688e-02]\n",
            "  [ 2.08749436e-02  2.94703506e-02  4.21414487e-02  1.39016770e-02\n",
            "    4.08468135e-02  4.51958068e-02  3.90956551e-03  9.42413881e-03\n",
            "   -3.71138565e-02  1.15034357e-02]\n",
            "  [ 3.68278362e-02 -3.60133760e-02 -1.77723877e-02 -1.60936005e-02\n",
            "    4.45610285e-03  3.89081500e-02 -1.66141018e-02  1.30611174e-02\n",
            "    1.35400183e-02 -4.06715050e-02]\n",
            "  [-3.39592844e-02  3.35420407e-02  3.37321050e-02 -1.10062584e-02\n",
            "   -3.56493704e-02  7.54536316e-03 -9.22782347e-03 -3.70430239e-02\n",
            "    3.64841148e-03 -2.31096745e-02]]\n",
            "\n",
            " [[-1.65223703e-02 -2.70786174e-02  4.57682125e-02 -2.20279451e-02\n",
            "    3.30070406e-03 -1.92075968e-03  4.73062135e-02 -3.42581049e-02\n",
            "   -3.83065939e-02 -8.45621899e-03]\n",
            "  [ 1.14364028e-02 -3.00079584e-02 -4.81762774e-02  2.00587772e-02\n",
            "    5.55821508e-03 -1.72394626e-02  1.56701468e-02  1.47368759e-03\n",
            "    2.83869170e-02  5.81346825e-03]\n",
            "  [-3.10939550e-03 -4.61138599e-02  4.31237258e-02  4.28268425e-02\n",
            "    2.04334967e-02  3.98996808e-02  1.52083524e-02  3.85861732e-02\n",
            "    4.44262885e-02 -6.51652738e-03]\n",
            "  [ 1.64378919e-02 -4.65498827e-02 -4.12604809e-02  1.90154202e-02\n",
            "   -2.53954884e-02 -3.24719325e-02  1.00072473e-03  1.35639943e-02\n",
            "    2.12328918e-02 -4.60453518e-02]\n",
            "  [-3.88490781e-02 -4.36123274e-02  1.27169751e-02 -1.07650384e-02\n",
            "   -9.37547535e-03 -1.05775110e-02  2.31116451e-02 -8.48808140e-03\n",
            "   -1.39810890e-03 -1.82593688e-02]\n",
            "  [-1.56720988e-02 -2.36545689e-02  3.79996784e-02 -2.18646061e-02\n",
            "   -1.63118131e-02 -2.41457708e-02 -1.44758224e-02  1.14542022e-02\n",
            "    1.54128708e-02  4.82535847e-02]\n",
            "  [ 3.46401073e-02  1.33189075e-02 -5.73528931e-03  1.15439892e-02\n",
            "    2.95364521e-02 -4.40409780e-02  4.72371653e-03 -4.31565307e-02\n",
            "    3.13556530e-02  4.35531624e-02]\n",
            "  [-1.21082775e-02  1.37111209e-02  4.86093797e-02  1.31028630e-02\n",
            "   -4.75108624e-04 -1.70382634e-02  4.40481417e-02  8.74660909e-04\n",
            "   -1.78227797e-02 -1.06612667e-02]]\n",
            "\n",
            " [[-1.65223703e-02 -2.70786174e-02  4.57682125e-02 -2.20279451e-02\n",
            "    3.30070406e-03 -1.92075968e-03  4.73062135e-02 -3.42581049e-02\n",
            "   -3.83065939e-02 -8.45621899e-03]\n",
            "  [-1.65223703e-02 -2.70786174e-02  4.57682125e-02 -2.20279451e-02\n",
            "    3.30070406e-03 -1.92075968e-03  4.73062135e-02 -3.42581049e-02\n",
            "   -3.83065939e-02 -8.45621899e-03]\n",
            "  [ 6.11655414e-05 -1.72633417e-02  1.66017935e-03  2.46019848e-02\n",
            "   -4.05700095e-02 -3.28629166e-02 -7.66813755e-04  2.45939754e-02\n",
            "    2.32998021e-02 -3.07335500e-02]\n",
            "  [-3.88490781e-02 -4.36123274e-02  1.27169751e-02 -1.07650384e-02\n",
            "   -9.37547535e-03 -1.05775110e-02  2.31116451e-02 -8.48808140e-03\n",
            "   -1.39810890e-03 -1.82593688e-02]\n",
            "  [-1.56720988e-02 -2.36545689e-02  3.79996784e-02 -2.18646061e-02\n",
            "   -1.63118131e-02 -2.41457708e-02 -1.44758224e-02  1.14542022e-02\n",
            "    1.54128708e-02  4.82535847e-02]\n",
            "  [ 3.46401073e-02  1.33189075e-02 -5.73528931e-03  1.15439892e-02\n",
            "    2.95364521e-02 -4.40409780e-02  4.72371653e-03 -4.31565307e-02\n",
            "    3.13556530e-02  4.35531624e-02]\n",
            "  [-1.27527341e-02  4.95513119e-02  4.90932800e-02  3.18629257e-02\n",
            "    1.95932277e-02 -2.36208569e-02 -3.86814363e-02  2.39804871e-02\n",
            "   -1.04125030e-02  2.81593315e-02]\n",
            "  [-4.20344472e-02  3.74363102e-02  3.80153768e-02  1.84540041e-02\n",
            "    4.15713303e-02 -7.74648041e-03  3.47901694e-02  1.49927288e-03\n",
            "    3.91902365e-02  1.85530297e-02]]]\n"
          ]
        }
      ]
    },
    {
      "cell_type": "code",
      "source": [
        "weights = model.get_weights()[0]\n",
        "len(weights)"
      ],
      "metadata": {
        "colab": {
          "base_uri": "https://localhost:8080/"
        },
        "id": "-LMvoWRAs33O",
        "outputId": "45253e42-7ddf-4f60-fdf9-3cd6b1920474"
      },
      "execution_count": 62,
      "outputs": [
        {
          "output_type": "execute_result",
          "data": {
            "text/plain": [
              "500"
            ]
          },
          "metadata": {},
          "execution_count": 62
        }
      ]
    },
    {
      "cell_type": "code",
      "source": [
        "# weights of cat\n",
        "weights[121]"
      ],
      "metadata": {
        "colab": {
          "base_uri": "https://localhost:8080/"
        },
        "id": "Ff5vdEKdtfE1",
        "outputId": "b155a30f-0fa2-4af2-f7fc-c4e7146b34ae"
      },
      "execution_count": 63,
      "outputs": [
        {
          "output_type": "execute_result",
          "data": {
            "text/plain": [
              "array([ 0.02760312,  0.01833877, -0.02614882, -0.008837  , -0.01659477,\n",
              "       -0.02667425,  0.00044603, -0.01861606, -0.02839117,  0.01183337],\n",
              "      dtype=float32)"
            ]
          },
          "metadata": {},
          "execution_count": 63
        }
      ]
    },
    {
      "cell_type": "code",
      "source": [
        "#weights of tom\n",
        "weights[44]"
      ],
      "metadata": {
        "colab": {
          "base_uri": "https://localhost:8080/"
        },
        "id": "xUKMgSGTuJw4",
        "outputId": "54fd9bfd-c747-43d7-cd86-307986e0ba53"
      },
      "execution_count": 64,
      "outputs": [
        {
          "output_type": "execute_result",
          "data": {
            "text/plain": [
              "array([ 0.0114364 , -0.03000796, -0.04817628,  0.02005878,  0.00555822,\n",
              "       -0.01723946,  0.01567015,  0.00147369,  0.02838692,  0.00581347],\n",
              "      dtype=float32)"
            ]
          },
          "metadata": {},
          "execution_count": 64
        }
      ]
    }
  ]
}