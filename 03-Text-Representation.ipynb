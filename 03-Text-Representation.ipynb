{
 "cells": [
  {
   "cell_type": "markdown",
   "id": "f04f9ac9",
   "metadata": {},
   "source": [
    "# Introduction to text representation\n"
   ]
  },
  {
   "cell_type": "markdown",
   "id": "caaec0d9",
   "metadata": {},
   "source": [
    "### basically is the process to convert text into vectors by using Two famous technique BAG OF WORDS and TFIDF"
   ]
  },
  {
   "cell_type": "markdown",
   "id": "74e5ff0a",
   "metadata": {},
   "source": [
    "1. what is feature Extraction from text?\n",
    "2. why do we need it?\n",
    "3. why is it difficult?\n",
    "4. what is the core idea?\n",
    "5. what are the techniques\n"
   ]
  },
  {
   "cell_type": "markdown",
   "id": "846ff1f4",
   "metadata": {},
   "source": [
    "1. Feature Extraction: As we know machine/algorithm can not understand the text data. It only understand number/maths. so\n",
    "The process of converting text as number is called feature Extration.It it also called as text representation or text vectarization. \n",
    "\n",
    "\n",
    "It is to difficult to convert text as number. \n",
    "picture to number easy bacause picture has many pixel value, same for  speech but for text it is difficult\n",
    " "
   ]
  },
  {
   "cell_type": "markdown",
   "id": "0092ab09",
   "metadata": {},
   "source": [
    "## Some technique \n",
    "### Machine Learning based approach\n",
    "1. One Hot Encoding(Ohe)\n",
    "2. Bag Of Word(Bow)\n",
    "3. Ngrams\n",
    "4. TFIDF\n",
    "5. Custom Feature(self made)\n",
    "\n",
    "### Some deep learning based approach\n",
    "1. Word2Vec/Embedding (Word to Vector)\n"
   ]
  },
  {
   "cell_type": "markdown",
   "id": "48ada0cd",
   "metadata": {},
   "source": [
    "some common terms we have to know \n",
    "1.corpus(if we add all the data of any dataset this is called corpus)\n",
    "2. vocabulary (Unique words of corpus )"
   ]
  },
  {
   "cell_type": "markdown",
   "id": "530f5044",
   "metadata": {},
   "source": [
    "## One hot encoding"
   ]
  },
  {
   "cell_type": "markdown",
   "id": "bf481ada",
   "metadata": {},
   "source": [
    "## Flaws of One hot encoding\n",
    "\n",
    "1.Sparsity.\n",
    "\n",
    "2.No fixed size.\n",
    "\n",
    "3.OOV(out of vocabulary).\n",
    "\n",
    "4.No capturing of semantic meaning."
   ]
  },
  {
   "cell_type": "markdown",
   "id": "25423d1c",
   "metadata": {},
   "source": [
    "## Bag of Word implementation"
   ]
  },
  {
   "cell_type": "code",
   "execution_count": 54,
   "id": "675df87c",
   "metadata": {},
   "outputs": [],
   "source": [
    "import numpy as np\n",
    "import pandas as pd\n"
   ]
  },
  {
   "cell_type": "code",
   "execution_count": 55,
   "id": "6ba9e65c",
   "metadata": {},
   "outputs": [],
   "source": [
    "df=pd.DataFrame({'text':['People watch creator','creator watch creator','people write text','creator write text'],'output':[1,1,0,0]})"
   ]
  },
  {
   "cell_type": "code",
   "execution_count": 56,
   "id": "4c0ac582",
   "metadata": {},
   "outputs": [
    {
     "data": {
      "text/html": [
       "<div>\n",
       "<style scoped>\n",
       "    .dataframe tbody tr th:only-of-type {\n",
       "        vertical-align: middle;\n",
       "    }\n",
       "\n",
       "    .dataframe tbody tr th {\n",
       "        vertical-align: top;\n",
       "    }\n",
       "\n",
       "    .dataframe thead th {\n",
       "        text-align: right;\n",
       "    }\n",
       "</style>\n",
       "<table border=\"1\" class=\"dataframe\">\n",
       "  <thead>\n",
       "    <tr style=\"text-align: right;\">\n",
       "      <th></th>\n",
       "      <th>text</th>\n",
       "      <th>output</th>\n",
       "    </tr>\n",
       "  </thead>\n",
       "  <tbody>\n",
       "    <tr>\n",
       "      <th>0</th>\n",
       "      <td>People watch creator</td>\n",
       "      <td>1</td>\n",
       "    </tr>\n",
       "    <tr>\n",
       "      <th>1</th>\n",
       "      <td>creator watch creator</td>\n",
       "      <td>1</td>\n",
       "    </tr>\n",
       "    <tr>\n",
       "      <th>2</th>\n",
       "      <td>people write text</td>\n",
       "      <td>0</td>\n",
       "    </tr>\n",
       "    <tr>\n",
       "      <th>3</th>\n",
       "      <td>creator write text</td>\n",
       "      <td>0</td>\n",
       "    </tr>\n",
       "  </tbody>\n",
       "</table>\n",
       "</div>"
      ],
      "text/plain": [
       "                    text  output\n",
       "0   People watch creator       1\n",
       "1  creator watch creator       1\n",
       "2      people write text       0\n",
       "3     creator write text       0"
      ]
     },
     "execution_count": 56,
     "metadata": {},
     "output_type": "execute_result"
    }
   ],
   "source": [
    "df"
   ]
  },
  {
   "cell_type": "code",
   "execution_count": 57,
   "id": "dcd83878",
   "metadata": {},
   "outputs": [],
   "source": [
    "from sklearn.feature_extraction.text import CountVectorizer\n",
    "cv=CountVectorizer()\n",
    "Bag_of_words=cv.fit_transform(df['text'])  "
   ]
  },
  {
   "cell_type": "code",
   "execution_count": 58,
   "id": "c1ba8bc6",
   "metadata": {},
   "outputs": [
    {
     "name": "stdout",
     "output_type": "stream",
     "text": [
      "{'people': 1, 'watch': 3, 'creator': 0, 'write': 4, 'text': 2}\n"
     ]
    }
   ],
   "source": [
    "# printing the vocabulary\n",
    "print(cv.vocabulary_)"
   ]
  },
  {
   "cell_type": "code",
   "execution_count": 59,
   "id": "6a742bdd",
   "metadata": {},
   "outputs": [
    {
     "name": "stdout",
     "output_type": "stream",
     "text": [
      "[[1 1 0 1 0]]\n",
      "[[2 0 0 1 0]]\n"
     ]
    }
   ],
   "source": [
    "# print the vector of first and 2nd row\n",
    "print(Bag_of_words[0].toarray())\n",
    "print(Bag_of_words[1].toarray())"
   ]
  },
  {
   "cell_type": "code",
   "execution_count": 60,
   "id": "f686ea73",
   "metadata": {},
   "outputs": [
    {
     "data": {
      "text/plain": [
       "array([[2, 0, 1, 1, 1]], dtype=int64)"
      ]
     },
     "execution_count": 60,
     "metadata": {},
     "output_type": "execute_result"
    }
   ],
   "source": [
    "cv.transform(['creator watch and creator write text']).toarray()\n",
    "# as we can see here and is not count as one word because it is not in vocabulary. this is how it solve the out of vocabulary problem"
   ]
  },
  {
   "cell_type": "markdown",
   "id": "a7207ff9",
   "metadata": {},
   "source": [
    "# Disadvantage of bag of words\n",
    "1. Sparsity\n",
    "2. oov(it is not considering words which is not in vocabulary)\n",
    "3. Ordering(bag of words does not consider order of word in a sentense. Thats why some times meaning of sentense changed)\n",
    "4. let consider 2 sentense i: this is a very good answer \n",
    "ii: this is not very good answer. Bag of words consider these two sentense similar. but in reality these two sentense ar totally oposite to each other.\n"
   ]
  },
  {
   "cell_type": "markdown",
   "id": "8353a357",
   "metadata": {},
   "source": [
    "# N-grams "
   ]
  },
  {
   "cell_type": "markdown",
   "id": "96ea19be",
   "metadata": {},
   "source": [
    "#### using one hot encoding,bag of words we can not able to take ordering of words in consideration.N-grams solve this flaws . \n",
    "#### Key-concept: Combination of multiple words to create vocabulary or equences of N words used to capture more context than individual words. Includes unigrams, bigrams, and trigrams."
   ]
  },
  {
   "cell_type": "markdown",
   "id": "a452a8fd",
   "metadata": {},
   "source": [
    "#### It can be bi-gram,tri-gram,quad-gram\n",
    "bi-gram= 2 words,tri-grams=3 words etc"
   ]
  },
  {
   "cell_type": "code",
   "execution_count": 61,
   "id": "93b93602",
   "metadata": {},
   "outputs": [
    {
     "data": {
      "text/html": [
       "<div>\n",
       "<style scoped>\n",
       "    .dataframe tbody tr th:only-of-type {\n",
       "        vertical-align: middle;\n",
       "    }\n",
       "\n",
       "    .dataframe tbody tr th {\n",
       "        vertical-align: top;\n",
       "    }\n",
       "\n",
       "    .dataframe thead th {\n",
       "        text-align: right;\n",
       "    }\n",
       "</style>\n",
       "<table border=\"1\" class=\"dataframe\">\n",
       "  <thead>\n",
       "    <tr style=\"text-align: right;\">\n",
       "      <th></th>\n",
       "      <th>text</th>\n",
       "      <th>output</th>\n",
       "    </tr>\n",
       "  </thead>\n",
       "  <tbody>\n",
       "    <tr>\n",
       "      <th>0</th>\n",
       "      <td>People watch creator</td>\n",
       "      <td>1</td>\n",
       "    </tr>\n",
       "    <tr>\n",
       "      <th>1</th>\n",
       "      <td>creator watch creator</td>\n",
       "      <td>1</td>\n",
       "    </tr>\n",
       "    <tr>\n",
       "      <th>2</th>\n",
       "      <td>people write text</td>\n",
       "      <td>0</td>\n",
       "    </tr>\n",
       "    <tr>\n",
       "      <th>3</th>\n",
       "      <td>creator write text</td>\n",
       "      <td>0</td>\n",
       "    </tr>\n",
       "  </tbody>\n",
       "</table>\n",
       "</div>"
      ],
      "text/plain": [
       "                    text  output\n",
       "0   People watch creator       1\n",
       "1  creator watch creator       1\n",
       "2      people write text       0\n",
       "3     creator write text       0"
      ]
     },
     "execution_count": 61,
     "metadata": {},
     "output_type": "execute_result"
    }
   ],
   "source": [
    "df "
   ]
  },
  {
   "cell_type": "code",
   "execution_count": 62,
   "id": "846b6b23",
   "metadata": {},
   "outputs": [
    {
     "name": "stdout",
     "output_type": "stream",
     "text": [
      "{'people watch': 2, 'watch creator': 4, 'creator watch': 0, 'people write': 3, 'write text': 5, 'creator write': 1}\n",
      "[[0 0 1 0 1 0]]\n",
      "[[1 0 0 0 1 0]]\n"
     ]
    }
   ],
   "source": [
    "cv=CountVectorizer(ngram_range=(2,2))\n",
    "Bag_of_words=cv.fit_transform(df['text'])\n",
    "\n",
    "print(cv.vocabulary_)\n",
    "print(Bag_of_words[0].toarray())\n",
    "print(Bag_of_words[1].toarray())\n"
   ]
  },
  {
   "cell_type": "code",
   "execution_count": 63,
   "id": "0ecffa47",
   "metadata": {},
   "outputs": [
    {
     "name": "stdout",
     "output_type": "stream",
     "text": [
      "{'people watch creator': 2, 'creator watch creator': 0, 'people write text': 3, 'creator write text': 1}\n",
      "[[0 0 1 0]]\n",
      "[[1 0 0 0]]\n"
     ]
    }
   ],
   "source": [
    "#tri-grams\n",
    "cv=CountVectorizer(ngram_range=(3,3))\n",
    "Bag_of_words=cv.fit_transform(df['text'])\n",
    "\n",
    "print(cv.vocabulary_)\n",
    "print(Bag_of_words[0].toarray())\n",
    "print(Bag_of_words[1].toarray())"
   ]
  },
  {
   "cell_type": "code",
   "execution_count": 64,
   "id": "81607d0d",
   "metadata": {},
   "outputs": [
    {
     "name": "stdout",
     "output_type": "stream",
     "text": [
      "{'people': 3, 'watch': 7, 'creator': 0, 'people watch': 4, 'watch creator': 8, 'creator watch': 1, 'write': 9, 'text': 6, 'people write': 5, 'write text': 10, 'creator write': 2}\n",
      "[[1 0 0 1 1 0 0 1 1 0 0]]\n",
      "[[2 1 0 0 0 0 0 1 1 0 0]]\n"
     ]
    }
   ],
   "source": [
    "# combination of unigrams and bigrams\n",
    "cv=CountVectorizer(ngram_range=(1,2))  # 1,2 means unigrams and bigrams\n",
    "Bag_of_words=cv.fit_transform(df['text'])\n",
    "\n",
    "print(cv.vocabulary_)\n",
    "print(Bag_of_words[0].toarray())\n",
    "print(Bag_of_words[1].toarray())"
   ]
  },
  {
   "cell_type": "code",
   "execution_count": 65,
   "id": "7c5483ee",
   "metadata": {},
   "outputs": [],
   "source": [
    "# #quad-grams \n",
    "# # it will show an error because no document exist with 4 word\n",
    "# cv=CountVectorizer(ngram_range=(4,4))\n",
    "# #Bag_of_words=cv.fit_transform(df['text'])\n",
    "\n",
    "# print(cv.vocabulary_)\n",
    "# print(Bag_of_words[0].toarray())\n",
    "# print(Bag_of_words[1].toarray())"
   ]
  },
  {
   "cell_type": "code",
   "execution_count": 66,
   "id": "275ab795",
   "metadata": {},
   "outputs": [
    {
     "name": "stdout",
     "output_type": "stream",
     "text": [
      "5\n"
     ]
    }
   ],
   "source": [
    "#length of text vocabulary\n",
    "cv=CountVectorizer(analyzer='word',ngram_range=(1,1))\n",
    "Bag_of_words=cv.fit_transform(df['text'])\n",
    "\n",
    "print(len(cv.vocabulary_))\n"
   ]
  },
  {
   "cell_type": "code",
   "execution_count": 67,
   "id": "ea4acd8a",
   "metadata": {},
   "outputs": [
    {
     "name": "stdout",
     "output_type": "stream",
     "text": [
      "11\n"
     ]
    }
   ],
   "source": [
    "#length of text vocabulary for unigrams and bigrams\n",
    "cv=CountVectorizer(analyzer='word',ngram_range=(1,2))\n",
    "Bag_of_words=cv.fit_transform(df['text'])\n",
    "\n",
    "print(len(cv.vocabulary_))"
   ]
  },
  {
   "cell_type": "code",
   "execution_count": 68,
   "id": "c0fd718f",
   "metadata": {},
   "outputs": [
    {
     "name": "stdout",
     "output_type": "stream",
     "text": [
      "11\n"
     ]
    }
   ],
   "source": [
    "#length of text vocabulary for unigrams and bigrams\n",
    "cv=CountVectorizer(analyzer='word',ngram_range=(1,2))\n",
    "Bag_of_words=cv.fit_transform(df['text'])\n",
    "\n",
    "print(len(cv.vocabulary_))"
   ]
  },
  {
   "cell_type": "code",
   "execution_count": 69,
   "id": "e78b914b",
   "metadata": {},
   "outputs": [
    {
     "name": "stdout",
     "output_type": "stream",
     "text": [
      "15\n"
     ]
    }
   ],
   "source": [
    "#length of text vocabulary for unigrams and bigrams and trigrams\n",
    "cv=CountVectorizer(analyzer='word',ngram_range=(1,3))\n",
    "Bag_of_words=cv.fit_transform(df['text'])\n",
    "\n",
    "print(len(cv.vocabulary_))"
   ]
  },
  {
   "cell_type": "markdown",
   "id": "63bea887",
   "metadata": {},
   "source": [
    "## advantage\n",
    "1. Able to capture semantic meaning of any sentense\n",
    "2. Easy to implement and intuitive\n",
    "## Disadvantage\n",
    "1.  number of terms in vocabulary unigram< bi-grams< tri-grams thats mean slow because of more computionality(\n",
    "    for above data frame 5 terms in vocabulary in unigrams on other hand 6 terms in vocabulary in bi_grams\n",
    ")"
   ]
  },
  {
   "cell_type": "markdown",
   "id": "f4a2d445",
   "metadata": {},
   "source": [
    "# Tf-Idf(Term Frequency-Inverse Document Frequency)"
   ]
  },
  {
   "cell_type": "markdown",
   "id": "fe9777af",
   "metadata": {},
   "source": [
    "##### A weighting scheme that measures the importance of a word in a document relative to a collection of documents (corpus)."
   ]
  },
  {
   "cell_type": "markdown",
   "id": "a146568a",
   "metadata": {},
   "source": [
    "TF=Number of occurance of term t in document d/ total number of terms in the document d\n",
    "\n",
    "IDF= loge (total number of documents in the corpus)/(number of document with term t in them)"
   ]
  },
  {
   "cell_type": "code",
   "execution_count": 70,
   "id": "85616b34",
   "metadata": {},
   "outputs": [
    {
     "data": {
      "text/plain": [
       "array([[0.49681612, 0.61366674, 0.        , 0.61366674, 0.        ],\n",
       "       [0.8508161 , 0.        , 0.        , 0.52546357, 0.        ],\n",
       "       [0.        , 0.57735027, 0.57735027, 0.        , 0.57735027],\n",
       "       [0.49681612, 0.        , 0.61366674, 0.        , 0.61366674]])"
      ]
     },
     "execution_count": 70,
     "metadata": {},
     "output_type": "execute_result"
    }
   ],
   "source": [
    "from sklearn.feature_extraction.text import TfidfVectorizer\n",
    "tfidf=TfidfVectorizer()\n",
    "tfidf.fit_transform(df['text']).toarray()"
   ]
  },
  {
   "cell_type": "code",
   "execution_count": 71,
   "id": "d6b9a0a7",
   "metadata": {},
   "outputs": [
    {
     "name": "stdout",
     "output_type": "stream",
     "text": [
      "{'people': 1, 'watch': 3, 'creator': 0, 'write': 4, 'text': 2}\n",
      "[1.22314355 1.51082562 1.51082562 1.51082562 1.51082562]\n"
     ]
    }
   ],
   "source": [
    "print(tfidf.vocabulary_)\n",
    "print(tfidf.idf_)"
   ]
  },
  {
   "cell_type": "markdown",
   "id": "52e07587",
   "metadata": {},
   "source": [
    "# Things before to learn word2vec"
   ]
  },
  {
   "cell_type": "markdown",
   "id": "7edbddf7",
   "metadata": {},
   "source": [
    "#### Word Embeddings\n",
    "\n",
    "Definition:Word embedding is a way of representing words as numerical vectors (lists of numbers) in a continuous, high-dimensional space so that words with similar meanings are located near each other.\n",
    "\n",
    "\n",
    "his allows algorithms to understand relationships such as:\n",
    "Semantic similarity: “king” is close to “queen”.\n",
    "Analogies: “Paris – France ≈ Tokyo – Japan”."
   ]
  },
  {
   "cell_type": "markdown",
   "id": "1d47e520",
   "metadata": {},
   "source": [
    "#### Types :\n",
    "1.Frequency based\n",
    "    i.bag of words\n",
    "    ii. tf-idf\n",
    "    iii.glove(global vector)\n",
    "    iv.maxtrix factorization\n",
    "2.Prediction based\n",
    "   i.Word2Vec"
   ]
  },
  {
   "cell_type": "markdown",
   "id": "148c0b9c",
   "metadata": {},
   "source": [
    "#### What is word2vec?\n",
    "it is a word embedding technique.\n",
    "\n",
    "#### Main advantage:\n",
    "1. we can find or capture  semantic meaning of words. like beautiful and nice these two are similar words.\n",
    "\n",
    "2.Unlike tf-idf,bag of words word2vec create less dimension of vector. tf-idf,bag of words =n dimension but in word2vec maintained it within 100-300 dimension of vector.\n",
    "\n",
    "3. Dense vector( more non zero element in vector). This reduce overfitting.\n"
   ]
  },
  {
   "cell_type": "markdown",
   "id": "d7bf9958",
   "metadata": {},
   "source": [
    "#### Two way to acheive it\n",
    "1. Pre trained(Pre-trained vectors trained on a part of the Google News dataset (about 100 billion words). The model contains 300-dimensional vectors for 3 million words and phrases.)\n",
    "2. Self trained"
   ]
  },
  {
   "cell_type": "code",
   "execution_count": 72,
   "id": "fc0f656a",
   "metadata": {},
   "outputs": [],
   "source": [
    "import gensim\n",
    "from gensim.models import Word2Vec,keyedvectors"
   ]
  },
  {
   "cell_type": "code",
   "execution_count": 73,
   "id": "c2c2b1ae",
   "metadata": {},
   "outputs": [],
   "source": [
    "model=keyedvectors.load_word2vec_format(r\"C:\\Users\\mdans\\Downloads\\GoogleNews-vectors-negative300.bin\\GoogleNews-vectors-negative300.bin\",binary=True,limit=100000)"
   ]
  },
  {
   "cell_type": "code",
   "execution_count": 74,
   "id": "a5e1d6d2",
   "metadata": {},
   "outputs": [
    {
     "data": {
      "text/plain": [
       "(300,)"
      ]
     },
     "execution_count": 74,
     "metadata": {},
     "output_type": "execute_result"
    }
   ],
   "source": [
    "model['man'].shape"
   ]
  },
  {
   "cell_type": "code",
   "execution_count": 75,
   "id": "72a3a1dd",
   "metadata": {},
   "outputs": [
    {
     "data": {
      "text/plain": [
       "array([ 0.32617188,  0.13085938,  0.03466797, -0.08300781,  0.08984375,\n",
       "       -0.04125977, -0.19824219,  0.00689697,  0.14355469,  0.0019455 ,\n",
       "        0.02880859, -0.25      , -0.08398438, -0.15136719, -0.10205078,\n",
       "        0.04077148, -0.09765625,  0.05932617,  0.02978516, -0.10058594,\n",
       "       -0.13085938,  0.001297  ,  0.02612305, -0.27148438,  0.06396484,\n",
       "       -0.19140625, -0.078125  ,  0.25976562,  0.375     , -0.04541016,\n",
       "        0.16210938,  0.13671875, -0.06396484, -0.02062988, -0.09667969,\n",
       "        0.25390625,  0.24804688, -0.12695312,  0.07177734,  0.3203125 ,\n",
       "        0.03149414, -0.03857422,  0.21191406, -0.00811768,  0.22265625,\n",
       "       -0.13476562, -0.07617188,  0.01049805, -0.05175781,  0.03808594,\n",
       "       -0.13378906,  0.125     ,  0.0559082 , -0.18261719,  0.08154297,\n",
       "       -0.08447266, -0.07763672, -0.04345703,  0.08105469, -0.01092529,\n",
       "        0.17480469,  0.30664062, -0.04321289, -0.01416016,  0.09082031,\n",
       "       -0.00927734, -0.03442383, -0.11523438,  0.12451172, -0.0246582 ,\n",
       "        0.08544922,  0.14355469, -0.27734375,  0.03662109, -0.11035156,\n",
       "        0.13085938, -0.01721191, -0.08056641, -0.00708008, -0.02954102,\n",
       "        0.30078125, -0.09033203,  0.03149414, -0.18652344, -0.11181641,\n",
       "        0.10253906, -0.25976562, -0.02209473,  0.16796875, -0.05322266,\n",
       "       -0.14550781, -0.01049805, -0.03039551, -0.03857422,  0.11523438,\n",
       "       -0.0062561 , -0.13964844,  0.08007812,  0.06103516, -0.15332031,\n",
       "       -0.11132812, -0.14160156,  0.19824219, -0.06933594,  0.29296875,\n",
       "       -0.16015625,  0.20898438,  0.00041771,  0.01831055, -0.20214844,\n",
       "        0.04760742,  0.05810547, -0.0123291 , -0.01989746, -0.00364685,\n",
       "       -0.0135498 , -0.08251953, -0.03149414,  0.00717163,  0.20117188,\n",
       "        0.08300781, -0.0480957 , -0.26367188, -0.09667969, -0.22558594,\n",
       "       -0.09667969,  0.06494141, -0.02502441,  0.08496094,  0.03198242,\n",
       "       -0.07568359, -0.25390625, -0.11669922, -0.01446533, -0.16015625,\n",
       "       -0.00701904, -0.05712891,  0.02807617, -0.09179688,  0.25195312,\n",
       "        0.24121094,  0.06640625,  0.12988281,  0.17089844, -0.13671875,\n",
       "        0.1875    , -0.10009766, -0.04199219, -0.12011719,  0.00524902,\n",
       "        0.15625   , -0.203125  , -0.07128906, -0.06103516,  0.01635742,\n",
       "        0.18261719,  0.03588867, -0.04248047,  0.16796875, -0.15039062,\n",
       "       -0.16992188,  0.01831055,  0.27734375, -0.01269531, -0.0390625 ,\n",
       "       -0.15429688,  0.18457031, -0.07910156,  0.09033203, -0.02709961,\n",
       "        0.08251953,  0.06738281, -0.16113281, -0.19628906, -0.15234375,\n",
       "       -0.04711914,  0.04760742,  0.05908203, -0.16894531, -0.14941406,\n",
       "        0.12988281,  0.04321289,  0.02624512, -0.1796875 , -0.19628906,\n",
       "        0.06445312,  0.08935547,  0.1640625 , -0.03808594, -0.09814453,\n",
       "       -0.01483154,  0.1875    ,  0.12792969,  0.22753906,  0.01818848,\n",
       "       -0.07958984, -0.11376953, -0.06933594, -0.15527344, -0.08105469,\n",
       "       -0.09277344, -0.11328125, -0.15136719, -0.08007812, -0.05126953,\n",
       "       -0.15332031,  0.11669922,  0.06835938,  0.0324707 , -0.33984375,\n",
       "       -0.08154297, -0.08349609,  0.04003906,  0.04907227, -0.24121094,\n",
       "       -0.13476562, -0.05932617,  0.12158203, -0.34179688,  0.16503906,\n",
       "        0.06176758, -0.18164062,  0.20117188, -0.07714844,  0.1640625 ,\n",
       "        0.00402832,  0.30273438, -0.10009766, -0.13671875, -0.05957031,\n",
       "        0.0625    , -0.21289062, -0.06542969,  0.1796875 , -0.07763672,\n",
       "       -0.01928711, -0.15039062, -0.00106049,  0.03417969,  0.03344727,\n",
       "        0.19335938,  0.01965332, -0.19921875, -0.10644531,  0.01525879,\n",
       "        0.00927734,  0.01416016, -0.02392578,  0.05883789,  0.02368164,\n",
       "        0.125     ,  0.04760742, -0.05566406,  0.11572266,  0.14746094,\n",
       "        0.1015625 , -0.07128906, -0.07714844, -0.12597656,  0.0291748 ,\n",
       "        0.09521484, -0.12402344, -0.109375  , -0.12890625,  0.16308594,\n",
       "        0.28320312, -0.03149414,  0.12304688, -0.23242188, -0.09375   ,\n",
       "       -0.12988281,  0.0135498 , -0.03881836, -0.08251953,  0.00897217,\n",
       "        0.16308594,  0.10546875, -0.13867188, -0.16503906, -0.03857422,\n",
       "        0.10839844, -0.10498047,  0.06396484,  0.38867188, -0.05981445,\n",
       "       -0.0612793 , -0.10449219, -0.16796875,  0.07177734,  0.13964844,\n",
       "        0.15527344, -0.03125   , -0.20214844, -0.12988281, -0.10058594,\n",
       "       -0.06396484, -0.08349609, -0.30273438, -0.08007812,  0.02099609],\n",
       "      dtype=float32)"
      ]
     },
     "execution_count": 75,
     "metadata": {},
     "output_type": "execute_result"
    }
   ],
   "source": [
    "model['man']"
   ]
  },
  {
   "cell_type": "code",
   "execution_count": 76,
   "id": "412b4af5",
   "metadata": {},
   "outputs": [
    {
     "data": {
      "text/plain": [
       "[('woman', 0.7664011716842651),\n",
       " ('boy', 0.6824870109558105),\n",
       " ('teenager', 0.6586930155754089),\n",
       " ('teenage_girl', 0.6147903203964233),\n",
       " ('girl', 0.5921714305877686),\n",
       " ('robber', 0.5585119128227234),\n",
       " ('teen_ager', 0.5549196600914001),\n",
       " ('men', 0.5489763021469116),\n",
       " ('guy', 0.5420035719871521),\n",
       " ('person', 0.5342026352882385)]"
      ]
     },
     "execution_count": 76,
     "metadata": {},
     "output_type": "execute_result"
    }
   ],
   "source": [
    "model.most_similar('man')"
   ]
  },
  {
   "cell_type": "code",
   "execution_count": 77,
   "id": "297e8f65",
   "metadata": {},
   "outputs": [
    {
     "data": {
      "text/plain": [
       "[('Facebook', 0.7563533186912537),\n",
       " ('twitter', 0.6988552212715149),\n",
       " ('Twitter', 0.664244532585144),\n",
       " ('Facebook.com', 0.6529868841171265),\n",
       " ('facebook.com', 0.6135972142219543),\n",
       " ('Twitter.com', 0.6102108359336853),\n",
       " ('Myspace', 0.5829181671142578),\n",
       " ('Youtube', 0.5796944499015808),\n",
       " ('social_networking', 0.5592854022979736),\n",
       " ('social_networking_sites', 0.5527533292770386)]"
      ]
     },
     "execution_count": 77,
     "metadata": {},
     "output_type": "execute_result"
    }
   ],
   "source": [
    "model.most_similar('facebook')"
   ]
  },
  {
   "cell_type": "code",
   "execution_count": 78,
   "id": "6e18f8fc",
   "metadata": {},
   "outputs": [
    {
     "data": {
      "text/plain": [
       "0.76640123"
      ]
     },
     "execution_count": 78,
     "metadata": {},
     "output_type": "execute_result"
    }
   ],
   "source": [
    "model.similarity('man','woman')"
   ]
  },
  {
   "cell_type": "code",
   "execution_count": 79,
   "id": "cf7bef46",
   "metadata": {},
   "outputs": [
    {
     "data": {
      "text/plain": [
       "0.31487936"
      ]
     },
     "execution_count": 79,
     "metadata": {},
     "output_type": "execute_result"
    }
   ],
   "source": [
    "model.similarity('woman','drunk')"
   ]
  },
  {
   "cell_type": "code",
   "execution_count": 80,
   "id": "89a3212f",
   "metadata": {},
   "outputs": [
    {
     "data": {
      "text/plain": [
       "0.32602543"
      ]
     },
     "execution_count": 80,
     "metadata": {},
     "output_type": "execute_result"
    }
   ],
   "source": [
    "model.similarity('man','drunk')"
   ]
  },
  {
   "cell_type": "code",
   "execution_count": 81,
   "id": "64557d0a",
   "metadata": {},
   "outputs": [
    {
     "data": {
      "text/plain": [
       "-0.06693381"
      ]
     },
     "execution_count": 81,
     "metadata": {},
     "output_type": "execute_result"
    }
   ],
   "source": [
    "model.similarity('man','programming')"
   ]
  },
  {
   "cell_type": "code",
   "execution_count": 82,
   "id": "5e3585c6",
   "metadata": {},
   "outputs": [
    {
     "data": {
      "text/plain": [
       "-0.034060806"
      ]
     },
     "execution_count": 82,
     "metadata": {},
     "output_type": "execute_result"
    }
   ],
   "source": [
    "model.similarity('woman','programming')"
   ]
  },
  {
   "cell_type": "code",
   "execution_count": 83,
   "id": "d593183b",
   "metadata": {},
   "outputs": [
    {
     "data": {
      "text/plain": [
       "'drunk'"
      ]
     },
     "execution_count": 83,
     "metadata": {},
     "output_type": "execute_result"
    }
   ],
   "source": [
    "model.doesnt_match(['man','woman','drunk'])"
   ]
  },
  {
   "cell_type": "code",
   "execution_count": 84,
   "id": "fd3eff79",
   "metadata": {},
   "outputs": [
    {
     "data": {
      "text/plain": [
       "[('king', 0.8449392318725586),\n",
       " ('queen', 0.7300517559051514),\n",
       " ('monarch', 0.645466148853302),\n",
       " ('princess', 0.6156251430511475),\n",
       " ('crown_prince', 0.5818676352500916),\n",
       " ('prince', 0.5777117609977722),\n",
       " ('kings', 0.5613664388656616),\n",
       " ('sultan', 0.5376776456832886),\n",
       " ('queens', 0.5289887189865112),\n",
       " ('ruler', 0.5247419476509094)]"
      ]
     },
     "execution_count": 84,
     "metadata": {},
     "output_type": "execute_result"
    }
   ],
   "source": [
    "vector=model['king']-model['man']+model['woman']\n",
    "model.most_similar([vector])"
   ]
  },
  {
   "cell_type": "markdown",
   "id": "fd738c84",
   "metadata": {},
   "source": [
    "##### The underlying assumption of word2vec is that two words sharing similar contexts also share a similar meaning and consequently a similar vector representation from a model."
   ]
  },
  {
   "cell_type": "markdown",
   "id": "3ffa7acc",
   "metadata": {},
   "source": [
    "### Types of Word2Vec\n",
    "1. CBOw(continuous bag of words)\n",
    "2. Skip gram\n",
    "\n",
    "both are neural network(shallow)"
   ]
  },
  {
   "cell_type": "markdown",
   "id": "a1e58e7e",
   "metadata": {},
   "source": [
    "### Train self Word2Vec model\n",
    "Using game of thrones book data"
   ]
  },
  {
   "cell_type": "code",
   "execution_count": 85,
   "id": "c8e349c5",
   "metadata": {},
   "outputs": [],
   "source": [
    "import numpy as np\n",
    "import pandas as pd\n",
    "import gensim\n",
    "import os"
   ]
  },
  {
   "cell_type": "code",
   "execution_count": 86,
   "id": "15af1985",
   "metadata": {},
   "outputs": [
    {
     "name": "stderr",
     "output_type": "stream",
     "text": [
      "[nltk_data] Downloading package punkt_tab to\n",
      "[nltk_data]     C:\\Users\\mdans\\AppData\\Roaming\\nltk_data...\n",
      "[nltk_data]   Package punkt_tab is already up-to-date!\n"
     ]
    },
    {
     "data": {
      "text/plain": [
       "True"
      ]
     },
     "execution_count": 86,
     "metadata": {},
     "output_type": "execute_result"
    }
   ],
   "source": [
    "import nltk\n",
    "nltk.download('punkt_tab')"
   ]
  },
  {
   "cell_type": "code",
   "execution_count": 87,
   "id": "c45dbeaf",
   "metadata": {},
   "outputs": [],
   "source": [
    "from nltk import sent_tokenize\n",
    "from gensim.utils import simple_preprocess\n",
    "\n",
    "story=[]\n",
    "for  filename in os.listdir(r\"C:\\Users\\mdans\\Downloads\\gameofthrones\" ):\n",
    "   \n",
    "   file = open(os.path.join(r'C:\\Users\\mdans\\Downloads\\gameofthrones', filename ,), 'r', encoding='cp1252')\n",
    "   corpus=file.read()\n",
    "   sentences= sent_tokenize(corpus)\n",
    "   for sentence in sentences:\n",
    "        story.append(simple_preprocess(sentence))"
   ]
  },
  {
   "cell_type": "code",
   "execution_count": 88,
   "id": "e7e8066d",
   "metadata": {},
   "outputs": [],
   "source": [
    "# story"
   ]
  },
  {
   "cell_type": "code",
   "execution_count": 89,
   "id": "961ec580",
   "metadata": {},
   "outputs": [
    {
     "data": {
      "text/plain": [
       "145020"
      ]
     },
     "execution_count": 89,
     "metadata": {},
     "output_type": "execute_result"
    }
   ],
   "source": [
    "#length of story\n",
    "len(story)"
   ]
  },
  {
   "cell_type": "markdown",
   "id": "435263b0",
   "metadata": {},
   "source": [
    "#### Model creation"
   ]
  },
  {
   "cell_type": "code",
   "execution_count": 90,
   "id": "1604800e",
   "metadata": {},
   "outputs": [],
   "source": [
    "self_model=gensim.models.Word2Vec(window=10,min_count=2)"
   ]
  },
  {
   "cell_type": "code",
   "execution_count": 91,
   "id": "2d3c551f",
   "metadata": {},
   "outputs": [],
   "source": [
    "#building vocabulary\n",
    "self_model.build_vocab(story)"
   ]
  },
  {
   "cell_type": "code",
   "execution_count": 92,
   "id": "a6cc3ffa",
   "metadata": {},
   "outputs": [
    {
     "data": {
      "text/plain": [
       "(6570448, 8628190)"
      ]
     },
     "execution_count": 92,
     "metadata": {},
     "output_type": "execute_result"
    }
   ],
   "source": [
    "#training the model\n",
    "self_model.train(story,total_examples=self_model.corpus_count,epochs=self_model.epochs)"
   ]
  },
  {
   "cell_type": "code",
   "execution_count": 93,
   "id": "ad48c5c3",
   "metadata": {},
   "outputs": [
    {
     "data": {
      "text/plain": [
       "[('baratheon', 0.6808120608329773),\n",
       " ('realm', 0.6712384223937988),\n",
       " ('prince', 0.666652262210846),\n",
       " ('throne', 0.6360361576080322),\n",
       " ('usurper', 0.6179081201553345),\n",
       " ('conqueror', 0.6153979897499084),\n",
       " ('tourney', 0.6086326837539673),\n",
       " ('battle', 0.6044253706932068),\n",
       " ('dragonstone', 0.6007109880447388),\n",
       " ('targaryen', 0.5940443277359009)]"
      ]
     },
     "execution_count": 93,
     "metadata": {},
     "output_type": "execute_result"
    }
   ],
   "source": [
    "self_model.wv.most_similar('king')"
   ]
  },
  {
   "cell_type": "code",
   "execution_count": 94,
   "id": "f6fcfa49",
   "metadata": {},
   "outputs": [
    {
     "data": {
      "text/plain": [
       "[('stormborn', 0.8269252777099609),\n",
       " ('targaryen', 0.7575649619102478),\n",
       " ('unburnt', 0.7344520092010498),\n",
       " ('princess', 0.7343717217445374),\n",
       " ('elia', 0.7249239683151245),\n",
       " ('myrcella', 0.7205745577812195),\n",
       " ('queen', 0.7114650011062622),\n",
       " ('margaery', 0.7008574604988098),\n",
       " ('viserys', 0.6931341290473938),\n",
       " ('martell', 0.6579175591468811)]"
      ]
     },
     "execution_count": 94,
     "metadata": {},
     "output_type": "execute_result"
    }
   ],
   "source": [
    "self_model.wv.most_similar('daenerys')"
   ]
  },
  {
   "cell_type": "code",
   "execution_count": 95,
   "id": "7664b931",
   "metadata": {},
   "outputs": [
    {
     "data": {
      "text/plain": [
       "'jon'"
      ]
     },
     "execution_count": 95,
     "metadata": {},
     "output_type": "execute_result"
    }
   ],
   "source": [
    "self_model.wv.doesnt_match(['jon','rikon','robb','sansa','arya'])"
   ]
  },
  {
   "cell_type": "code",
   "execution_count": 96,
   "id": "42f0f5c5",
   "metadata": {},
   "outputs": [
    {
     "data": {
      "text/plain": [
       "array([-0.4778681 , -1.3247433 , -0.1001518 , -0.7737016 ,  0.28544903,\n",
       "       -0.0100521 ,  1.2187394 , -0.03966114, -1.1336316 ,  0.27926144,\n",
       "       -1.5103897 ,  0.6390375 ,  0.54569554, -0.59516406, -0.13867696,\n",
       "        0.58939797,  1.7522539 ,  3.228509  ,  1.9699223 , -0.84508914,\n",
       "        2.190869  , -2.5670383 ,  0.5692317 ,  0.23228401,  0.662764  ,\n",
       "       -1.2117636 ,  1.2587128 ,  0.5763529 ,  0.54868793,  0.76277053,\n",
       "       -1.9769746 , -0.10058395,  2.3100474 , -0.8622819 ,  1.4626132 ,\n",
       "        0.6305116 ,  3.2408166 ,  0.05250947,  0.84984106, -1.2084628 ,\n",
       "       -0.63824105, -1.108271  , -0.79432434,  2.237662  ,  1.6134934 ,\n",
       "       -3.1927083 , -0.42352283,  0.58948296, -1.934679  , -0.20428306,\n",
       "       -0.07341302, -0.26864412,  2.3025358 , -0.65068656, -0.30116156,\n",
       "       -0.49398538, -0.31786764, -2.0894382 , -0.33548763,  0.14469579,\n",
       "        1.426911  ,  0.44850543,  0.5618789 , -0.96998966, -0.18145981,\n",
       "       -0.20573421, -0.05918689,  2.7323349 , -0.47652006,  0.65377796,\n",
       "        0.8312642 ,  0.78236634,  0.47648343, -0.9836439 ,  1.3134496 ,\n",
       "        2.0570416 , -1.3893415 ,  2.7280903 , -0.63348657, -1.4001242 ,\n",
       "       -2.6238081 , -3.0522661 ,  0.522922  , -0.05546574, -2.624505  ,\n",
       "        0.30802247,  0.01644716, -1.05589   ,  0.48560178, -1.3484547 ,\n",
       "       -0.33551425,  1.618976  , -0.9879811 , -1.4051131 ,  0.23669164,\n",
       "       -1.3416232 , -1.9461364 , -0.98180175, -0.05675484,  0.02528856],\n",
       "      dtype=float32)"
      ]
     },
     "execution_count": 96,
     "metadata": {},
     "output_type": "execute_result"
    }
   ],
   "source": [
    "# vector of particular word\n",
    "self_model.wv['jon']"
   ]
  },
  {
   "cell_type": "code",
   "execution_count": 97,
   "id": "0c91dfd3",
   "metadata": {},
   "outputs": [
    {
     "data": {
      "text/plain": [
       "0.8343269"
      ]
     },
     "execution_count": 97,
     "metadata": {},
     "output_type": "execute_result"
    }
   ],
   "source": [
    "#similarity between two words\n",
    "self_model.wv.similarity('arya','sansa')"
   ]
  },
  {
   "cell_type": "code",
   "execution_count": 98,
   "id": "1cff7f3a",
   "metadata": {},
   "outputs": [
    {
     "data": {
      "text/plain": [
       "(17453, 100)"
      ]
     },
     "execution_count": 98,
     "metadata": {},
     "output_type": "execute_result"
    }
   ],
   "source": [
    "# vector of all words and its shape (unique words)\n",
    "self_model.wv.get_normed_vectors().shape\n"
   ]
  },
  {
   "cell_type": "code",
   "execution_count": 99,
   "id": "fe2b1bec",
   "metadata": {},
   "outputs": [
    {
     "data": {
      "text/plain": [
       "['the',\n",
       " 'and',\n",
       " 'to',\n",
       " 'of',\n",
       " 'he',\n",
       " 'his',\n",
       " 'was',\n",
       " 'you',\n",
       " 'her',\n",
       " 'in',\n",
       " 'it',\n",
       " 'had',\n",
       " 'that',\n",
       " 'she',\n",
       " 'as',\n",
       " 'with',\n",
       " 'him',\n",
       " 'not',\n",
       " 'but',\n",
       " 'for',\n",
       " 'they',\n",
       " 'is',\n",
       " 'at',\n",
       " 'on',\n",
       " 'said',\n",
       " 'my',\n",
       " 'have',\n",
       " 'be',\n",
       " 'lord',\n",
       " 'them',\n",
       " 'no',\n",
       " 'from',\n",
       " 'would',\n",
       " 'were',\n",
       " 'me',\n",
       " 'your',\n",
       " 'one',\n",
       " 'all',\n",
       " 'when',\n",
       " 'will',\n",
       " 'ser',\n",
       " 'if',\n",
       " 'so',\n",
       " 'their',\n",
       " 'we',\n",
       " 'could',\n",
       " 'are',\n",
       " 'man',\n",
       " 'there',\n",
       " 'this',\n",
       " 'up',\n",
       " 'been',\n",
       " 'what',\n",
       " 'did',\n",
       " 'by',\n",
       " 'king',\n",
       " 'do',\n",
       " 'men',\n",
       " 'back',\n",
       " 'out',\n",
       " 'more',\n",
       " 'or',\n",
       " 'who',\n",
       " 'down',\n",
       " 'well',\n",
       " 'than',\n",
       " 'only',\n",
       " 'like',\n",
       " 'jon',\n",
       " 'some',\n",
       " 'father',\n",
       " 'old',\n",
       " 'hand',\n",
       " 'even',\n",
       " 'too',\n",
       " 'tyrion',\n",
       " 'before',\n",
       " 'never',\n",
       " 'an',\n",
       " 'off',\n",
       " 'see',\n",
       " 'know',\n",
       " 'into',\n",
       " 'made',\n",
       " 'now',\n",
       " 'eyes',\n",
       " 'black',\n",
       " 'told',\n",
       " 'lady',\n",
       " 'thought',\n",
       " 'time',\n",
       " 'then',\n",
       " 'how',\n",
       " 'long',\n",
       " 'has',\n",
       " 'can',\n",
       " 'might',\n",
       " 'us',\n",
       " 'come',\n",
       " 'where',\n",
       " 'here',\n",
       " 'through',\n",
       " 'still',\n",
       " 'face',\n",
       " 'head',\n",
       " 'red',\n",
       " 'll',\n",
       " 'way',\n",
       " 'boy',\n",
       " 'page',\n",
       " 'must',\n",
       " 'once',\n",
       " 'queen',\n",
       " 'good',\n",
       " 'two',\n",
       " 'brother',\n",
       " 'night',\n",
       " 'over',\n",
       " 'little',\n",
       " 'about',\n",
       " 'took',\n",
       " 'other',\n",
       " 'came',\n",
       " 'though',\n",
       " 'again',\n",
       " 'say',\n",
       " 'three',\n",
       " 'should',\n",
       " 'away',\n",
       " 'dead',\n",
       " 'son',\n",
       " 'own',\n",
       " 'blood',\n",
       " 'am',\n",
       " 'take',\n",
       " 'go',\n",
       " 'half',\n",
       " 'make',\n",
       " 'arya',\n",
       " 'saw',\n",
       " 'day',\n",
       " 'white',\n",
       " 'jaime',\n",
       " 'first',\n",
       " 'himself',\n",
       " 'our',\n",
       " 'look',\n",
       " 'want',\n",
       " 'after',\n",
       " 'much',\n",
       " 'enough',\n",
       " 'sword',\n",
       " 'tell',\n",
       " 'girl',\n",
       " 'bran',\n",
       " 'great',\n",
       " 'its',\n",
       " 'looked',\n",
       " 'left',\n",
       " 'knew',\n",
       " 'asked',\n",
       " 'gave',\n",
       " 'maester',\n",
       " 'called',\n",
       " 'wall',\n",
       " 'every',\n",
       " 'heard',\n",
       " 'sansa',\n",
       " 'let',\n",
       " 'yet',\n",
       " 'went',\n",
       " 'turned',\n",
       " 'dany',\n",
       " 'why',\n",
       " 'need',\n",
       " 'behind',\n",
       " 'around',\n",
       " 'just',\n",
       " 'woman',\n",
       " 'another',\n",
       " 'snow',\n",
       " 'beneath',\n",
       " 'across',\n",
       " 'knight',\n",
       " 'keep',\n",
       " 'grace',\n",
       " 'found',\n",
       " 'gold',\n",
       " 'any',\n",
       " 'last',\n",
       " 'cersei',\n",
       " 'castle',\n",
       " 'those',\n",
       " 'stark',\n",
       " 'gods',\n",
       " 'think',\n",
       " 'hair',\n",
       " 'many',\n",
       " 'feet',\n",
       " 'against',\n",
       " 'hands',\n",
       " 'stannis',\n",
       " 'mother',\n",
       " 'catelyn',\n",
       " 'robert',\n",
       " 'seemed',\n",
       " 'prince',\n",
       " 'may',\n",
       " 'ever',\n",
       " 'robb',\n",
       " 'done',\n",
       " 'don',\n",
       " 'find',\n",
       " 'lannister',\n",
       " 're',\n",
       " 'hear',\n",
       " 'grey',\n",
       " 'name',\n",
       " 'horse',\n",
       " 'high',\n",
       " 'put',\n",
       " 'stone',\n",
       " 'wine',\n",
       " 'hard',\n",
       " 'water',\n",
       " 'upon',\n",
       " 'fire',\n",
       " 'iron',\n",
       " 'until',\n",
       " 'these',\n",
       " 'voice',\n",
       " 'gone',\n",
       " 'give',\n",
       " 'sam',\n",
       " 'seen',\n",
       " 'better',\n",
       " 'shall',\n",
       " 'ned',\n",
       " 'always',\n",
       " 'years',\n",
       " 'between',\n",
       " 'dark',\n",
       " 'place',\n",
       " 'small',\n",
       " 'cold',\n",
       " 'winterfell',\n",
       " 'most',\n",
       " 'hundred',\n",
       " 'stood',\n",
       " 'end',\n",
       " 'sister',\n",
       " 'words',\n",
       " 'sea',\n",
       " 'right',\n",
       " 'nothing',\n",
       " 'walls',\n",
       " 'fingers',\n",
       " 'same',\n",
       " 'cloak',\n",
       " 'house',\n",
       " 'young',\n",
       " 'does',\n",
       " 'beside',\n",
       " 'get',\n",
       " 'mouth',\n",
       " 'seven',\n",
       " 'watch',\n",
       " 'door',\n",
       " 'joffrey',\n",
       " 'green',\n",
       " 'big',\n",
       " 'under',\n",
       " 'few',\n",
       " 'sent',\n",
       " 'perhaps',\n",
       " 'almost',\n",
       " 'such',\n",
       " 'wanted',\n",
       " 'daughter',\n",
       " 'true',\n",
       " 'while',\n",
       " 'leave',\n",
       " 'city',\n",
       " 'wind',\n",
       " 'light',\n",
       " 'arms',\n",
       " 'children',\n",
       " 'herself',\n",
       " 'sweet',\n",
       " 'others',\n",
       " 'lost',\n",
       " 'theon',\n",
       " 'each',\n",
       " 'felt',\n",
       " 'side',\n",
       " 'yes',\n",
       " 'brothers',\n",
       " 'best',\n",
       " 'very',\n",
       " 'die',\n",
       " 'brought',\n",
       " 'soon',\n",
       " 'far',\n",
       " 'died',\n",
       " 'north',\n",
       " 'child',\n",
       " 'fear',\n",
       " 'along',\n",
       " 'word',\n",
       " 'brienne',\n",
       " 'both',\n",
       " 'taken',\n",
       " 'battle',\n",
       " 'help',\n",
       " 'new',\n",
       " 'tywin',\n",
       " 'davos',\n",
       " 'lords',\n",
       " 'something',\n",
       " 've',\n",
       " 'wife',\n",
       " 'mean',\n",
       " 'rest',\n",
       " 'hall',\n",
       " 'kill',\n",
       " 'strong',\n",
       " 'steel',\n",
       " 'began',\n",
       " 'sound',\n",
       " 'won',\n",
       " 'dragon',\n",
       " 'past',\n",
       " 'life',\n",
       " 'tower',\n",
       " 'killed',\n",
       " 'arm',\n",
       " 'sons',\n",
       " 'tried',\n",
       " 'free',\n",
       " 'thing',\n",
       " 'days',\n",
       " 'bear',\n",
       " 'bloody',\n",
       " 'heart',\n",
       " 'pale',\n",
       " 'love',\n",
       " 'moment',\n",
       " 'sat',\n",
       " 'bring',\n",
       " 'bed',\n",
       " 'close',\n",
       " 'knights',\n",
       " 'cut',\n",
       " 'wolf',\n",
       " 'horses',\n",
       " 'smile',\n",
       " 'death',\n",
       " 'inside',\n",
       " 'four',\n",
       " 'brown',\n",
       " 'dragons',\n",
       " 'hot',\n",
       " 'silver',\n",
       " 'part',\n",
       " 'bastard',\n",
       " 'open',\n",
       " 'nor',\n",
       " 'thousand',\n",
       " 'landing',\n",
       " 'uncle',\n",
       " 'above',\n",
       " 'going',\n",
       " 'blue',\n",
       " 'air',\n",
       " 'captain',\n",
       " 'please',\n",
       " 'laughed',\n",
       " 'river',\n",
       " 'sun',\n",
       " 'rose',\n",
       " 'fell',\n",
       " 'war',\n",
       " 'golden',\n",
       " 'sleep',\n",
       " 'without',\n",
       " 'swords',\n",
       " 'speak',\n",
       " 'renly',\n",
       " 'full',\n",
       " 'fool',\n",
       " 'certain',\n",
       " 'beyond',\n",
       " 'feel',\n",
       " 'send',\n",
       " 'tongue',\n",
       " 'got',\n",
       " 'fight',\n",
       " 'rode',\n",
       " 'set',\n",
       " 'thick',\n",
       " 'throat',\n",
       " 'world',\n",
       " 'deep',\n",
       " 'legs',\n",
       " 'call',\n",
       " 'honor',\n",
       " 'rock',\n",
       " 'trees',\n",
       " 'tall',\n",
       " 'table',\n",
       " 'pulled',\n",
       " 'broken',\n",
       " 'mormont',\n",
       " 'women',\n",
       " 'steps',\n",
       " 'things',\n",
       " 'next',\n",
       " 'hodor',\n",
       " 'heavy',\n",
       " 'burned',\n",
       " 'oh',\n",
       " 'toward',\n",
       " 'together',\n",
       " 'skin',\n",
       " 'given',\n",
       " 'since',\n",
       " 'smiled',\n",
       " 'dwarf',\n",
       " 'alone',\n",
       " 'moved',\n",
       " 'storm',\n",
       " 'raised',\n",
       " 'ride',\n",
       " 'ask',\n",
       " 'hope',\n",
       " 'eye',\n",
       " 'soft',\n",
       " 'reached',\n",
       " 'frey',\n",
       " 'second',\n",
       " 'remember',\n",
       " 'someone',\n",
       " 'remembered',\n",
       " 'coming',\n",
       " 'meant',\n",
       " 'cannot',\n",
       " 'hold',\n",
       " 'morning',\n",
       " 'ten',\n",
       " 'teeth',\n",
       " 'else',\n",
       " 'throne',\n",
       " 'command',\n",
       " 'which',\n",
       " 'fat',\n",
       " 'truth',\n",
       " 'commander',\n",
       " 'walder',\n",
       " 'doubt',\n",
       " 'ground',\n",
       " 'jorah',\n",
       " 'cup',\n",
       " 'outside',\n",
       " 'known',\n",
       " 'wore',\n",
       " 'ran',\n",
       " 'gate',\n",
       " 'room',\n",
       " 'held',\n",
       " 'closed',\n",
       " 'home',\n",
       " 'matter',\n",
       " 'sky',\n",
       " 'south',\n",
       " 'wood',\n",
       " 'dozen',\n",
       " 'wed',\n",
       " 'people',\n",
       " 'neck',\n",
       " 'riverrun',\n",
       " 'food',\n",
       " 'instead',\n",
       " 'near',\n",
       " 'talk',\n",
       " 'turn',\n",
       " 'none',\n",
       " 'ships',\n",
       " 'tyrell',\n",
       " 'below',\n",
       " 'moon',\n",
       " 'summer',\n",
       " 'bolton',\n",
       " 'shadow',\n",
       " 'lips',\n",
       " 'watched',\n",
       " 'times',\n",
       " 'leather',\n",
       " 'varys',\n",
       " 'shoulder',\n",
       " 'septon',\n",
       " 'warm',\n",
       " 'caught',\n",
       " 'believe',\n",
       " 'least',\n",
       " 'guards',\n",
       " 'answer',\n",
       " 'god',\n",
       " 'blade',\n",
       " 'wondered',\n",
       " 'ice',\n",
       " 'opened',\n",
       " 'shield',\n",
       " 'barristan',\n",
       " 'mine',\n",
       " 'armor',\n",
       " 'safe',\n",
       " 'six',\n",
       " 'kept',\n",
       " 'wish',\n",
       " 'return',\n",
       " 'tommen',\n",
       " 'used',\n",
       " 'smell',\n",
       " 'less',\n",
       " 'being',\n",
       " 'foot',\n",
       " 'floor',\n",
       " 'squire',\n",
       " 'eddard',\n",
       " 'empty',\n",
       " 'run',\n",
       " 'followed',\n",
       " 'friends',\n",
       " 'serve',\n",
       " 'beard',\n",
       " 'boys',\n",
       " 'baratheon',\n",
       " 'cloaks',\n",
       " 'wedding',\n",
       " 'eat',\n",
       " 'wrong',\n",
       " 'daenerys',\n",
       " 'ghost',\n",
       " 'sight',\n",
       " 'flesh',\n",
       " 'five',\n",
       " 'hound',\n",
       " 'ship',\n",
       " 'strength',\n",
       " 'returned',\n",
       " 'bones',\n",
       " 'nose',\n",
       " 'crown',\n",
       " 'yellow',\n",
       " 'chest',\n",
       " 'covered',\n",
       " 'says',\n",
       " 'commanded',\n",
       " 'petyr',\n",
       " 'sometimes',\n",
       " 'filled',\n",
       " 'aemon',\n",
       " 'friend',\n",
       " 'led',\n",
       " 'aye',\n",
       " 'common',\n",
       " 'yours',\n",
       " 'flames',\n",
       " 'spoke',\n",
       " 'show',\n",
       " 'fighting',\n",
       " 'asha',\n",
       " 'huge',\n",
       " 'aside',\n",
       " 'lysa',\n",
       " 'crow',\n",
       " 'belly',\n",
       " 'master',\n",
       " 'breath',\n",
       " 'seem',\n",
       " 'yard',\n",
       " 'gates',\n",
       " 'waiting',\n",
       " 'within',\n",
       " 'looking',\n",
       " 'wet',\n",
       " 'wooden',\n",
       " 'realm',\n",
       " 'thin',\n",
       " 'work',\n",
       " 'bad',\n",
       " 'use',\n",
       " 'promised',\n",
       " 'later',\n",
       " 'tree',\n",
       " 'husband',\n",
       " 'grew',\n",
       " 'onto',\n",
       " 'wildlings',\n",
       " 'loved',\n",
       " 'afraid',\n",
       " 'girls',\n",
       " 'greyjoy',\n",
       " 'shoulders',\n",
       " 'rain',\n",
       " 'shouted',\n",
       " 'walked',\n",
       " 'maid',\n",
       " 'mance',\n",
       " 'remained',\n",
       " 'late',\n",
       " 'guard',\n",
       " 'littlefinger',\n",
       " 'meereen',\n",
       " 'liked',\n",
       " 'fall',\n",
       " 'year',\n",
       " 'margaery',\n",
       " 'dog',\n",
       " 'passed',\n",
       " 'hurt',\n",
       " 'balon',\n",
       " 'taste',\n",
       " 'dothraki',\n",
       " 'lay',\n",
       " 'drew',\n",
       " 'spear',\n",
       " 'song',\n",
       " 'realized',\n",
       " 'pushed',\n",
       " 'sure',\n",
       " 'named',\n",
       " 'reach',\n",
       " 'brave',\n",
       " 'stand',\n",
       " 'different',\n",
       " 'finally',\n",
       " 'whispered',\n",
       " 'wolves',\n",
       " 'suddenly',\n",
       " 'poor',\n",
       " 'kingsguard',\n",
       " 'drogo',\n",
       " 'stay',\n",
       " 'arryn',\n",
       " 'stop',\n",
       " 'kingdoms',\n",
       " 'broke',\n",
       " 'ears',\n",
       " 'edmure',\n",
       " 'princess',\n",
       " 'burning',\n",
       " 'faces',\n",
       " 'lannisters',\n",
       " 'dream',\n",
       " 'axe',\n",
       " 'direwolf',\n",
       " 'west',\n",
       " 'tears',\n",
       " 'heir',\n",
       " 'drink',\n",
       " 'clegane',\n",
       " 'darkness',\n",
       " 'either',\n",
       " 'pointed',\n",
       " 'raven',\n",
       " 'hill',\n",
       " 'try',\n",
       " 'forward',\n",
       " 'sworn',\n",
       " 'pain',\n",
       " 'khal',\n",
       " 'lie',\n",
       " 'dagger',\n",
       " 'truly',\n",
       " 'kings',\n",
       " 'seat',\n",
       " 'grown',\n",
       " 'born',\n",
       " 'road',\n",
       " 'harrenhal',\n",
       " 'care',\n",
       " 'bronn',\n",
       " 'round',\n",
       " 'helm',\n",
       " 'feast',\n",
       " 'understand',\n",
       " 'quick',\n",
       " 'pycelle',\n",
       " 'meat',\n",
       " 'amongst',\n",
       " 'lifted',\n",
       " 'longer',\n",
       " 'reminded',\n",
       " 'whilst',\n",
       " 'maybe',\n",
       " 'mountain',\n",
       " 'short',\n",
       " 'step',\n",
       " 'rodrik',\n",
       " 'pretty',\n",
       " 'melisandre',\n",
       " 'ones',\n",
       " 'third',\n",
       " 'bit',\n",
       " 'worse',\n",
       " 'stopped',\n",
       " 'lands',\n",
       " 'aegon',\n",
       " 'sit',\n",
       " 'victarion',\n",
       " 'save',\n",
       " 'sharp',\n",
       " 'knows',\n",
       " 'live',\n",
       " 'smoke',\n",
       " 'whose',\n",
       " 'pray',\n",
       " 'leg',\n",
       " 'window',\n",
       " 'horn',\n",
       " 'younger',\n",
       " 'westeros',\n",
       " 'didn',\n",
       " 'twenty',\n",
       " 'silk',\n",
       " 'heads',\n",
       " 'slaves',\n",
       " 'ago',\n",
       " 'septa',\n",
       " 'pie',\n",
       " 'peace',\n",
       " 'laugh',\n",
       " 'hizdahr',\n",
       " 'mind',\n",
       " 'low',\n",
       " 'bread',\n",
       " 'wants',\n",
       " 'east',\n",
       " 'blind',\n",
       " 'reek',\n",
       " 'mad',\n",
       " 'sooner',\n",
       " 'towers',\n",
       " 'bright',\n",
       " 'myself',\n",
       " 'coin',\n",
       " 'older',\n",
       " 'slain',\n",
       " 'camp',\n",
       " 'making',\n",
       " 'walk',\n",
       " 'drowned',\n",
       " 'served',\n",
       " 'narrow',\n",
       " 'salt',\n",
       " 'point',\n",
       " 'wait',\n",
       " 'glanced',\n",
       " 'cheeks',\n",
       " 'cousin',\n",
       " 'luwin',\n",
       " 'knife',\n",
       " 'targaryen',\n",
       " 'shook',\n",
       " 'touched',\n",
       " 'quiet',\n",
       " 'stepped',\n",
       " 'sort',\n",
       " 'often',\n",
       " 'riding',\n",
       " 'naked',\n",
       " 'twisted',\n",
       " 'loras',\n",
       " 'choice',\n",
       " 'during',\n",
       " 'lion',\n",
       " 'forgotten',\n",
       " 'silence',\n",
       " 'fish',\n",
       " 'kevan',\n",
       " 'ramsay',\n",
       " 'hung',\n",
       " 'read',\n",
       " 'gift',\n",
       " 'running',\n",
       " 'replied',\n",
       " 'fallen',\n",
       " 'large',\n",
       " 'knees',\n",
       " 'silent',\n",
       " 'fought',\n",
       " 'company',\n",
       " 'cat',\n",
       " 'ahead',\n",
       " 'sept',\n",
       " 'needs',\n",
       " 'beautiful',\n",
       " 'rhaegar',\n",
       " 'dogs',\n",
       " 'dawn',\n",
       " 'knee',\n",
       " 'pass',\n",
       " 'dorne',\n",
       " 'casterly',\n",
       " 'mud',\n",
       " 'themselves',\n",
       " 'tully',\n",
       " 'body',\n",
       " 'singer',\n",
       " 'gregor',\n",
       " 'court',\n",
       " 'stupid',\n",
       " 'age',\n",
       " 'meera',\n",
       " 'trying',\n",
       " 'top',\n",
       " 'swear',\n",
       " 'kind',\n",
       " 'offered',\n",
       " 'gendry',\n",
       " 'leaves',\n",
       " 'whole',\n",
       " 'clothes',\n",
       " 'closer',\n",
       " 'anything',\n",
       " 'kiss',\n",
       " 'whatever',\n",
       " 'threw',\n",
       " 'wonder',\n",
       " 'agreed',\n",
       " 'pay',\n",
       " 'answered',\n",
       " 'climbed',\n",
       " 'saying',\n",
       " 'saddle',\n",
       " 'wide',\n",
       " 'stars',\n",
       " 'comes',\n",
       " 'stones',\n",
       " 'chain',\n",
       " 'trust',\n",
       " 'host',\n",
       " 'fair',\n",
       " 'pleased',\n",
       " 'trident',\n",
       " 'yourself',\n",
       " 'yunkai',\n",
       " 'dry',\n",
       " 'hour',\n",
       " 'insisted',\n",
       " 'eight',\n",
       " 'spears',\n",
       " 'dying',\n",
       " 'ear',\n",
       " 'fast',\n",
       " 'carried',\n",
       " 'service',\n",
       " 'doors',\n",
       " 'ought',\n",
       " 'fist',\n",
       " 'woods',\n",
       " 'mail',\n",
       " 'council',\n",
       " 'wasn',\n",
       " 'fine',\n",
       " 'crossed',\n",
       " 'needed',\n",
       " 'join',\n",
       " 'thank',\n",
       " 'milk',\n",
       " 'wildling',\n",
       " 'quentyn',\n",
       " 'finger',\n",
       " 'gilly',\n",
       " 'shadows',\n",
       " 'doing',\n",
       " 'tent',\n",
       " 'win',\n",
       " 'bird',\n",
       " 'land',\n",
       " 'helped',\n",
       " 'boots',\n",
       " 'imp',\n",
       " 'crows',\n",
       " 'names',\n",
       " 'somehow',\n",
       " 'folk',\n",
       " 'kissed',\n",
       " 'winter',\n",
       " 'letter',\n",
       " 'banners',\n",
       " 'screamed',\n",
       " 'angry',\n",
       " 'pink',\n",
       " 'frightened',\n",
       " 'learn',\n",
       " 'alive',\n",
       " 'torch',\n",
       " 'chair',\n",
       " 'eunuch',\n",
       " 'watching',\n",
       " 'daughters',\n",
       " 'tarly',\n",
       " 'dragonstone',\n",
       " 'harm',\n",
       " 'fires',\n",
       " 'learned',\n",
       " 'standing',\n",
       " 'serving',\n",
       " 'easy',\n",
       " 'neither',\n",
       " 'nine',\n",
       " 'wings',\n",
       " 'question',\n",
       " 'drunk',\n",
       " 'sail',\n",
       " 'priest',\n",
       " 'sisters',\n",
       " 'myrcella',\n",
       " 'nodded',\n",
       " 'harbor',\n",
       " 'bone',\n",
       " 'forth',\n",
       " 'warned',\n",
       " 'giant',\n",
       " 'slow',\n",
       " 'field',\n",
       " 'slipped',\n",
       " 'slid',\n",
       " 'slowly',\n",
       " 'bronze',\n",
       " 'dreams',\n",
       " 'falling',\n",
       " 'atop',\n",
       " 'promise',\n",
       " 'rise',\n",
       " 'slave',\n",
       " 'illyrio',\n",
       " 'whore',\n",
       " 'line',\n",
       " 'move',\n",
       " 'flowers',\n",
       " 'pyke',\n",
       " 'makes',\n",
       " 'laughter',\n",
       " 'loose',\n",
       " 'earth',\n",
       " 'grass',\n",
       " 'faced',\n",
       " 'bay',\n",
       " 'declared',\n",
       " 'twice',\n",
       " 'front',\n",
       " 'lived',\n",
       " 'power',\n",
       " 'viserys',\n",
       " 'cell',\n",
       " 'happened',\n",
       " 'because',\n",
       " 'play',\n",
       " 'chains',\n",
       " 'break',\n",
       " 'dance',\n",
       " 'oldtown',\n",
       " 'surely',\n",
       " 'aerys',\n",
       " 'clean',\n",
       " 'claim',\n",
       " 'unless',\n",
       " 'jeyne',\n",
       " 'eyrie',\n",
       " 'cried',\n",
       " 'fresh',\n",
       " 'pair',\n",
       " 'tormund',\n",
       " 'craster',\n",
       " 'laid',\n",
       " 'quite',\n",
       " 'morrow',\n",
       " 'shouting',\n",
       " 'sad',\n",
       " 'game',\n",
       " 'met',\n",
       " 'already',\n",
       " 'rule',\n",
       " 'touch',\n",
       " 'softly',\n",
       " 'woke',\n",
       " 'steward',\n",
       " 'sense',\n",
       " 'afterward',\n",
       " 'count',\n",
       " 'started',\n",
       " 'mounted',\n",
       " 'waters',\n",
       " 'sudden',\n",
       " 'captive',\n",
       " 'hide',\n",
       " 'jojen',\n",
       " ...]"
      ]
     },
     "execution_count": 99,
     "metadata": {},
     "output_type": "execute_result"
    }
   ],
   "source": [
    "#index to word( corresponding unique words of individual vector)\n",
    "self_model.wv.index_to_key"
   ]
  },
  {
   "cell_type": "markdown",
   "id": "54356681",
   "metadata": {},
   "source": [
    "#### plot some graph of the vector"
   ]
  },
  {
   "cell_type": "markdown",
   "id": "a904fe26",
   "metadata": {},
   "source": [
    "since it has 100 dimension we can't plot it in graph.\n",
    "dimentionality reduction (PCA) techniques helps to plot graph by reducing the dimension."
   ]
  },
  {
   "cell_type": "code",
   "execution_count": 100,
   "id": "b545d692",
   "metadata": {},
   "outputs": [
    {
     "name": "stdout",
     "output_type": "stream",
     "text": [
      "Requirement already satisfied: scikit-learn in c:\\users\\mdans\\miniconda3\\envs\\nlp\\lib\\site-packages (1.7.1)\n",
      "Requirement already satisfied: numpy>=1.22.0 in c:\\users\\mdans\\miniconda3\\envs\\nlp\\lib\\site-packages (from scikit-learn) (1.26.4)\n",
      "Requirement already satisfied: scipy>=1.8.0 in c:\\users\\mdans\\miniconda3\\envs\\nlp\\lib\\site-packages (from scikit-learn) (1.13.1)\n",
      "Requirement already satisfied: joblib>=1.2.0 in c:\\users\\mdans\\miniconda3\\envs\\nlp\\lib\\site-packages (from scikit-learn) (1.5.2)\n",
      "Requirement already satisfied: threadpoolctl>=3.1.0 in c:\\users\\mdans\\miniconda3\\envs\\nlp\\lib\\site-packages (from scikit-learn) (3.6.0)\n"
     ]
    }
   ],
   "source": [
    "!pip install scikit-learn"
   ]
  },
  {
   "cell_type": "code",
   "execution_count": 101,
   "id": "243ecf8a",
   "metadata": {},
   "outputs": [
    {
     "data": {
      "text/plain": [
       "(17453, 3)"
      ]
     },
     "execution_count": 101,
     "metadata": {},
     "output_type": "execute_result"
    }
   ],
   "source": [
    "from sklearn.decomposition import PCA\n",
    "# number of components means dimension\n",
    "pca=PCA(n_components=3)\n",
    "x=pca.fit_transform(self_model.wv.get_normed_vectors())\n",
    "x.shape"
   ]
  },
  {
   "cell_type": "code",
   "execution_count": 102,
   "id": "1e19cfcb",
   "metadata": {},
   "outputs": [
    {
     "data": {
      "application/vnd.plotly.v1+json": {
       "config": {
        "plotlyServerURL": "https://plot.ly"
       },
       "data": [
        {
         "hovertemplate": "color=the<br>0=%{x}<br>1=%{y}<br>2=%{z}<extra></extra>",
         "legendgroup": "the",
         "marker": {
          "color": "#636efa",
          "symbol": "circle"
         },
         "mode": "markers",
         "name": "the",
         "scene": "scene",
         "showlegend": true,
         "type": "scatter3d",
         "x": {
          "bdata": "Tgk2Pg==",
          "dtype": "f4"
         },
         "y": {
          "bdata": "wtYVPw==",
          "dtype": "f4"
         },
         "z": {
          "bdata": "zM2nvQ==",
          "dtype": "f4"
         }
        },
        {
         "hovertemplate": "color=and<br>0=%{x}<br>1=%{y}<br>2=%{z}<extra></extra>",
         "legendgroup": "and",
         "marker": {
          "color": "#EF553B",
          "symbol": "circle"
         },
         "mode": "markers",
         "name": "and",
         "scene": "scene",
         "showlegend": true,
         "type": "scatter3d",
         "x": {
          "bdata": "5gcuPg==",
          "dtype": "f4"
         },
         "y": {
          "bdata": "dmeyPg==",
          "dtype": "f4"
         },
         "z": {
          "bdata": "wNC3Ow==",
          "dtype": "f4"
         }
        },
        {
         "hovertemplate": "color=to<br>0=%{x}<br>1=%{y}<br>2=%{z}<extra></extra>",
         "legendgroup": "to",
         "marker": {
          "color": "#00cc96",
          "symbol": "circle"
         },
         "mode": "markers",
         "name": "to",
         "scene": "scene",
         "showlegend": true,
         "type": "scatter3d",
         "x": {
          "bdata": "5lqXvg==",
          "dtype": "f4"
         },
         "y": {
          "bdata": "VVEWPw==",
          "dtype": "f4"
         },
         "z": {
          "bdata": "KA5LPg==",
          "dtype": "f4"
         }
        },
        {
         "hovertemplate": "color=of<br>0=%{x}<br>1=%{y}<br>2=%{z}<extra></extra>",
         "legendgroup": "of",
         "marker": {
          "color": "#ab63fa",
          "symbol": "circle"
         },
         "mode": "markers",
         "name": "of",
         "scene": "scene",
         "showlegend": true,
         "type": "scatter3d",
         "x": {
          "bdata": "HLyFPA==",
          "dtype": "f4"
         },
         "y": {
          "bdata": "WSy1Pg==",
          "dtype": "f4"
         },
         "z": {
          "bdata": "QH8Cvg==",
          "dtype": "f4"
         }
        },
        {
         "hovertemplate": "color=he<br>0=%{x}<br>1=%{y}<br>2=%{z}<extra></extra>",
         "legendgroup": "he",
         "marker": {
          "color": "#FFA15A",
          "symbol": "circle"
         },
         "mode": "markers",
         "name": "he",
         "scene": "scene",
         "showlegend": true,
         "type": "scatter3d",
         "x": {
          "bdata": "4zX3vQ==",
          "dtype": "f4"
         },
         "y": {
          "bdata": "WHcMPw==",
          "dtype": "f4"
         },
         "z": {
          "bdata": "3piKPg==",
          "dtype": "f4"
         }
        },
        {
         "hovertemplate": "color=his<br>0=%{x}<br>1=%{y}<br>2=%{z}<extra></extra>",
         "legendgroup": "his",
         "marker": {
          "color": "#19d3f3",
          "symbol": "circle"
         },
         "mode": "markers",
         "name": "his",
         "scene": "scene",
         "showlegend": true,
         "type": "scatter3d",
         "x": {
          "bdata": "tFzzPA==",
          "dtype": "f4"
         },
         "y": {
          "bdata": "TjyZPg==",
          "dtype": "f4"
         },
         "z": {
          "bdata": "xEqhPg==",
          "dtype": "f4"
         }
        },
        {
         "hovertemplate": "color=was<br>0=%{x}<br>1=%{y}<br>2=%{z}<extra></extra>",
         "legendgroup": "was",
         "marker": {
          "color": "#FF6692",
          "symbol": "circle"
         },
         "mode": "markers",
         "name": "was",
         "scene": "scene",
         "showlegend": true,
         "type": "scatter3d",
         "x": {
          "bdata": "arvcvQ==",
          "dtype": "f4"
         },
         "y": {
          "bdata": "ZPbMPg==",
          "dtype": "f4"
         },
         "z": {
          "bdata": "H4qbPg==",
          "dtype": "f4"
         }
        },
        {
         "hovertemplate": "color=you<br>0=%{x}<br>1=%{y}<br>2=%{z}<extra></extra>",
         "legendgroup": "you",
         "marker": {
          "color": "#B6E880",
          "symbol": "circle"
         },
         "mode": "markers",
         "name": "you",
         "scene": "scene",
         "showlegend": true,
         "type": "scatter3d",
         "x": {
          "bdata": "WDIIvw==",
          "dtype": "f4"
         },
         "y": {
          "bdata": "yaAdPw==",
          "dtype": "f4"
         },
         "z": {
          "bdata": "sSQqPg==",
          "dtype": "f4"
         }
        },
        {
         "hovertemplate": "color=her<br>0=%{x}<br>1=%{y}<br>2=%{z}<extra></extra>",
         "legendgroup": "her",
         "marker": {
          "color": "#FF97FF",
          "symbol": "circle"
         },
         "mode": "markers",
         "name": "her",
         "scene": "scene",
         "showlegend": true,
         "type": "scatter3d",
         "x": {
          "bdata": "cMKsOw==",
          "dtype": "f4"
         },
         "y": {
          "bdata": "0S7LPg==",
          "dtype": "f4"
         },
         "z": {
          "bdata": "5r+2Pg==",
          "dtype": "f4"
         }
        },
        {
         "hovertemplate": "color=in<br>0=%{x}<br>1=%{y}<br>2=%{z}<extra></extra>",
         "legendgroup": "in",
         "marker": {
          "color": "#FECB52",
          "symbol": "circle"
         },
         "mode": "markers",
         "name": "in",
         "scene": "scene",
         "showlegend": true,
         "type": "scatter3d",
         "x": {
          "bdata": "nRiyPQ==",
          "dtype": "f4"
         },
         "y": {
          "bdata": "KHjaPg==",
          "dtype": "f4"
         },
         "z": {
          "bdata": "OHNoPQ==",
          "dtype": "f4"
         }
        },
        {
         "hovertemplate": "color=it<br>0=%{x}<br>1=%{y}<br>2=%{z}<extra></extra>",
         "legendgroup": "it",
         "marker": {
          "color": "#636efa",
          "symbol": "circle"
         },
         "mode": "markers",
         "name": "it",
         "scene": "scene",
         "showlegend": true,
         "type": "scatter3d",
         "x": {
          "bdata": "31bFvQ==",
          "dtype": "f4"
         },
         "y": {
          "bdata": "/9gfPw==",
          "dtype": "f4"
         },
         "z": {
          "bdata": "sml5Pg==",
          "dtype": "f4"
         }
        },
        {
         "hovertemplate": "color=had<br>0=%{x}<br>1=%{y}<br>2=%{z}<extra></extra>",
         "legendgroup": "had",
         "marker": {
          "color": "#EF553B",
          "symbol": "circle"
         },
         "mode": "markers",
         "name": "had",
         "scene": "scene",
         "showlegend": true,
         "type": "scatter3d",
         "x": {
          "bdata": "BB4Ivg==",
          "dtype": "f4"
         },
         "y": {
          "bdata": "8QkCPw==",
          "dtype": "f4"
         },
         "z": {
          "bdata": "6u4jPg==",
          "dtype": "f4"
         }
        },
        {
         "hovertemplate": "color=that<br>0=%{x}<br>1=%{y}<br>2=%{z}<extra></extra>",
         "legendgroup": "that",
         "marker": {
          "color": "#00cc96",
          "symbol": "circle"
         },
         "mode": "markers",
         "name": "that",
         "scene": "scene",
         "showlegend": true,
         "type": "scatter3d",
         "x": {
          "bdata": "H/yTvg==",
          "dtype": "f4"
         },
         "y": {
          "bdata": "FQ0bPw==",
          "dtype": "f4"
         },
         "z": {
          "bdata": "WDStPQ==",
          "dtype": "f4"
         }
        },
        {
         "hovertemplate": "color=she<br>0=%{x}<br>1=%{y}<br>2=%{z}<extra></extra>",
         "legendgroup": "she",
         "marker": {
          "color": "#ab63fa",
          "symbol": "circle"
         },
         "mode": "markers",
         "name": "she",
         "scene": "scene",
         "showlegend": true,
         "type": "scatter3d",
         "x": {
          "bdata": "koi+vQ==",
          "dtype": "f4"
         },
         "y": {
          "bdata": "gvcFPw==",
          "dtype": "f4"
         },
         "z": {
          "bdata": "2C6RPg==",
          "dtype": "f4"
         }
        },
        {
         "hovertemplate": "color=as<br>0=%{x}<br>1=%{y}<br>2=%{z}<extra></extra>",
         "legendgroup": "as",
         "marker": {
          "color": "#FFA15A",
          "symbol": "circle"
         },
         "mode": "markers",
         "name": "as",
         "scene": "scene",
         "showlegend": true,
         "type": "scatter3d",
         "x": {
          "bdata": "CH9avA==",
          "dtype": "f4"
         },
         "y": {
          "bdata": "3RDzPg==",
          "dtype": "f4"
         },
         "z": {
          "bdata": "d2R0Pg==",
          "dtype": "f4"
         }
        },
        {
         "hovertemplate": "color=with<br>0=%{x}<br>1=%{y}<br>2=%{z}<extra></extra>",
         "legendgroup": "with",
         "marker": {
          "color": "#19d3f3",
          "symbol": "circle"
         },
         "mode": "markers",
         "name": "with",
         "scene": "scene",
         "showlegend": true,
         "type": "scatter3d",
         "x": {
          "bdata": "xSX/PQ==",
          "dtype": "f4"
         },
         "y": {
          "bdata": "gECKPg==",
          "dtype": "f4"
         },
         "z": {
          "bdata": "YjY9Pg==",
          "dtype": "f4"
         }
        },
        {
         "hovertemplate": "color=him<br>0=%{x}<br>1=%{y}<br>2=%{z}<extra></extra>",
         "legendgroup": "him",
         "marker": {
          "color": "#FF6692",
          "symbol": "circle"
         },
         "mode": "markers",
         "name": "him",
         "scene": "scene",
         "showlegend": true,
         "type": "scatter3d",
         "x": {
          "bdata": "H+b2vQ==",
          "dtype": "f4"
         },
         "y": {
          "bdata": "MxEMPw==",
          "dtype": "f4"
         },
         "z": {
          "bdata": "LG+oPg==",
          "dtype": "f4"
         }
        },
        {
         "hovertemplate": "color=not<br>0=%{x}<br>1=%{y}<br>2=%{z}<extra></extra>",
         "legendgroup": "not",
         "marker": {
          "color": "#B6E880",
          "symbol": "circle"
         },
         "mode": "markers",
         "name": "not",
         "scene": "scene",
         "showlegend": true,
         "type": "scatter3d",
         "x": {
          "bdata": "OPrpvg==",
          "dtype": "f4"
         },
         "y": {
          "bdata": "2eQQPw==",
          "dtype": "f4"
         },
         "z": {
          "bdata": "TGxMPg==",
          "dtype": "f4"
         }
        },
        {
         "hovertemplate": "color=but<br>0=%{x}<br>1=%{y}<br>2=%{z}<extra></extra>",
         "legendgroup": "but",
         "marker": {
          "color": "#FF97FF",
          "symbol": "circle"
         },
         "mode": "markers",
         "name": "but",
         "scene": "scene",
         "showlegend": true,
         "type": "scatter3d",
         "x": {
          "bdata": "YvJtvg==",
          "dtype": "f4"
         },
         "y": {
          "bdata": "800WPw==",
          "dtype": "f4"
         },
         "z": {
          "bdata": "e3AwPg==",
          "dtype": "f4"
         }
        },
        {
         "hovertemplate": "color=for<br>0=%{x}<br>1=%{y}<br>2=%{z}<extra></extra>",
         "legendgroup": "for",
         "marker": {
          "color": "#FECB52",
          "symbol": "circle"
         },
         "mode": "markers",
         "name": "for",
         "scene": "scene",
         "showlegend": true,
         "type": "scatter3d",
         "x": {
          "bdata": "Yhrevg==",
          "dtype": "f4"
         },
         "y": {
          "bdata": "cC4FPw==",
          "dtype": "f4"
         },
         "z": {
          "bdata": "eZ85Pg==",
          "dtype": "f4"
         }
        },
        {
         "hovertemplate": "color=they<br>0=%{x}<br>1=%{y}<br>2=%{z}<extra></extra>",
         "legendgroup": "they",
         "marker": {
          "color": "#636efa",
          "symbol": "circle"
         },
         "mode": "markers",
         "name": "they",
         "scene": "scene",
         "showlegend": true,
         "type": "scatter3d",
         "x": {
          "bdata": "uCeuvA==",
          "dtype": "f4"
         },
         "y": {
          "bdata": "GzA2Pw==",
          "dtype": "f4"
         },
         "z": {
          "bdata": "5COovQ==",
          "dtype": "f4"
         }
        },
        {
         "hovertemplate": "color=is<br>0=%{x}<br>1=%{y}<br>2=%{z}<extra></extra>",
         "legendgroup": "is",
         "marker": {
          "color": "#EF553B",
          "symbol": "circle"
         },
         "mode": "markers",
         "name": "is",
         "scene": "scene",
         "showlegend": true,
         "type": "scatter3d",
         "x": {
          "bdata": "wm0Tvw==",
          "dtype": "f4"
         },
         "y": {
          "bdata": "rkT7Pg==",
          "dtype": "f4"
         },
         "z": {
          "bdata": "Dc4wPg==",
          "dtype": "f4"
         }
        },
        {
         "hovertemplate": "color=at<br>0=%{x}<br>1=%{y}<br>2=%{z}<extra></extra>",
         "legendgroup": "at",
         "marker": {
          "color": "#00cc96",
          "symbol": "circle"
         },
         "mode": "markers",
         "name": "at",
         "scene": "scene",
         "showlegend": true,
         "type": "scatter3d",
         "x": {
          "bdata": "7m9YvQ==",
          "dtype": "f4"
         },
         "y": {
          "bdata": "jQzMPg==",
          "dtype": "f4"
         },
         "z": {
          "bdata": "9UubPg==",
          "dtype": "f4"
         }
        },
        {
         "hovertemplate": "color=on<br>0=%{x}<br>1=%{y}<br>2=%{z}<extra></extra>",
         "legendgroup": "on",
         "marker": {
          "color": "#ab63fa",
          "symbol": "circle"
         },
         "mode": "markers",
         "name": "on",
         "scene": "scene",
         "showlegend": true,
         "type": "scatter3d",
         "x": {
          "bdata": "3CZFPg==",
          "dtype": "f4"
         },
         "y": {
          "bdata": "befqPg==",
          "dtype": "f4"
         },
         "z": {
          "bdata": "eRBXPg==",
          "dtype": "f4"
         }
        },
        {
         "hovertemplate": "color=said<br>0=%{x}<br>1=%{y}<br>2=%{z}<extra></extra>",
         "legendgroup": "said",
         "marker": {
          "color": "#FFA15A",
          "symbol": "circle"
         },
         "mode": "markers",
         "name": "said",
         "scene": "scene",
         "showlegend": true,
         "type": "scatter3d",
         "x": {
          "bdata": "4HIIvw==",
          "dtype": "f4"
         },
         "y": {
          "bdata": "xgbyPg==",
          "dtype": "f4"
         },
         "z": {
          "bdata": "RkL4Pg==",
          "dtype": "f4"
         }
        },
        {
         "hovertemplate": "color=my<br>0=%{x}<br>1=%{y}<br>2=%{z}<extra></extra>",
         "legendgroup": "my",
         "marker": {
          "color": "#19d3f3",
          "symbol": "circle"
         },
         "mode": "markers",
         "name": "my",
         "scene": "scene",
         "showlegend": true,
         "type": "scatter3d",
         "x": {
          "bdata": "6nHzvg==",
          "dtype": "f4"
         },
         "y": {
          "bdata": "AGgCPw==",
          "dtype": "f4"
         },
         "z": {
          "bdata": "+LsoPg==",
          "dtype": "f4"
         }
        },
        {
         "hovertemplate": "color=have<br>0=%{x}<br>1=%{y}<br>2=%{z}<extra></extra>",
         "legendgroup": "have",
         "marker": {
          "color": "#FF6692",
          "symbol": "circle"
         },
         "mode": "markers",
         "name": "have",
         "scene": "scene",
         "showlegend": true,
         "type": "scatter3d",
         "x": {
          "bdata": "2SnNvg==",
          "dtype": "f4"
         },
         "y": {
          "bdata": "AiIfPw==",
          "dtype": "f4"
         },
         "z": {
          "bdata": "eTz8PQ==",
          "dtype": "f4"
         }
        },
        {
         "hovertemplate": "color=be<br>0=%{x}<br>1=%{y}<br>2=%{z}<extra></extra>",
         "legendgroup": "be",
         "marker": {
          "color": "#B6E880",
          "symbol": "circle"
         },
         "mode": "markers",
         "name": "be",
         "scene": "scene",
         "showlegend": true,
         "type": "scatter3d",
         "x": {
          "bdata": "LE3Evg==",
          "dtype": "f4"
         },
         "y": {
          "bdata": "X68kPw==",
          "dtype": "f4"
         },
         "z": {
          "bdata": "5eLgPQ==",
          "dtype": "f4"
         }
        },
        {
         "hovertemplate": "color=lord<br>0=%{x}<br>1=%{y}<br>2=%{z}<extra></extra>",
         "legendgroup": "lord",
         "marker": {
          "color": "#FF97FF",
          "symbol": "circle"
         },
         "mode": "markers",
         "name": "lord",
         "scene": "scene",
         "showlegend": true,
         "type": "scatter3d",
         "x": {
          "bdata": "nZr1vg==",
          "dtype": "f4"
         },
         "y": {
          "bdata": "dsjZPg==",
          "dtype": "f4"
         },
         "z": {
          "bdata": "21bFPQ==",
          "dtype": "f4"
         }
        },
        {
         "hovertemplate": "color=them<br>0=%{x}<br>1=%{y}<br>2=%{z}<extra></extra>",
         "legendgroup": "them",
         "marker": {
          "color": "#FECB52",
          "symbol": "circle"
         },
         "mode": "markers",
         "name": "them",
         "scene": "scene",
         "showlegend": true,
         "type": "scatter3d",
         "x": {
          "bdata": "wGhLOw==",
          "dtype": "f4"
         },
         "y": {
          "bdata": "XBIvPw==",
          "dtype": "f4"
         },
         "z": {
          "bdata": "uIEBvQ==",
          "dtype": "f4"
         }
        },
        {
         "hovertemplate": "color=no<br>0=%{x}<br>1=%{y}<br>2=%{z}<extra></extra>",
         "legendgroup": "no",
         "marker": {
          "color": "#636efa",
          "symbol": "circle"
         },
         "mode": "markers",
         "name": "no",
         "scene": "scene",
         "showlegend": true,
         "type": "scatter3d",
         "x": {
          "bdata": "m03Avg==",
          "dtype": "f4"
         },
         "y": {
          "bdata": "e9kIPw==",
          "dtype": "f4"
         },
         "z": {
          "bdata": "Gv+pPQ==",
          "dtype": "f4"
         }
        },
        {
         "hovertemplate": "color=from<br>0=%{x}<br>1=%{y}<br>2=%{z}<extra></extra>",
         "legendgroup": "from",
         "marker": {
          "color": "#EF553B",
          "symbol": "circle"
         },
         "mode": "markers",
         "name": "from",
         "scene": "scene",
         "showlegend": true,
         "type": "scatter3d",
         "x": {
          "bdata": "+NpKPg==",
          "dtype": "f4"
         },
         "y": {
          "bdata": "rIfePg==",
          "dtype": "f4"
         },
         "z": {
          "bdata": "dpsXPg==",
          "dtype": "f4"
         }
        },
        {
         "hovertemplate": "color=would<br>0=%{x}<br>1=%{y}<br>2=%{z}<extra></extra>",
         "legendgroup": "would",
         "marker": {
          "color": "#00cc96",
          "symbol": "circle"
         },
         "mode": "markers",
         "name": "would",
         "scene": "scene",
         "showlegend": true,
         "type": "scatter3d",
         "x": {
          "bdata": "yHjIvg==",
          "dtype": "f4"
         },
         "y": {
          "bdata": "644OPw==",
          "dtype": "f4"
         },
         "z": {
          "bdata": "FsN4Pg==",
          "dtype": "f4"
         }
        },
        {
         "hovertemplate": "color=were<br>0=%{x}<br>1=%{y}<br>2=%{z}<extra></extra>",
         "legendgroup": "were",
         "marker": {
          "color": "#ab63fa",
          "symbol": "circle"
         },
         "mode": "markers",
         "name": "were",
         "scene": "scene",
         "showlegend": true,
         "type": "scatter3d",
         "x": {
          "bdata": "ZLGTPA==",
          "dtype": "f4"
         },
         "y": {
          "bdata": "rQwAPw==",
          "dtype": "f4"
         },
         "z": {
          "bdata": "QMcDPA==",
          "dtype": "f4"
         }
        },
        {
         "hovertemplate": "color=me<br>0=%{x}<br>1=%{y}<br>2=%{z}<extra></extra>",
         "legendgroup": "me",
         "marker": {
          "color": "#FFA15A",
          "symbol": "circle"
         },
         "mode": "markers",
         "name": "me",
         "scene": "scene",
         "showlegend": true,
         "type": "scatter3d",
         "x": {
          "bdata": "cZr9vg==",
          "dtype": "f4"
         },
         "y": {
          "bdata": "dtwUPw==",
          "dtype": "f4"
         },
         "z": {
          "bdata": "f/9TPg==",
          "dtype": "f4"
         }
        },
        {
         "hovertemplate": "color=your<br>0=%{x}<br>1=%{y}<br>2=%{z}<extra></extra>",
         "legendgroup": "your",
         "marker": {
          "color": "#19d3f3",
          "symbol": "circle"
         },
         "mode": "markers",
         "name": "your",
         "scene": "scene",
         "showlegend": true,
         "type": "scatter3d",
         "x": {
          "bdata": "WDHqvg==",
          "dtype": "f4"
         },
         "y": {
          "bdata": "lAv2Pg==",
          "dtype": "f4"
         },
         "z": {
          "bdata": "CB4rPg==",
          "dtype": "f4"
         }
        },
        {
         "hovertemplate": "color=one<br>0=%{x}<br>1=%{y}<br>2=%{z}<extra></extra>",
         "legendgroup": "one",
         "marker": {
          "color": "#FF6692",
          "symbol": "circle"
         },
         "mode": "markers",
         "name": "one",
         "scene": "scene",
         "showlegend": true,
         "type": "scatter3d",
         "x": {
          "bdata": "enQWvQ==",
          "dtype": "f4"
         },
         "y": {
          "bdata": "yJUYPw==",
          "dtype": "f4"
         },
         "z": {
          "bdata": "hDABPg==",
          "dtype": "f4"
         }
        },
        {
         "hovertemplate": "color=all<br>0=%{x}<br>1=%{y}<br>2=%{z}<extra></extra>",
         "legendgroup": "all",
         "marker": {
          "color": "#B6E880",
          "symbol": "circle"
         },
         "mode": "markers",
         "name": "all",
         "scene": "scene",
         "showlegend": true,
         "type": "scatter3d",
         "x": {
          "bdata": "QoNnvg==",
          "dtype": "f4"
         },
         "y": {
          "bdata": "jloxPw==",
          "dtype": "f4"
         },
         "z": {
          "bdata": "mKA4vQ==",
          "dtype": "f4"
         }
        },
        {
         "hovertemplate": "color=when<br>0=%{x}<br>1=%{y}<br>2=%{z}<extra></extra>",
         "legendgroup": "when",
         "marker": {
          "color": "#FF97FF",
          "symbol": "circle"
         },
         "mode": "markers",
         "name": "when",
         "scene": "scene",
         "showlegend": true,
         "type": "scatter3d",
         "x": {
          "bdata": "EFa7vQ==",
          "dtype": "f4"
         },
         "y": {
          "bdata": "c3sTPw==",
          "dtype": "f4"
         },
         "z": {
          "bdata": "c3mLPg==",
          "dtype": "f4"
         }
        },
        {
         "hovertemplate": "color=will<br>0=%{x}<br>1=%{y}<br>2=%{z}<extra></extra>",
         "legendgroup": "will",
         "marker": {
          "color": "#FECB52",
          "symbol": "circle"
         },
         "mode": "markers",
         "name": "will",
         "scene": "scene",
         "showlegend": true,
         "type": "scatter3d",
         "x": {
          "bdata": "qyr6vg==",
          "dtype": "f4"
         },
         "y": {
          "bdata": "+t0IPw==",
          "dtype": "f4"
         },
         "z": {
          "bdata": "vsk4Pg==",
          "dtype": "f4"
         }
        },
        {
         "hovertemplate": "color=ser<br>0=%{x}<br>1=%{y}<br>2=%{z}<extra></extra>",
         "legendgroup": "ser",
         "marker": {
          "color": "#636efa",
          "symbol": "circle"
         },
         "mode": "markers",
         "name": "ser",
         "scene": "scene",
         "showlegend": true,
         "type": "scatter3d",
         "x": {
          "bdata": "b/vAvg==",
          "dtype": "f4"
         },
         "y": {
          "bdata": "FD2UPg==",
          "dtype": "f4"
         },
         "z": {
          "bdata": "Uz0FPg==",
          "dtype": "f4"
         }
        },
        {
         "hovertemplate": "color=if<br>0=%{x}<br>1=%{y}<br>2=%{z}<extra></extra>",
         "legendgroup": "if",
         "marker": {
          "color": "#EF553B",
          "symbol": "circle"
         },
         "mode": "markers",
         "name": "if",
         "scene": "scene",
         "showlegend": true,
         "type": "scatter3d",
         "x": {
          "bdata": "d/fMvg==",
          "dtype": "f4"
         },
         "y": {
          "bdata": "wZ8gPw==",
          "dtype": "f4"
         },
         "z": {
          "bdata": "b6WMPg==",
          "dtype": "f4"
         }
        },
        {
         "hovertemplate": "color=so<br>0=%{x}<br>1=%{y}<br>2=%{z}<extra></extra>",
         "legendgroup": "so",
         "marker": {
          "color": "#00cc96",
          "symbol": "circle"
         },
         "mode": "markers",
         "name": "so",
         "scene": "scene",
         "showlegend": true,
         "type": "scatter3d",
         "x": {
          "bdata": "8q8svg==",
          "dtype": "f4"
         },
         "y": {
          "bdata": "8YoNPw==",
          "dtype": "f4"
         },
         "z": {
          "bdata": "US6DPg==",
          "dtype": "f4"
         }
        },
        {
         "hovertemplate": "color=their<br>0=%{x}<br>1=%{y}<br>2=%{z}<extra></extra>",
         "legendgroup": "their",
         "marker": {
          "color": "#ab63fa",
          "symbol": "circle"
         },
         "mode": "markers",
         "name": "their",
         "scene": "scene",
         "showlegend": true,
         "type": "scatter3d",
         "x": {
          "bdata": "63CKPQ==",
          "dtype": "f4"
         },
         "y": {
          "bdata": "rskJPw==",
          "dtype": "f4"
         },
         "z": {
          "bdata": "3EJRvg==",
          "dtype": "f4"
         }
        },
        {
         "hovertemplate": "color=we<br>0=%{x}<br>1=%{y}<br>2=%{z}<extra></extra>",
         "legendgroup": "we",
         "marker": {
          "color": "#FFA15A",
          "symbol": "circle"
         },
         "mode": "markers",
         "name": "we",
         "scene": "scene",
         "showlegend": true,
         "type": "scatter3d",
         "x": {
          "bdata": "uBu8vg==",
          "dtype": "f4"
         },
         "y": {
          "bdata": "Uc49Pw==",
          "dtype": "f4"
         },
         "z": {
          "bdata": "4CRGvQ==",
          "dtype": "f4"
         }
        },
        {
         "hovertemplate": "color=could<br>0=%{x}<br>1=%{y}<br>2=%{z}<extra></extra>",
         "legendgroup": "could",
         "marker": {
          "color": "#19d3f3",
          "symbol": "circle"
         },
         "mode": "markers",
         "name": "could",
         "scene": "scene",
         "showlegend": true,
         "type": "scatter3d",
         "x": {
          "bdata": "8TrDvQ==",
          "dtype": "f4"
         },
         "y": {
          "bdata": "dNgBPw==",
          "dtype": "f4"
         },
         "z": {
          "bdata": "pCuLPg==",
          "dtype": "f4"
         }
        },
        {
         "hovertemplate": "color=are<br>0=%{x}<br>1=%{y}<br>2=%{z}<extra></extra>",
         "legendgroup": "are",
         "marker": {
          "color": "#FF6692",
          "symbol": "circle"
         },
         "mode": "markers",
         "name": "are",
         "scene": "scene",
         "showlegend": true,
         "type": "scatter3d",
         "x": {
          "bdata": "iKTVvg==",
          "dtype": "f4"
         },
         "y": {
          "bdata": "IzIHPw==",
          "dtype": "f4"
         },
         "z": {
          "bdata": "eCPEvA==",
          "dtype": "f4"
         }
        },
        {
         "hovertemplate": "color=man<br>0=%{x}<br>1=%{y}<br>2=%{z}<extra></extra>",
         "legendgroup": "man",
         "marker": {
          "color": "#B6E880",
          "symbol": "circle"
         },
         "mode": "markers",
         "name": "man",
         "scene": "scene",
         "showlegend": true,
         "type": "scatter3d",
         "x": {
          "bdata": "A0/mvQ==",
          "dtype": "f4"
         },
         "y": {
          "bdata": "gkn5Pg==",
          "dtype": "f4"
         },
         "z": {
          "bdata": "1m4XPg==",
          "dtype": "f4"
         }
        },
        {
         "hovertemplate": "color=there<br>0=%{x}<br>1=%{y}<br>2=%{z}<extra></extra>",
         "legendgroup": "there",
         "marker": {
          "color": "#FF97FF",
          "symbol": "circle"
         },
         "mode": "markers",
         "name": "there",
         "scene": "scene",
         "showlegend": true,
         "type": "scatter3d",
         "x": {
          "bdata": "7keqvQ==",
          "dtype": "f4"
         },
         "y": {
          "bdata": "I5cePw==",
          "dtype": "f4"
         },
         "z": {
          "bdata": "YAVUvA==",
          "dtype": "f4"
         }
        },
        {
         "hovertemplate": "color=this<br>0=%{x}<br>1=%{y}<br>2=%{z}<extra></extra>",
         "legendgroup": "this",
         "marker": {
          "color": "#FECB52",
          "symbol": "circle"
         },
         "mode": "markers",
         "name": "this",
         "scene": "scene",
         "showlegend": true,
         "type": "scatter3d",
         "x": {
          "bdata": "cebZvg==",
          "dtype": "f4"
         },
         "y": {
          "bdata": "pUcbPw==",
          "dtype": "f4"
         },
         "z": {
          "bdata": "ujzLPQ==",
          "dtype": "f4"
         }
        },
        {
         "hovertemplate": "color=up<br>0=%{x}<br>1=%{y}<br>2=%{z}<extra></extra>",
         "legendgroup": "up",
         "marker": {
          "color": "#636efa",
          "symbol": "circle"
         },
         "mode": "markers",
         "name": "up",
         "scene": "scene",
         "showlegend": true,
         "type": "scatter3d",
         "x": {
          "bdata": "NgbQPg==",
          "dtype": "f4"
         },
         "y": {
          "bdata": "oH8TPw==",
          "dtype": "f4"
         },
         "z": {
          "bdata": "r1mTPg==",
          "dtype": "f4"
         }
        },
        {
         "hovertemplate": "color=been<br>0=%{x}<br>1=%{y}<br>2=%{z}<extra></extra>",
         "legendgroup": "been",
         "marker": {
          "color": "#EF553B",
          "symbol": "circle"
         },
         "mode": "markers",
         "name": "been",
         "scene": "scene",
         "showlegend": true,
         "type": "scatter3d",
         "x": {
          "bdata": "K2Ypvg==",
          "dtype": "f4"
         },
         "y": {
          "bdata": "V/gIPw==",
          "dtype": "f4"
         },
         "z": {
          "bdata": "wisBPg==",
          "dtype": "f4"
         }
        },
        {
         "hovertemplate": "color=what<br>0=%{x}<br>1=%{y}<br>2=%{z}<extra></extra>",
         "legendgroup": "what",
         "marker": {
          "color": "#00cc96",
          "symbol": "circle"
         },
         "mode": "markers",
         "name": "what",
         "scene": "scene",
         "showlegend": true,
         "type": "scatter3d",
         "x": {
          "bdata": "E8rMvg==",
          "dtype": "f4"
         },
         "y": {
          "bdata": "YIoYPw==",
          "dtype": "f4"
         },
         "z": {
          "bdata": "xhCtPQ==",
          "dtype": "f4"
         }
        },
        {
         "hovertemplate": "color=did<br>0=%{x}<br>1=%{y}<br>2=%{z}<extra></extra>",
         "legendgroup": "did",
         "marker": {
          "color": "#ab63fa",
          "symbol": "circle"
         },
         "mode": "markers",
         "name": "did",
         "scene": "scene",
         "showlegend": true,
         "type": "scatter3d",
         "x": {
          "bdata": "irm7vg==",
          "dtype": "f4"
         },
         "y": {
          "bdata": "+t3xPg==",
          "dtype": "f4"
         },
         "z": {
          "bdata": "epzFPg==",
          "dtype": "f4"
         }
        },
        {
         "hovertemplate": "color=by<br>0=%{x}<br>1=%{y}<br>2=%{z}<extra></extra>",
         "legendgroup": "by",
         "marker": {
          "color": "#FFA15A",
          "symbol": "circle"
         },
         "mode": "markers",
         "name": "by",
         "scene": "scene",
         "showlegend": true,
         "type": "scatter3d",
         "x": {
          "bdata": "9CCEvA==",
          "dtype": "f4"
         },
         "y": {
          "bdata": "HYTdPg==",
          "dtype": "f4"
         },
         "z": {
          "bdata": "APEJOg==",
          "dtype": "f4"
         }
        },
        {
         "hovertemplate": "color=king<br>0=%{x}<br>1=%{y}<br>2=%{z}<extra></extra>",
         "legendgroup": "king",
         "marker": {
          "color": "#19d3f3",
          "symbol": "circle"
         },
         "mode": "markers",
         "name": "king",
         "scene": "scene",
         "showlegend": true,
         "type": "scatter3d",
         "x": {
          "bdata": "1KTQvg==",
          "dtype": "f4"
         },
         "y": {
          "bdata": "ejAoPw==",
          "dtype": "f4"
         },
         "z": {
          "bdata": "hIIXPQ==",
          "dtype": "f4"
         }
        },
        {
         "hovertemplate": "color=do<br>0=%{x}<br>1=%{y}<br>2=%{z}<extra></extra>",
         "legendgroup": "do",
         "marker": {
          "color": "#FF6692",
          "symbol": "circle"
         },
         "mode": "markers",
         "name": "do",
         "scene": "scene",
         "showlegend": true,
         "type": "scatter3d",
         "x": {
          "bdata": "urUMvw==",
          "dtype": "f4"
         },
         "y": {
          "bdata": "6kwPPw==",
          "dtype": "f4"
         },
         "z": {
          "bdata": "LcuVPg==",
          "dtype": "f4"
         }
        },
        {
         "hovertemplate": "color=men<br>0=%{x}<br>1=%{y}<br>2=%{z}<extra></extra>",
         "legendgroup": "men",
         "marker": {
          "color": "#B6E880",
          "symbol": "circle"
         },
         "mode": "markers",
         "name": "men",
         "scene": "scene",
         "showlegend": true,
         "type": "scatter3d",
         "x": {
          "bdata": "UUjFvQ==",
          "dtype": "f4"
         },
         "y": {
          "bdata": "FpI8Pw==",
          "dtype": "f4"
         },
         "z": {
          "bdata": "KwWMvg==",
          "dtype": "f4"
         }
        },
        {
         "hovertemplate": "color=back<br>0=%{x}<br>1=%{y}<br>2=%{z}<extra></extra>",
         "legendgroup": "back",
         "marker": {
          "color": "#FF97FF",
          "symbol": "circle"
         },
         "mode": "markers",
         "name": "back",
         "scene": "scene",
         "showlegend": true,
         "type": "scatter3d",
         "x": {
          "bdata": "4nMuPg==",
          "dtype": "f4"
         },
         "y": {
          "bdata": "rGQdPw==",
          "dtype": "f4"
         },
         "z": {
          "bdata": "Rk/nPg==",
          "dtype": "f4"
         }
        },
        {
         "hovertemplate": "color=out<br>0=%{x}<br>1=%{y}<br>2=%{z}<extra></extra>",
         "legendgroup": "out",
         "marker": {
          "color": "#FECB52",
          "symbol": "circle"
         },
         "mode": "markers",
         "name": "out",
         "scene": "scene",
         "showlegend": true,
         "type": "scatter3d",
         "x": {
          "bdata": "nvSAPg==",
          "dtype": "f4"
         },
         "y": {
          "bdata": "aNEPPw==",
          "dtype": "f4"
         },
         "z": {
          "bdata": "UnKbPg==",
          "dtype": "f4"
         }
        },
        {
         "hovertemplate": "color=more<br>0=%{x}<br>1=%{y}<br>2=%{z}<extra></extra>",
         "legendgroup": "more",
         "marker": {
          "color": "#636efa",
          "symbol": "circle"
         },
         "mode": "markers",
         "name": "more",
         "scene": "scene",
         "showlegend": true,
         "type": "scatter3d",
         "x": {
          "bdata": "aj5jvg==",
          "dtype": "f4"
         },
         "y": {
          "bdata": "+4oQPw==",
          "dtype": "f4"
         },
         "z": {
          "bdata": "UImHPA==",
          "dtype": "f4"
         }
        },
        {
         "hovertemplate": "color=or<br>0=%{x}<br>1=%{y}<br>2=%{z}<extra></extra>",
         "legendgroup": "or",
         "marker": {
          "color": "#EF553B",
          "symbol": "circle"
         },
         "mode": "markers",
         "name": "or",
         "scene": "scene",
         "showlegend": true,
         "type": "scatter3d",
         "x": {
          "bdata": "tgepvg==",
          "dtype": "f4"
         },
         "y": {
          "bdata": "MD0UPw==",
          "dtype": "f4"
         },
         "z": {
          "bdata": "LMWNPQ==",
          "dtype": "f4"
         }
        },
        {
         "hovertemplate": "color=who<br>0=%{x}<br>1=%{y}<br>2=%{z}<extra></extra>",
         "legendgroup": "who",
         "marker": {
          "color": "#00cc96",
          "symbol": "circle"
         },
         "mode": "markers",
         "name": "who",
         "scene": "scene",
         "showlegend": true,
         "type": "scatter3d",
         "x": {
          "bdata": "M+jQvg==",
          "dtype": "f4"
         },
         "y": {
          "bdata": "9J8dPw==",
          "dtype": "f4"
         },
         "z": {
          "bdata": "eGbOvQ==",
          "dtype": "f4"
         }
        },
        {
         "hovertemplate": "color=down<br>0=%{x}<br>1=%{y}<br>2=%{z}<extra></extra>",
         "legendgroup": "down",
         "marker": {
          "color": "#ab63fa",
          "symbol": "circle"
         },
         "mode": "markers",
         "name": "down",
         "scene": "scene",
         "showlegend": true,
         "type": "scatter3d",
         "x": {
          "bdata": "Fu/mPg==",
          "dtype": "f4"
         },
         "y": {
          "bdata": "vhkXPw==",
          "dtype": "f4"
         },
         "z": {
          "bdata": "HvayPg==",
          "dtype": "f4"
         }
        },
        {
         "hovertemplate": "color=well<br>0=%{x}<br>1=%{y}<br>2=%{z}<extra></extra>",
         "legendgroup": "well",
         "marker": {
          "color": "#FFA15A",
          "symbol": "circle"
         },
         "mode": "markers",
         "name": "well",
         "scene": "scene",
         "showlegend": true,
         "type": "scatter3d",
         "x": {
          "bdata": "rCW1vg==",
          "dtype": "f4"
         },
         "y": {
          "bdata": "AecVPw==",
          "dtype": "f4"
         },
         "z": {
          "bdata": "7CBpPQ==",
          "dtype": "f4"
         }
        },
        {
         "hovertemplate": "color=than<br>0=%{x}<br>1=%{y}<br>2=%{z}<extra></extra>",
         "legendgroup": "than",
         "marker": {
          "color": "#19d3f3",
          "symbol": "circle"
         },
         "mode": "markers",
         "name": "than",
         "scene": "scene",
         "showlegend": true,
         "type": "scatter3d",
         "x": {
          "bdata": "q61Bvg==",
          "dtype": "f4"
         },
         "y": {
          "bdata": "ww/oPg==",
          "dtype": "f4"
         },
         "z": {
          "bdata": "HxArPg==",
          "dtype": "f4"
         }
        },
        {
         "hovertemplate": "color=only<br>0=%{x}<br>1=%{y}<br>2=%{z}<extra></extra>",
         "legendgroup": "only",
         "marker": {
          "color": "#FF6692",
          "symbol": "circle"
         },
         "mode": "markers",
         "name": "only",
         "scene": "scene",
         "showlegend": true,
         "type": "scatter3d",
         "x": {
          "bdata": "+Uidvg==",
          "dtype": "f4"
         },
         "y": {
          "bdata": "Eh0bPw==",
          "dtype": "f4"
         },
         "z": {
          "bdata": "YP8kPQ==",
          "dtype": "f4"
         }
        },
        {
         "hovertemplate": "color=like<br>0=%{x}<br>1=%{y}<br>2=%{z}<extra></extra>",
         "legendgroup": "like",
         "marker": {
          "color": "#B6E880",
          "symbol": "circle"
         },
         "mode": "markers",
         "name": "like",
         "scene": "scene",
         "showlegend": true,
         "type": "scatter3d",
         "x": {
          "bdata": "zaaNPQ==",
          "dtype": "f4"
         },
         "y": {
          "bdata": "6KvLPg==",
          "dtype": "f4"
         },
         "z": {
          "bdata": "udpyPg==",
          "dtype": "f4"
         }
        },
        {
         "hovertemplate": "color=jon<br>0=%{x}<br>1=%{y}<br>2=%{z}<extra></extra>",
         "legendgroup": "jon",
         "marker": {
          "color": "#FF97FF",
          "symbol": "circle"
         },
         "mode": "markers",
         "name": "jon",
         "scene": "scene",
         "showlegend": true,
         "type": "scatter3d",
         "x": {
          "bdata": "BFOavQ==",
          "dtype": "f4"
         },
         "y": {
          "bdata": "hoXIPg==",
          "dtype": "f4"
         },
         "z": {
          "bdata": "oxGBPg==",
          "dtype": "f4"
         }
        },
        {
         "hovertemplate": "color=some<br>0=%{x}<br>1=%{y}<br>2=%{z}<extra></extra>",
         "legendgroup": "some",
         "marker": {
          "color": "#FECB52",
          "symbol": "circle"
         },
         "mode": "markers",
         "name": "some",
         "scene": "scene",
         "showlegend": true,
         "type": "scatter3d",
         "x": {
          "bdata": "Ub0Ivg==",
          "dtype": "f4"
         },
         "y": {
          "bdata": "xiwGPw==",
          "dtype": "f4"
         },
         "z": {
          "bdata": "XFIdvg==",
          "dtype": "f4"
         }
        },
        {
         "hovertemplate": "color=father<br>0=%{x}<br>1=%{y}<br>2=%{z}<extra></extra>",
         "legendgroup": "father",
         "marker": {
          "color": "#636efa",
          "symbol": "circle"
         },
         "mode": "markers",
         "name": "father",
         "scene": "scene",
         "showlegend": true,
         "type": "scatter3d",
         "x": {
          "bdata": "p4P5vg==",
          "dtype": "f4"
         },
         "y": {
          "bdata": "ShslPw==",
          "dtype": "f4"
         },
         "z": {
          "bdata": "r0E/Pg==",
          "dtype": "f4"
         }
        },
        {
         "hovertemplate": "color=old<br>0=%{x}<br>1=%{y}<br>2=%{z}<extra></extra>",
         "legendgroup": "old",
         "marker": {
          "color": "#EF553B",
          "symbol": "circle"
         },
         "mode": "markers",
         "name": "old",
         "scene": "scene",
         "showlegend": true,
         "type": "scatter3d",
         "x": {
          "bdata": "o54dvg==",
          "dtype": "f4"
         },
         "y": {
          "bdata": "WAjQPg==",
          "dtype": "f4"
         },
         "z": {
          "bdata": "YI2nvA==",
          "dtype": "f4"
         }
        },
        {
         "hovertemplate": "color=hand<br>0=%{x}<br>1=%{y}<br>2=%{z}<extra></extra>",
         "legendgroup": "hand",
         "marker": {
          "color": "#00cc96",
          "symbol": "circle"
         },
         "mode": "markers",
         "name": "hand",
         "scene": "scene",
         "showlegend": true,
         "type": "scatter3d",
         "x": {
          "bdata": "+scVPQ==",
          "dtype": "f4"
         },
         "y": {
          "bdata": "WRUDPw==",
          "dtype": "f4"
         },
         "z": {
          "bdata": "xWL7Pg==",
          "dtype": "f4"
         }
        },
        {
         "hovertemplate": "color=even<br>0=%{x}<br>1=%{y}<br>2=%{z}<extra></extra>",
         "legendgroup": "even",
         "marker": {
          "color": "#ab63fa",
          "symbol": "circle"
         },
         "mode": "markers",
         "name": "even",
         "scene": "scene",
         "showlegend": true,
         "type": "scatter3d",
         "x": {
          "bdata": "2ZQ6vg==",
          "dtype": "f4"
         },
         "y": {
          "bdata": "bIQMPw==",
          "dtype": "f4"
         },
         "z": {
          "bdata": "MBc8PQ==",
          "dtype": "f4"
         }
        },
        {
         "hovertemplate": "color=too<br>0=%{x}<br>1=%{y}<br>2=%{z}<extra></extra>",
         "legendgroup": "too",
         "marker": {
          "color": "#FFA15A",
          "symbol": "circle"
         },
         "mode": "markers",
         "name": "too",
         "scene": "scene",
         "showlegend": true,
         "type": "scatter3d",
         "x": {
          "bdata": "nRp2vg==",
          "dtype": "f4"
         },
         "y": {
          "bdata": "AlbnPg==",
          "dtype": "f4"
         },
         "z": {
          "bdata": "D1dXPg==",
          "dtype": "f4"
         }
        },
        {
         "hovertemplate": "color=tyrion<br>0=%{x}<br>1=%{y}<br>2=%{z}<extra></extra>",
         "legendgroup": "tyrion",
         "marker": {
          "color": "#19d3f3",
          "symbol": "circle"
         },
         "mode": "markers",
         "name": "tyrion",
         "scene": "scene",
         "showlegend": true,
         "type": "scatter3d",
         "x": {
          "bdata": "72gXvg==",
          "dtype": "f4"
         },
         "y": {
          "bdata": "9jiVPg==",
          "dtype": "f4"
         },
         "z": {
          "bdata": "jj+8Pg==",
          "dtype": "f4"
         }
        },
        {
         "hovertemplate": "color=before<br>0=%{x}<br>1=%{y}<br>2=%{z}<extra></extra>",
         "legendgroup": "before",
         "marker": {
          "color": "#FF6692",
          "symbol": "circle"
         },
         "mode": "markers",
         "name": "before",
         "scene": "scene",
         "showlegend": true,
         "type": "scatter3d",
         "x": {
          "bdata": "5xT8vQ==",
          "dtype": "f4"
         },
         "y": {
          "bdata": "+IMqPw==",
          "dtype": "f4"
         },
         "z": {
          "bdata": "QHJrPg==",
          "dtype": "f4"
         }
        },
        {
         "hovertemplate": "color=never<br>0=%{x}<br>1=%{y}<br>2=%{z}<extra></extra>",
         "legendgroup": "never",
         "marker": {
          "color": "#B6E880",
          "symbol": "circle"
         },
         "mode": "markers",
         "name": "never",
         "scene": "scene",
         "showlegend": true,
         "type": "scatter3d",
         "x": {
          "bdata": "FoT0vg==",
          "dtype": "f4"
         },
         "y": {
          "bdata": "HqgSPw==",
          "dtype": "f4"
         },
         "z": {
          "bdata": "S99fPg==",
          "dtype": "f4"
         }
        },
        {
         "hovertemplate": "color=an<br>0=%{x}<br>1=%{y}<br>2=%{z}<extra></extra>",
         "legendgroup": "an",
         "marker": {
          "color": "#FF97FF",
          "symbol": "circle"
         },
         "mode": "markers",
         "name": "an",
         "scene": "scene",
         "showlegend": true,
         "type": "scatter3d",
         "x": {
          "bdata": "IsIcvQ==",
          "dtype": "f4"
         },
         "y": {
          "bdata": "EPSpPg==",
          "dtype": "f4"
         },
         "z": {
          "bdata": "DhOlPQ==",
          "dtype": "f4"
         }
        },
        {
         "hovertemplate": "color=off<br>0=%{x}<br>1=%{y}<br>2=%{z}<extra></extra>",
         "legendgroup": "off",
         "marker": {
          "color": "#FECB52",
          "symbol": "circle"
         },
         "mode": "markers",
         "name": "off",
         "scene": "scene",
         "showlegend": true,
         "type": "scatter3d",
         "x": {
          "bdata": "ShmXPg==",
          "dtype": "f4"
         },
         "y": {
          "bdata": "wRHXPg==",
          "dtype": "f4"
         },
         "z": {
          "bdata": "5WjXPg==",
          "dtype": "f4"
         }
        },
        {
         "hovertemplate": "color=see<br>0=%{x}<br>1=%{y}<br>2=%{z}<extra></extra>",
         "legendgroup": "see",
         "marker": {
          "color": "#636efa",
          "symbol": "circle"
         },
         "mode": "markers",
         "name": "see",
         "scene": "scene",
         "showlegend": true,
         "type": "scatter3d",
         "x": {
          "bdata": "OwAmvg==",
          "dtype": "f4"
         },
         "y": {
          "bdata": "37siPw==",
          "dtype": "f4"
         },
         "z": {
          "bdata": "MLGxPg==",
          "dtype": "f4"
         }
        },
        {
         "hovertemplate": "color=know<br>0=%{x}<br>1=%{y}<br>2=%{z}<extra></extra>",
         "legendgroup": "know",
         "marker": {
          "color": "#EF553B",
          "symbol": "circle"
         },
         "mode": "markers",
         "name": "know",
         "scene": "scene",
         "showlegend": true,
         "type": "scatter3d",
         "x": {
          "bdata": "2lIPvw==",
          "dtype": "f4"
         },
         "y": {
          "bdata": "c0UPPw==",
          "dtype": "f4"
         },
         "z": {
          "bdata": "KFdHPg==",
          "dtype": "f4"
         }
        },
        {
         "hovertemplate": "color=into<br>0=%{x}<br>1=%{y}<br>2=%{z}<extra></extra>",
         "legendgroup": "into",
         "marker": {
          "color": "#00cc96",
          "symbol": "circle"
         },
         "mode": "markers",
         "name": "into",
         "scene": "scene",
         "showlegend": true,
         "type": "scatter3d",
         "x": {
          "bdata": "uLDJPg==",
          "dtype": "f4"
         },
         "y": {
          "bdata": "VWXWPg==",
          "dtype": "f4"
         },
         "z": {
          "bdata": "Rfu4Pg==",
          "dtype": "f4"
         }
        },
        {
         "hovertemplate": "color=made<br>0=%{x}<br>1=%{y}<br>2=%{z}<extra></extra>",
         "legendgroup": "made",
         "marker": {
          "color": "#ab63fa",
          "symbol": "circle"
         },
         "mode": "markers",
         "name": "made",
         "scene": "scene",
         "showlegend": true,
         "type": "scatter3d",
         "x": {
          "bdata": "RC8dvQ==",
          "dtype": "f4"
         },
         "y": {
          "bdata": "cJe7Pg==",
          "dtype": "f4"
         },
         "z": {
          "bdata": "pULFPg==",
          "dtype": "f4"
         }
        },
        {
         "hovertemplate": "color=now<br>0=%{x}<br>1=%{y}<br>2=%{z}<extra></extra>",
         "legendgroup": "now",
         "marker": {
          "color": "#FFA15A",
          "symbol": "circle"
         },
         "mode": "markers",
         "name": "now",
         "scene": "scene",
         "showlegend": true,
         "type": "scatter3d",
         "x": {
          "bdata": "g06ovg==",
          "dtype": "f4"
         },
         "y": {
          "bdata": "X3cqPw==",
          "dtype": "f4"
         },
         "z": {
          "bdata": "hiwjPg==",
          "dtype": "f4"
         }
        },
        {
         "hovertemplate": "color=eyes<br>0=%{x}<br>1=%{y}<br>2=%{z}<extra></extra>",
         "legendgroup": "eyes",
         "marker": {
          "color": "#19d3f3",
          "symbol": "circle"
         },
         "mode": "markers",
         "name": "eyes",
         "scene": "scene",
         "showlegend": true,
         "type": "scatter3d",
         "x": {
          "bdata": "0hohPg==",
          "dtype": "f4"
         },
         "y": {
          "bdata": "Stv/Pg==",
          "dtype": "f4"
         },
         "z": {
          "bdata": "omm+Pg==",
          "dtype": "f4"
         }
        },
        {
         "hovertemplate": "color=black<br>0=%{x}<br>1=%{y}<br>2=%{z}<extra></extra>",
         "legendgroup": "black",
         "marker": {
          "color": "#FF6692",
          "symbol": "circle"
         },
         "mode": "markers",
         "name": "black",
         "scene": "scene",
         "showlegend": true,
         "type": "scatter3d",
         "x": {
          "bdata": "7OvBPg==",
          "dtype": "f4"
         },
         "y": {
          "bdata": "HJzAPg==",
          "dtype": "f4"
         },
         "z": {
          "bdata": "9DyCvQ==",
          "dtype": "f4"
         }
        },
        {
         "hovertemplate": "color=told<br>0=%{x}<br>1=%{y}<br>2=%{z}<extra></extra>",
         "legendgroup": "told",
         "marker": {
          "color": "#B6E880",
          "symbol": "circle"
         },
         "mode": "markers",
         "name": "told",
         "scene": "scene",
         "showlegend": true,
         "type": "scatter3d",
         "x": {
          "bdata": "OHHsvg==",
          "dtype": "f4"
         },
         "y": {
          "bdata": "LYoMPw==",
          "dtype": "f4"
         },
         "z": {
          "bdata": "9GLqPg==",
          "dtype": "f4"
         }
        },
        {
         "hovertemplate": "color=lady<br>0=%{x}<br>1=%{y}<br>2=%{z}<extra></extra>",
         "legendgroup": "lady",
         "marker": {
          "color": "#FF97FF",
          "symbol": "circle"
         },
         "mode": "markers",
         "name": "lady",
         "scene": "scene",
         "showlegend": true,
         "type": "scatter3d",
         "x": {
          "bdata": "nYQLvw==",
          "dtype": "f4"
         },
         "y": {
          "bdata": "Hwi3Pg==",
          "dtype": "f4"
         },
         "z": {
          "bdata": "7Z89Pg==",
          "dtype": "f4"
         }
        },
        {
         "hovertemplate": "color=thought<br>0=%{x}<br>1=%{y}<br>2=%{z}<extra></extra>",
         "legendgroup": "thought",
         "marker": {
          "color": "#FECB52",
          "symbol": "circle"
         },
         "mode": "markers",
         "name": "thought",
         "scene": "scene",
         "showlegend": true,
         "type": "scatter3d",
         "x": {
          "bdata": "eQqtvg==",
          "dtype": "f4"
         },
         "y": {
          "bdata": "xw8TPw==",
          "dtype": "f4"
         },
         "z": {
          "bdata": "86f8Pg==",
          "dtype": "f4"
         }
        },
        {
         "hovertemplate": "color=time<br>0=%{x}<br>1=%{y}<br>2=%{z}<extra></extra>",
         "legendgroup": "time",
         "marker": {
          "color": "#636efa",
          "symbol": "circle"
         },
         "mode": "markers",
         "name": "time",
         "scene": "scene",
         "showlegend": true,
         "type": "scatter3d",
         "x": {
          "bdata": "MByQvQ==",
          "dtype": "f4"
         },
         "y": {
          "bdata": "4bQ2Pw==",
          "dtype": "f4"
         },
         "z": {
          "bdata": "T0KbPg==",
          "dtype": "f4"
         }
        },
        {
         "hovertemplate": "color=then<br>0=%{x}<br>1=%{y}<br>2=%{z}<extra></extra>",
         "legendgroup": "then",
         "marker": {
          "color": "#EF553B",
          "symbol": "circle"
         },
         "mode": "markers",
         "name": "then",
         "scene": "scene",
         "showlegend": true,
         "type": "scatter3d",
         "x": {
          "bdata": "83ysPQ==",
          "dtype": "f4"
         },
         "y": {
          "bdata": "t04MPw==",
          "dtype": "f4"
         },
         "z": {
          "bdata": "mKHxPg==",
          "dtype": "f4"
         }
        },
        {
         "hovertemplate": "color=how<br>0=%{x}<br>1=%{y}<br>2=%{z}<extra></extra>",
         "legendgroup": "how",
         "marker": {
          "color": "#00cc96",
          "symbol": "circle"
         },
         "mode": "markers",
         "name": "how",
         "scene": "scene",
         "showlegend": true,
         "type": "scatter3d",
         "x": {
          "bdata": "kay7vg==",
          "dtype": "f4"
         },
         "y": {
          "bdata": "APkIPw==",
          "dtype": "f4"
         },
         "z": {
          "bdata": "mT5GPg==",
          "dtype": "f4"
         }
        },
        {
         "hovertemplate": "color=long<br>0=%{x}<br>1=%{y}<br>2=%{z}<extra></extra>",
         "legendgroup": "long",
         "marker": {
          "color": "#ab63fa",
          "symbol": "circle"
         },
         "mode": "markers",
         "name": "long",
         "scene": "scene",
         "showlegend": true,
         "type": "scatter3d",
         "x": {
          "bdata": "4mwYPg==",
          "dtype": "f4"
         },
         "y": {
          "bdata": "d0EDPw==",
          "dtype": "f4"
         },
         "z": {
          "bdata": "fHRGPQ==",
          "dtype": "f4"
         }
        },
        {
         "hovertemplate": "color=has<br>0=%{x}<br>1=%{y}<br>2=%{z}<extra></extra>",
         "legendgroup": "has",
         "marker": {
          "color": "#FFA15A",
          "symbol": "circle"
         },
         "mode": "markers",
         "name": "has",
         "scene": "scene",
         "showlegend": true,
         "type": "scatter3d",
         "x": {
          "bdata": "hrkHvw==",
          "dtype": "f4"
         },
         "y": {
          "bdata": "9D3xPg==",
          "dtype": "f4"
         },
         "z": {
          "bdata": "GheJPQ==",
          "dtype": "f4"
         }
        },
        {
         "hovertemplate": "color=can<br>0=%{x}<br>1=%{y}<br>2=%{z}<extra></extra>",
         "legendgroup": "can",
         "marker": {
          "color": "#19d3f3",
          "symbol": "circle"
         },
         "mode": "markers",
         "name": "can",
         "scene": "scene",
         "showlegend": true,
         "type": "scatter3d",
         "x": {
          "bdata": "78jRvg==",
          "dtype": "f4"
         },
         "y": {
          "bdata": "wUr9Pg==",
          "dtype": "f4"
         },
         "z": {
          "bdata": "05oxPg==",
          "dtype": "f4"
         }
        },
        {
         "hovertemplate": "color=might<br>0=%{x}<br>1=%{y}<br>2=%{z}<extra></extra>",
         "legendgroup": "might",
         "marker": {
          "color": "#FF6692",
          "symbol": "circle"
         },
         "mode": "markers",
         "name": "might",
         "scene": "scene",
         "showlegend": true,
         "type": "scatter3d",
         "x": {
          "bdata": "yD/Tvg==",
          "dtype": "f4"
         },
         "y": {
          "bdata": "5V7zPg==",
          "dtype": "f4"
         },
         "z": {
          "bdata": "GFNgPg==",
          "dtype": "f4"
         }
        },
        {
         "hovertemplate": "color=us<br>0=%{x}<br>1=%{y}<br>2=%{z}<extra></extra>",
         "legendgroup": "us",
         "marker": {
          "color": "#B6E880",
          "symbol": "circle"
         },
         "mode": "markers",
         "name": "us",
         "scene": "scene",
         "showlegend": true,
         "type": "scatter3d",
         "x": {
          "bdata": "DkDbvg==",
          "dtype": "f4"
         },
         "y": {
          "bdata": "/Bg6Pw==",
          "dtype": "f4"
         },
         "z": {
          "bdata": "XCG0vQ==",
          "dtype": "f4"
         }
        },
        {
         "hovertemplate": "color=come<br>0=%{x}<br>1=%{y}<br>2=%{z}<extra></extra>",
         "legendgroup": "come",
         "marker": {
          "color": "#FF97FF",
          "symbol": "circle"
         },
         "mode": "markers",
         "name": "come",
         "scene": "scene",
         "showlegend": true,
         "type": "scatter3d",
         "x": {
          "bdata": "4B2nvg==",
          "dtype": "f4"
         },
         "y": {
          "bdata": "0nNLPw==",
          "dtype": "f4"
         },
         "z": {
          "bdata": "Xgs7Pg==",
          "dtype": "f4"
         }
        },
        {
         "hovertemplate": "color=where<br>0=%{x}<br>1=%{y}<br>2=%{z}<extra></extra>",
         "legendgroup": "where",
         "marker": {
          "color": "#FECB52",
          "symbol": "circle"
         },
         "mode": "markers",
         "name": "where",
         "scene": "scene",
         "showlegend": true,
         "type": "scatter3d",
         "x": {
          "bdata": "4JcoPg==",
          "dtype": "f4"
         },
         "y": {
          "bdata": "dt0jPw==",
          "dtype": "f4"
         },
         "z": {
          "bdata": "iIIlPQ==",
          "dtype": "f4"
         }
        }
       ],
       "layout": {
        "legend": {
         "title": {
          "text": "color"
         },
         "tracegroupgap": 0
        },
        "margin": {
         "t": 60
        },
        "scene": {
         "domain": {
          "x": [
           0,
           1
          ],
          "y": [
           0,
           1
          ]
         },
         "xaxis": {
          "title": {
           "text": "0"
          }
         },
         "yaxis": {
          "title": {
           "text": "1"
          }
         },
         "zaxis": {
          "title": {
           "text": "2"
          }
         }
        },
        "template": {
         "data": {
          "bar": [
           {
            "error_x": {
             "color": "#2a3f5f"
            },
            "error_y": {
             "color": "#2a3f5f"
            },
            "marker": {
             "line": {
              "color": "#E5ECF6",
              "width": 0.5
             },
             "pattern": {
              "fillmode": "overlay",
              "size": 10,
              "solidity": 0.2
             }
            },
            "type": "bar"
           }
          ],
          "barpolar": [
           {
            "marker": {
             "line": {
              "color": "#E5ECF6",
              "width": 0.5
             },
             "pattern": {
              "fillmode": "overlay",
              "size": 10,
              "solidity": 0.2
             }
            },
            "type": "barpolar"
           }
          ],
          "carpet": [
           {
            "aaxis": {
             "endlinecolor": "#2a3f5f",
             "gridcolor": "white",
             "linecolor": "white",
             "minorgridcolor": "white",
             "startlinecolor": "#2a3f5f"
            },
            "baxis": {
             "endlinecolor": "#2a3f5f",
             "gridcolor": "white",
             "linecolor": "white",
             "minorgridcolor": "white",
             "startlinecolor": "#2a3f5f"
            },
            "type": "carpet"
           }
          ],
          "choropleth": [
           {
            "colorbar": {
             "outlinewidth": 0,
             "ticks": ""
            },
            "type": "choropleth"
           }
          ],
          "contour": [
           {
            "colorbar": {
             "outlinewidth": 0,
             "ticks": ""
            },
            "colorscale": [
             [
              0,
              "#0d0887"
             ],
             [
              0.1111111111111111,
              "#46039f"
             ],
             [
              0.2222222222222222,
              "#7201a8"
             ],
             [
              0.3333333333333333,
              "#9c179e"
             ],
             [
              0.4444444444444444,
              "#bd3786"
             ],
             [
              0.5555555555555556,
              "#d8576b"
             ],
             [
              0.6666666666666666,
              "#ed7953"
             ],
             [
              0.7777777777777778,
              "#fb9f3a"
             ],
             [
              0.8888888888888888,
              "#fdca26"
             ],
             [
              1,
              "#f0f921"
             ]
            ],
            "type": "contour"
           }
          ],
          "contourcarpet": [
           {
            "colorbar": {
             "outlinewidth": 0,
             "ticks": ""
            },
            "type": "contourcarpet"
           }
          ],
          "heatmap": [
           {
            "colorbar": {
             "outlinewidth": 0,
             "ticks": ""
            },
            "colorscale": [
             [
              0,
              "#0d0887"
             ],
             [
              0.1111111111111111,
              "#46039f"
             ],
             [
              0.2222222222222222,
              "#7201a8"
             ],
             [
              0.3333333333333333,
              "#9c179e"
             ],
             [
              0.4444444444444444,
              "#bd3786"
             ],
             [
              0.5555555555555556,
              "#d8576b"
             ],
             [
              0.6666666666666666,
              "#ed7953"
             ],
             [
              0.7777777777777778,
              "#fb9f3a"
             ],
             [
              0.8888888888888888,
              "#fdca26"
             ],
             [
              1,
              "#f0f921"
             ]
            ],
            "type": "heatmap"
           }
          ],
          "histogram": [
           {
            "marker": {
             "pattern": {
              "fillmode": "overlay",
              "size": 10,
              "solidity": 0.2
             }
            },
            "type": "histogram"
           }
          ],
          "histogram2d": [
           {
            "colorbar": {
             "outlinewidth": 0,
             "ticks": ""
            },
            "colorscale": [
             [
              0,
              "#0d0887"
             ],
             [
              0.1111111111111111,
              "#46039f"
             ],
             [
              0.2222222222222222,
              "#7201a8"
             ],
             [
              0.3333333333333333,
              "#9c179e"
             ],
             [
              0.4444444444444444,
              "#bd3786"
             ],
             [
              0.5555555555555556,
              "#d8576b"
             ],
             [
              0.6666666666666666,
              "#ed7953"
             ],
             [
              0.7777777777777778,
              "#fb9f3a"
             ],
             [
              0.8888888888888888,
              "#fdca26"
             ],
             [
              1,
              "#f0f921"
             ]
            ],
            "type": "histogram2d"
           }
          ],
          "histogram2dcontour": [
           {
            "colorbar": {
             "outlinewidth": 0,
             "ticks": ""
            },
            "colorscale": [
             [
              0,
              "#0d0887"
             ],
             [
              0.1111111111111111,
              "#46039f"
             ],
             [
              0.2222222222222222,
              "#7201a8"
             ],
             [
              0.3333333333333333,
              "#9c179e"
             ],
             [
              0.4444444444444444,
              "#bd3786"
             ],
             [
              0.5555555555555556,
              "#d8576b"
             ],
             [
              0.6666666666666666,
              "#ed7953"
             ],
             [
              0.7777777777777778,
              "#fb9f3a"
             ],
             [
              0.8888888888888888,
              "#fdca26"
             ],
             [
              1,
              "#f0f921"
             ]
            ],
            "type": "histogram2dcontour"
           }
          ],
          "mesh3d": [
           {
            "colorbar": {
             "outlinewidth": 0,
             "ticks": ""
            },
            "type": "mesh3d"
           }
          ],
          "parcoords": [
           {
            "line": {
             "colorbar": {
              "outlinewidth": 0,
              "ticks": ""
             }
            },
            "type": "parcoords"
           }
          ],
          "pie": [
           {
            "automargin": true,
            "type": "pie"
           }
          ],
          "scatter": [
           {
            "fillpattern": {
             "fillmode": "overlay",
             "size": 10,
             "solidity": 0.2
            },
            "type": "scatter"
           }
          ],
          "scatter3d": [
           {
            "line": {
             "colorbar": {
              "outlinewidth": 0,
              "ticks": ""
             }
            },
            "marker": {
             "colorbar": {
              "outlinewidth": 0,
              "ticks": ""
             }
            },
            "type": "scatter3d"
           }
          ],
          "scattercarpet": [
           {
            "marker": {
             "colorbar": {
              "outlinewidth": 0,
              "ticks": ""
             }
            },
            "type": "scattercarpet"
           }
          ],
          "scattergeo": [
           {
            "marker": {
             "colorbar": {
              "outlinewidth": 0,
              "ticks": ""
             }
            },
            "type": "scattergeo"
           }
          ],
          "scattergl": [
           {
            "marker": {
             "colorbar": {
              "outlinewidth": 0,
              "ticks": ""
             }
            },
            "type": "scattergl"
           }
          ],
          "scattermap": [
           {
            "marker": {
             "colorbar": {
              "outlinewidth": 0,
              "ticks": ""
             }
            },
            "type": "scattermap"
           }
          ],
          "scattermapbox": [
           {
            "marker": {
             "colorbar": {
              "outlinewidth": 0,
              "ticks": ""
             }
            },
            "type": "scattermapbox"
           }
          ],
          "scatterpolar": [
           {
            "marker": {
             "colorbar": {
              "outlinewidth": 0,
              "ticks": ""
             }
            },
            "type": "scatterpolar"
           }
          ],
          "scatterpolargl": [
           {
            "marker": {
             "colorbar": {
              "outlinewidth": 0,
              "ticks": ""
             }
            },
            "type": "scatterpolargl"
           }
          ],
          "scatterternary": [
           {
            "marker": {
             "colorbar": {
              "outlinewidth": 0,
              "ticks": ""
             }
            },
            "type": "scatterternary"
           }
          ],
          "surface": [
           {
            "colorbar": {
             "outlinewidth": 0,
             "ticks": ""
            },
            "colorscale": [
             [
              0,
              "#0d0887"
             ],
             [
              0.1111111111111111,
              "#46039f"
             ],
             [
              0.2222222222222222,
              "#7201a8"
             ],
             [
              0.3333333333333333,
              "#9c179e"
             ],
             [
              0.4444444444444444,
              "#bd3786"
             ],
             [
              0.5555555555555556,
              "#d8576b"
             ],
             [
              0.6666666666666666,
              "#ed7953"
             ],
             [
              0.7777777777777778,
              "#fb9f3a"
             ],
             [
              0.8888888888888888,
              "#fdca26"
             ],
             [
              1,
              "#f0f921"
             ]
            ],
            "type": "surface"
           }
          ],
          "table": [
           {
            "cells": {
             "fill": {
              "color": "#EBF0F8"
             },
             "line": {
              "color": "white"
             }
            },
            "header": {
             "fill": {
              "color": "#C8D4E3"
             },
             "line": {
              "color": "white"
             }
            },
            "type": "table"
           }
          ]
         },
         "layout": {
          "annotationdefaults": {
           "arrowcolor": "#2a3f5f",
           "arrowhead": 0,
           "arrowwidth": 1
          },
          "autotypenumbers": "strict",
          "coloraxis": {
           "colorbar": {
            "outlinewidth": 0,
            "ticks": ""
           }
          },
          "colorscale": {
           "diverging": [
            [
             0,
             "#8e0152"
            ],
            [
             0.1,
             "#c51b7d"
            ],
            [
             0.2,
             "#de77ae"
            ],
            [
             0.3,
             "#f1b6da"
            ],
            [
             0.4,
             "#fde0ef"
            ],
            [
             0.5,
             "#f7f7f7"
            ],
            [
             0.6,
             "#e6f5d0"
            ],
            [
             0.7,
             "#b8e186"
            ],
            [
             0.8,
             "#7fbc41"
            ],
            [
             0.9,
             "#4d9221"
            ],
            [
             1,
             "#276419"
            ]
           ],
           "sequential": [
            [
             0,
             "#0d0887"
            ],
            [
             0.1111111111111111,
             "#46039f"
            ],
            [
             0.2222222222222222,
             "#7201a8"
            ],
            [
             0.3333333333333333,
             "#9c179e"
            ],
            [
             0.4444444444444444,
             "#bd3786"
            ],
            [
             0.5555555555555556,
             "#d8576b"
            ],
            [
             0.6666666666666666,
             "#ed7953"
            ],
            [
             0.7777777777777778,
             "#fb9f3a"
            ],
            [
             0.8888888888888888,
             "#fdca26"
            ],
            [
             1,
             "#f0f921"
            ]
           ],
           "sequentialminus": [
            [
             0,
             "#0d0887"
            ],
            [
             0.1111111111111111,
             "#46039f"
            ],
            [
             0.2222222222222222,
             "#7201a8"
            ],
            [
             0.3333333333333333,
             "#9c179e"
            ],
            [
             0.4444444444444444,
             "#bd3786"
            ],
            [
             0.5555555555555556,
             "#d8576b"
            ],
            [
             0.6666666666666666,
             "#ed7953"
            ],
            [
             0.7777777777777778,
             "#fb9f3a"
            ],
            [
             0.8888888888888888,
             "#fdca26"
            ],
            [
             1,
             "#f0f921"
            ]
           ]
          },
          "colorway": [
           "#636efa",
           "#EF553B",
           "#00cc96",
           "#ab63fa",
           "#FFA15A",
           "#19d3f3",
           "#FF6692",
           "#B6E880",
           "#FF97FF",
           "#FECB52"
          ],
          "font": {
           "color": "#2a3f5f"
          },
          "geo": {
           "bgcolor": "white",
           "lakecolor": "white",
           "landcolor": "#E5ECF6",
           "showlakes": true,
           "showland": true,
           "subunitcolor": "white"
          },
          "hoverlabel": {
           "align": "left"
          },
          "hovermode": "closest",
          "mapbox": {
           "style": "light"
          },
          "paper_bgcolor": "white",
          "plot_bgcolor": "#E5ECF6",
          "polar": {
           "angularaxis": {
            "gridcolor": "white",
            "linecolor": "white",
            "ticks": ""
           },
           "bgcolor": "#E5ECF6",
           "radialaxis": {
            "gridcolor": "white",
            "linecolor": "white",
            "ticks": ""
           }
          },
          "scene": {
           "xaxis": {
            "backgroundcolor": "#E5ECF6",
            "gridcolor": "white",
            "gridwidth": 2,
            "linecolor": "white",
            "showbackground": true,
            "ticks": "",
            "zerolinecolor": "white"
           },
           "yaxis": {
            "backgroundcolor": "#E5ECF6",
            "gridcolor": "white",
            "gridwidth": 2,
            "linecolor": "white",
            "showbackground": true,
            "ticks": "",
            "zerolinecolor": "white"
           },
           "zaxis": {
            "backgroundcolor": "#E5ECF6",
            "gridcolor": "white",
            "gridwidth": 2,
            "linecolor": "white",
            "showbackground": true,
            "ticks": "",
            "zerolinecolor": "white"
           }
          },
          "shapedefaults": {
           "line": {
            "color": "#2a3f5f"
           }
          },
          "ternary": {
           "aaxis": {
            "gridcolor": "white",
            "linecolor": "white",
            "ticks": ""
           },
           "baxis": {
            "gridcolor": "white",
            "linecolor": "white",
            "ticks": ""
           },
           "bgcolor": "#E5ECF6",
           "caxis": {
            "gridcolor": "white",
            "linecolor": "white",
            "ticks": ""
           }
          },
          "title": {
           "x": 0.05
          },
          "xaxis": {
           "automargin": true,
           "gridcolor": "white",
           "linecolor": "white",
           "ticks": "",
           "title": {
            "standoff": 15
           },
           "zerolinecolor": "white",
           "zerolinewidth": 2
          },
          "yaxis": {
           "automargin": true,
           "gridcolor": "white",
           "linecolor": "white",
           "ticks": "",
           "title": {
            "standoff": 15
           },
           "zerolinecolor": "white",
           "zerolinewidth": 2
          }
         }
        }
       }
      }
     },
     "metadata": {},
     "output_type": "display_data"
    }
   ],
   "source": [
    "import plotly.express as px\n",
    "fig=px.scatter_3d(x[:100],x=0,y=1,z=2,color= self_model.wv.index_to_key[:100])\n",
    "fig.show()"
   ]
  },
  {
   "cell_type": "code",
   "execution_count": 103,
   "id": "778ff9db",
   "metadata": {},
   "outputs": [
    {
     "data": {
      "application/vnd.plotly.v1+json": {
       "config": {
        "plotlyServerURL": "https://plot.ly"
       },
       "data": [
        {
         "hovertemplate": "color=hands<br>0=%{x}<br>1=%{y}<br>2=%{z}<extra></extra>",
         "legendgroup": "hands",
         "marker": {
          "color": "#636efa",
          "symbol": "circle"
         },
         "mode": "markers",
         "name": "hands",
         "scene": "scene",
         "showlegend": true,
         "type": "scatter3d",
         "x": {
          "bdata": "4UehPg==",
          "dtype": "f4"
         },
         "y": {
          "bdata": "VM/tPg==",
          "dtype": "f4"
         },
         "z": {
          "bdata": "Fs/XPg==",
          "dtype": "f4"
         }
        },
        {
         "hovertemplate": "color=stannis<br>0=%{x}<br>1=%{y}<br>2=%{z}<extra></extra>",
         "legendgroup": "stannis",
         "marker": {
          "color": "#EF553B",
          "symbol": "circle"
         },
         "mode": "markers",
         "name": "stannis",
         "scene": "scene",
         "showlegend": true,
         "type": "scatter3d",
         "x": {
          "bdata": "1PrLvg==",
          "dtype": "f4"
         },
         "y": {
          "bdata": "s4oYPw==",
          "dtype": "f4"
         },
         "z": {
          "bdata": "4DKhvQ==",
          "dtype": "f4"
         }
        },
        {
         "hovertemplate": "color=mother<br>0=%{x}<br>1=%{y}<br>2=%{z}<extra></extra>",
         "legendgroup": "mother",
         "marker": {
          "color": "#00cc96",
          "symbol": "circle"
         },
         "mode": "markers",
         "name": "mother",
         "scene": "scene",
         "showlegend": true,
         "type": "scatter3d",
         "x": {
          "bdata": "0Zj3vg==",
          "dtype": "f4"
         },
         "y": {
          "bdata": "gzYCPw==",
          "dtype": "f4"
         },
         "z": {
          "bdata": "0+IkPg==",
          "dtype": "f4"
         }
        },
        {
         "hovertemplate": "color=catelyn<br>0=%{x}<br>1=%{y}<br>2=%{z}<extra></extra>",
         "legendgroup": "catelyn",
         "marker": {
          "color": "#ab63fa",
          "symbol": "circle"
         },
         "mode": "markers",
         "name": "catelyn",
         "scene": "scene",
         "showlegend": true,
         "type": "scatter3d",
         "x": {
          "bdata": "6jh5vg==",
          "dtype": "f4"
         },
         "y": {
          "bdata": "9NSePg==",
          "dtype": "f4"
         },
         "z": {
          "bdata": "eLRtPg==",
          "dtype": "f4"
         }
        },
        {
         "hovertemplate": "color=robert<br>0=%{x}<br>1=%{y}<br>2=%{z}<extra></extra>",
         "legendgroup": "robert",
         "marker": {
          "color": "#FFA15A",
          "symbol": "circle"
         },
         "mode": "markers",
         "name": "robert",
         "scene": "scene",
         "showlegend": true,
         "type": "scatter3d",
         "x": {
          "bdata": "z2EFvw==",
          "dtype": "f4"
         },
         "y": {
          "bdata": "HgPgPg==",
          "dtype": "f4"
         },
         "z": {
          "bdata": "PjGVPQ==",
          "dtype": "f4"
         }
        },
        {
         "hovertemplate": "color=seemed<br>0=%{x}<br>1=%{y}<br>2=%{z}<extra></extra>",
         "legendgroup": "seemed",
         "marker": {
          "color": "#19d3f3",
          "symbol": "circle"
         },
         "mode": "markers",
         "name": "seemed",
         "scene": "scene",
         "showlegend": true,
         "type": "scatter3d",
         "x": {
          "bdata": "kGBdvA==",
          "dtype": "f4"
         },
         "y": {
          "bdata": "6zXcPg==",
          "dtype": "f4"
         },
         "z": {
          "bdata": "koOdPg==",
          "dtype": "f4"
         }
        },
        {
         "hovertemplate": "color=prince<br>0=%{x}<br>1=%{y}<br>2=%{z}<extra></extra>",
         "legendgroup": "prince",
         "marker": {
          "color": "#FF6692",
          "symbol": "circle"
         },
         "mode": "markers",
         "name": "prince",
         "scene": "scene",
         "showlegend": true,
         "type": "scatter3d",
         "x": {
          "bdata": "qasNvw==",
          "dtype": "f4"
         },
         "y": {
          "bdata": "evbOPg==",
          "dtype": "f4"
         },
         "z": {
          "bdata": "rWIHPg==",
          "dtype": "f4"
         }
        },
        {
         "hovertemplate": "color=may<br>0=%{x}<br>1=%{y}<br>2=%{z}<extra></extra>",
         "legendgroup": "may",
         "marker": {
          "color": "#B6E880",
          "symbol": "circle"
         },
         "mode": "markers",
         "name": "may",
         "scene": "scene",
         "showlegend": true,
         "type": "scatter3d",
         "x": {
          "bdata": "jQsNvw==",
          "dtype": "f4"
         },
         "y": {
          "bdata": "qGDxPg==",
          "dtype": "f4"
         },
         "z": {
          "bdata": "Mg8PPg==",
          "dtype": "f4"
         }
        },
        {
         "hovertemplate": "color=ever<br>0=%{x}<br>1=%{y}<br>2=%{z}<extra></extra>",
         "legendgroup": "ever",
         "marker": {
          "color": "#FF97FF",
          "symbol": "circle"
         },
         "mode": "markers",
         "name": "ever",
         "scene": "scene",
         "showlegend": true,
         "type": "scatter3d",
         "x": {
          "bdata": "00Xkvg==",
          "dtype": "f4"
         },
         "y": {
          "bdata": "KNICPw==",
          "dtype": "f4"
         },
         "z": {
          "bdata": "ggO3PQ==",
          "dtype": "f4"
         }
        },
        {
         "hovertemplate": "color=robb<br>0=%{x}<br>1=%{y}<br>2=%{z}<extra></extra>",
         "legendgroup": "robb",
         "marker": {
          "color": "#FECB52",
          "symbol": "circle"
         },
         "mode": "markers",
         "name": "robb",
         "scene": "scene",
         "showlegend": true,
         "type": "scatter3d",
         "x": {
          "bdata": "sdTKvg==",
          "dtype": "f4"
         },
         "y": {
          "bdata": "LInlPg==",
          "dtype": "f4"
         },
         "z": {
          "bdata": "FBhNPg==",
          "dtype": "f4"
         }
        },
        {
         "hovertemplate": "color=done<br>0=%{x}<br>1=%{y}<br>2=%{z}<extra></extra>",
         "legendgroup": "done",
         "marker": {
          "color": "#636efa",
          "symbol": "circle"
         },
         "mode": "markers",
         "name": "done",
         "scene": "scene",
         "showlegend": true,
         "type": "scatter3d",
         "x": {
          "bdata": "zIvZvg==",
          "dtype": "f4"
         },
         "y": {
          "bdata": "F9YcPw==",
          "dtype": "f4"
         },
         "z": {
          "bdata": "tzmJPg==",
          "dtype": "f4"
         }
        },
        {
         "hovertemplate": "color=don<br>0=%{x}<br>1=%{y}<br>2=%{z}<extra></extra>",
         "legendgroup": "don",
         "marker": {
          "color": "#EF553B",
          "symbol": "circle"
         },
         "mode": "markers",
         "name": "don",
         "scene": "scene",
         "showlegend": true,
         "type": "scatter3d",
         "x": {
          "bdata": "vQjfvg==",
          "dtype": "f4"
         },
         "y": {
          "bdata": "5gLDPg==",
          "dtype": "f4"
         },
         "z": {
          "bdata": "MNa7Pg==",
          "dtype": "f4"
         }
        },
        {
         "hovertemplate": "color=find<br>0=%{x}<br>1=%{y}<br>2=%{z}<extra></extra>",
         "legendgroup": "find",
         "marker": {
          "color": "#00cc96",
          "symbol": "circle"
         },
         "mode": "markers",
         "name": "find",
         "scene": "scene",
         "showlegend": true,
         "type": "scatter3d",
         "x": {
          "bdata": "H1q+vg==",
          "dtype": "f4"
         },
         "y": {
          "bdata": "iagfPw==",
          "dtype": "f4"
         },
         "z": {
          "bdata": "2jW7Pg==",
          "dtype": "f4"
         }
        },
        {
         "hovertemplate": "color=lannister<br>0=%{x}<br>1=%{y}<br>2=%{z}<extra></extra>",
         "legendgroup": "lannister",
         "marker": {
          "color": "#ab63fa",
          "symbol": "circle"
         },
         "mode": "markers",
         "name": "lannister",
         "scene": "scene",
         "showlegend": true,
         "type": "scatter3d",
         "x": {
          "bdata": "4IDLvg==",
          "dtype": "f4"
         },
         "y": {
          "bdata": "7DjEPg==",
          "dtype": "f4"
         },
         "z": {
          "bdata": "SjSsPQ==",
          "dtype": "f4"
         }
        },
        {
         "hovertemplate": "color=re<br>0=%{x}<br>1=%{y}<br>2=%{z}<extra></extra>",
         "legendgroup": "re",
         "marker": {
          "color": "#FFA15A",
          "symbol": "circle"
         },
         "mode": "markers",
         "name": "re",
         "scene": "scene",
         "showlegend": true,
         "type": "scatter3d",
         "x": {
          "bdata": "30Ktvg==",
          "dtype": "f4"
         },
         "y": {
          "bdata": "ni/pPg==",
          "dtype": "f4"
         },
         "z": {
          "bdata": "cCeCPg==",
          "dtype": "f4"
         }
        },
        {
         "hovertemplate": "color=hear<br>0=%{x}<br>1=%{y}<br>2=%{z}<extra></extra>",
         "legendgroup": "hear",
         "marker": {
          "color": "#19d3f3",
          "symbol": "circle"
         },
         "mode": "markers",
         "name": "hear",
         "scene": "scene",
         "showlegend": true,
         "type": "scatter3d",
         "x": {
          "bdata": "8NUxvg==",
          "dtype": "f4"
         },
         "y": {
          "bdata": "GD0IPw==",
          "dtype": "f4"
         },
         "z": {
          "bdata": "zmbfPg==",
          "dtype": "f4"
         }
        },
        {
         "hovertemplate": "color=grey<br>0=%{x}<br>1=%{y}<br>2=%{z}<extra></extra>",
         "legendgroup": "grey",
         "marker": {
          "color": "#FF6692",
          "symbol": "circle"
         },
         "mode": "markers",
         "name": "grey",
         "scene": "scene",
         "showlegend": true,
         "type": "scatter3d",
         "x": {
          "bdata": "yrntPg==",
          "dtype": "f4"
         },
         "y": {
          "bdata": "arV3Pg==",
          "dtype": "f4"
         },
         "z": {
          "bdata": "PIMDvQ==",
          "dtype": "f4"
         }
        },
        {
         "hovertemplate": "color=name<br>0=%{x}<br>1=%{y}<br>2=%{z}<extra></extra>",
         "legendgroup": "name",
         "marker": {
          "color": "#B6E880",
          "symbol": "circle"
         },
         "mode": "markers",
         "name": "name",
         "scene": "scene",
         "showlegend": true,
         "type": "scatter3d",
         "x": {
          "bdata": "Qx0Evw==",
          "dtype": "f4"
         },
         "y": {
          "bdata": "sv8cPw==",
          "dtype": "f4"
         },
         "z": {
          "bdata": "TCZ4Pg==",
          "dtype": "f4"
         }
        },
        {
         "hovertemplate": "color=horse<br>0=%{x}<br>1=%{y}<br>2=%{z}<extra></extra>",
         "legendgroup": "horse",
         "marker": {
          "color": "#FF97FF",
          "symbol": "circle"
         },
         "mode": "markers",
         "name": "horse",
         "scene": "scene",
         "showlegend": true,
         "type": "scatter3d",
         "x": {
          "bdata": "+YmwPg==",
          "dtype": "f4"
         },
         "y": {
          "bdata": "oHQDPw==",
          "dtype": "f4"
         },
         "z": {
          "bdata": "8iqiPg==",
          "dtype": "f4"
         }
        },
        {
         "hovertemplate": "color=high<br>0=%{x}<br>1=%{y}<br>2=%{z}<extra></extra>",
         "legendgroup": "high",
         "marker": {
          "color": "#FECB52",
          "symbol": "circle"
         },
         "mode": "markers",
         "name": "high",
         "scene": "scene",
         "showlegend": true,
         "type": "scatter3d",
         "x": {
          "bdata": "1FIdPg==",
          "dtype": "f4"
         },
         "y": {
          "bdata": "JEvmPg==",
          "dtype": "f4"
         },
         "z": {
          "bdata": "Qmo3vg==",
          "dtype": "f4"
         }
        },
        {
         "hovertemplate": "color=put<br>0=%{x}<br>1=%{y}<br>2=%{z}<extra></extra>",
         "legendgroup": "put",
         "marker": {
          "color": "#636efa",
          "symbol": "circle"
         },
         "mode": "markers",
         "name": "put",
         "scene": "scene",
         "showlegend": true,
         "type": "scatter3d",
         "x": {
          "bdata": "tWtmvg==",
          "dtype": "f4"
         },
         "y": {
          "bdata": "zEsLPw==",
          "dtype": "f4"
         },
         "z": {
          "bdata": "sqoaPw==",
          "dtype": "f4"
         }
        },
        {
         "hovertemplate": "color=stone<br>0=%{x}<br>1=%{y}<br>2=%{z}<extra></extra>",
         "legendgroup": "stone",
         "marker": {
          "color": "#EF553B",
          "symbol": "circle"
         },
         "mode": "markers",
         "name": "stone",
         "scene": "scene",
         "showlegend": true,
         "type": "scatter3d",
         "x": {
          "bdata": "qHcgPw==",
          "dtype": "f4"
         },
         "y": {
          "bdata": "REb0Pg==",
          "dtype": "f4"
         },
         "z": {
          "bdata": "xJk/vg==",
          "dtype": "f4"
         }
        },
        {
         "hovertemplate": "color=wine<br>0=%{x}<br>1=%{y}<br>2=%{z}<extra></extra>",
         "legendgroup": "wine",
         "marker": {
          "color": "#00cc96",
          "symbol": "circle"
         },
         "mode": "markers",
         "name": "wine",
         "scene": "scene",
         "showlegend": true,
         "type": "scatter3d",
         "x": {
          "bdata": "r96rPQ==",
          "dtype": "f4"
         },
         "y": {
          "bdata": "7rqRPg==",
          "dtype": "f4"
         },
         "z": {
          "bdata": "frC+Pg==",
          "dtype": "f4"
         }
        },
        {
         "hovertemplate": "color=hard<br>0=%{x}<br>1=%{y}<br>2=%{z}<extra></extra>",
         "legendgroup": "hard",
         "marker": {
          "color": "#ab63fa",
          "symbol": "circle"
         },
         "mode": "markers",
         "name": "hard",
         "scene": "scene",
         "showlegend": true,
         "type": "scatter3d",
         "x": {
          "bdata": "shGuPg==",
          "dtype": "f4"
         },
         "y": {
          "bdata": "GxG8Pg==",
          "dtype": "f4"
         },
         "z": {
          "bdata": "Dg20Pg==",
          "dtype": "f4"
         }
        },
        {
         "hovertemplate": "color=water<br>0=%{x}<br>1=%{y}<br>2=%{z}<extra></extra>",
         "legendgroup": "water",
         "marker": {
          "color": "#FFA15A",
          "symbol": "circle"
         },
         "mode": "markers",
         "name": "water",
         "scene": "scene",
         "showlegend": true,
         "type": "scatter3d",
         "x": {
          "bdata": "4u0SPw==",
          "dtype": "f4"
         },
         "y": {
          "bdata": "h6UEPw==",
          "dtype": "f4"
         },
         "z": {
          "bdata": "y5oxPg==",
          "dtype": "f4"
         }
        },
        {
         "hovertemplate": "color=upon<br>0=%{x}<br>1=%{y}<br>2=%{z}<extra></extra>",
         "legendgroup": "upon",
         "marker": {
          "color": "#19d3f3",
          "symbol": "circle"
         },
         "mode": "markers",
         "name": "upon",
         "scene": "scene",
         "showlegend": true,
         "type": "scatter3d",
         "x": {
          "bdata": "srcOPg==",
          "dtype": "f4"
         },
         "y": {
          "bdata": "oYHiPg==",
          "dtype": "f4"
         },
         "z": {
          "bdata": "ppH3PQ==",
          "dtype": "f4"
         }
        },
        {
         "hovertemplate": "color=fire<br>0=%{x}<br>1=%{y}<br>2=%{z}<extra></extra>",
         "legendgroup": "fire",
         "marker": {
          "color": "#FF6692",
          "symbol": "circle"
         },
         "mode": "markers",
         "name": "fire",
         "scene": "scene",
         "showlegend": true,
         "type": "scatter3d",
         "x": {
          "bdata": "iN32Pg==",
          "dtype": "f4"
         },
         "y": {
          "bdata": "CNMtPw==",
          "dtype": "f4"
         },
         "z": {
          "bdata": "gDShOw==",
          "dtype": "f4"
         }
        },
        {
         "hovertemplate": "color=iron<br>0=%{x}<br>1=%{y}<br>2=%{z}<extra></extra>",
         "legendgroup": "iron",
         "marker": {
          "color": "#B6E880",
          "symbol": "circle"
         },
         "mode": "markers",
         "name": "iron",
         "scene": "scene",
         "showlegend": true,
         "type": "scatter3d",
         "x": {
          "bdata": "Zs9HPg==",
          "dtype": "f4"
         },
         "y": {
          "bdata": "gJoBPw==",
          "dtype": "f4"
         },
         "z": {
          "bdata": "2O1Gvg==",
          "dtype": "f4"
         }
        },
        {
         "hovertemplate": "color=until<br>0=%{x}<br>1=%{y}<br>2=%{z}<extra></extra>",
         "legendgroup": "until",
         "marker": {
          "color": "#FF97FF",
          "symbol": "circle"
         },
         "mode": "markers",
         "name": "until",
         "scene": "scene",
         "showlegend": true,
         "type": "scatter3d",
         "x": {
          "bdata": "Ce7lPQ==",
          "dtype": "f4"
         },
         "y": {
          "bdata": "+rwaPw==",
          "dtype": "f4"
         },
         "z": {
          "bdata": "mIisPg==",
          "dtype": "f4"
         }
        },
        {
         "hovertemplate": "color=these<br>0=%{x}<br>1=%{y}<br>2=%{z}<extra></extra>",
         "legendgroup": "these",
         "marker": {
          "color": "#FECB52",
          "symbol": "circle"
         },
         "mode": "markers",
         "name": "these",
         "scene": "scene",
         "showlegend": true,
         "type": "scatter3d",
         "x": {
          "bdata": "ChXZvg==",
          "dtype": "f4"
         },
         "y": {
          "bdata": "uacePw==",
          "dtype": "f4"
         },
         "z": {
          "bdata": "KczWvg==",
          "dtype": "f4"
         }
        },
        {
         "hovertemplate": "color=voice<br>0=%{x}<br>1=%{y}<br>2=%{z}<extra></extra>",
         "legendgroup": "voice",
         "marker": {
          "color": "#636efa",
          "symbol": "circle"
         },
         "mode": "markers",
         "name": "voice",
         "scene": "scene",
         "showlegend": true,
         "type": "scatter3d",
         "x": {
          "bdata": "AMydOQ==",
          "dtype": "f4"
         },
         "y": {
          "bdata": "IoeVPg==",
          "dtype": "f4"
         },
         "z": {
          "bdata": "Nq7ZPg==",
          "dtype": "f4"
         }
        },
        {
         "hovertemplate": "color=gone<br>0=%{x}<br>1=%{y}<br>2=%{z}<extra></extra>",
         "legendgroup": "gone",
         "marker": {
          "color": "#EF553B",
          "symbol": "circle"
         },
         "mode": "markers",
         "name": "gone",
         "scene": "scene",
         "showlegend": true,
         "type": "scatter3d",
         "x": {
          "bdata": "hBK3vA==",
          "dtype": "f4"
         },
         "y": {
          "bdata": "8dEQPw==",
          "dtype": "f4"
         },
         "z": {
          "bdata": "IayJPg==",
          "dtype": "f4"
         }
        },
        {
         "hovertemplate": "color=give<br>0=%{x}<br>1=%{y}<br>2=%{z}<extra></extra>",
         "legendgroup": "give",
         "marker": {
          "color": "#00cc96",
          "symbol": "circle"
         },
         "mode": "markers",
         "name": "give",
         "scene": "scene",
         "showlegend": true,
         "type": "scatter3d",
         "x": {
          "bdata": "gwAVvw==",
          "dtype": "f4"
         },
         "y": {
          "bdata": "0SAEPw==",
          "dtype": "f4"
         },
         "z": {
          "bdata": "0/zRPg==",
          "dtype": "f4"
         }
        },
        {
         "hovertemplate": "color=sam<br>0=%{x}<br>1=%{y}<br>2=%{z}<extra></extra>",
         "legendgroup": "sam",
         "marker": {
          "color": "#ab63fa",
          "symbol": "circle"
         },
         "mode": "markers",
         "name": "sam",
         "scene": "scene",
         "showlegend": true,
         "type": "scatter3d",
         "x": {
          "bdata": "lAaYPA==",
          "dtype": "f4"
         },
         "y": {
          "bdata": "s7+tPg==",
          "dtype": "f4"
         },
         "z": {
          "bdata": "9EjGPg==",
          "dtype": "f4"
         }
        },
        {
         "hovertemplate": "color=seen<br>0=%{x}<br>1=%{y}<br>2=%{z}<extra></extra>",
         "legendgroup": "seen",
         "marker": {
          "color": "#FFA15A",
          "symbol": "circle"
         },
         "mode": "markers",
         "name": "seen",
         "scene": "scene",
         "showlegend": true,
         "type": "scatter3d",
         "x": {
          "bdata": "lqLkvQ==",
          "dtype": "f4"
         },
         "y": {
          "bdata": "7g4YPw==",
          "dtype": "f4"
         },
         "z": {
          "bdata": "Nv1FPg==",
          "dtype": "f4"
         }
        },
        {
         "hovertemplate": "color=better<br>0=%{x}<br>1=%{y}<br>2=%{z}<extra></extra>",
         "legendgroup": "better",
         "marker": {
          "color": "#19d3f3",
          "symbol": "circle"
         },
         "mode": "markers",
         "name": "better",
         "scene": "scene",
         "showlegend": true,
         "type": "scatter3d",
         "x": {
          "bdata": "5Kfcvg==",
          "dtype": "f4"
         },
         "y": {
          "bdata": "qkH1Pg==",
          "dtype": "f4"
         },
         "z": {
          "bdata": "hIScPQ==",
          "dtype": "f4"
         }
        },
        {
         "hovertemplate": "color=shall<br>0=%{x}<br>1=%{y}<br>2=%{z}<extra></extra>",
         "legendgroup": "shall",
         "marker": {
          "color": "#FF6692",
          "symbol": "circle"
         },
         "mode": "markers",
         "name": "shall",
         "scene": "scene",
         "showlegend": true,
         "type": "scatter3d",
         "x": {
          "bdata": "EfUEvw==",
          "dtype": "f4"
         },
         "y": {
          "bdata": "4ZIIPw==",
          "dtype": "f4"
         },
         "z": {
          "bdata": "azHSPQ==",
          "dtype": "f4"
         }
        },
        {
         "hovertemplate": "color=ned<br>0=%{x}<br>1=%{y}<br>2=%{z}<extra></extra>",
         "legendgroup": "ned",
         "marker": {
          "color": "#B6E880",
          "symbol": "circle"
         },
         "mode": "markers",
         "name": "ned",
         "scene": "scene",
         "showlegend": true,
         "type": "scatter3d",
         "x": {
          "bdata": "PM19vg==",
          "dtype": "f4"
         },
         "y": {
          "bdata": "9gC3Pg==",
          "dtype": "f4"
         },
         "z": {
          "bdata": "koWLPg==",
          "dtype": "f4"
         }
        },
        {
         "hovertemplate": "color=always<br>0=%{x}<br>1=%{y}<br>2=%{z}<extra></extra>",
         "legendgroup": "always",
         "marker": {
          "color": "#FF97FF",
          "symbol": "circle"
         },
         "mode": "markers",
         "name": "always",
         "scene": "scene",
         "showlegend": true,
         "type": "scatter3d",
         "x": {
          "bdata": "BSfuvg==",
          "dtype": "f4"
         },
         "y": {
          "bdata": "hCPaPg==",
          "dtype": "f4"
         },
         "z": {
          "bdata": "d7iwPQ==",
          "dtype": "f4"
         }
        },
        {
         "hovertemplate": "color=years<br>0=%{x}<br>1=%{y}<br>2=%{z}<extra></extra>",
         "legendgroup": "years",
         "marker": {
          "color": "#FECB52",
          "symbol": "circle"
         },
         "mode": "markers",
         "name": "years",
         "scene": "scene",
         "showlegend": true,
         "type": "scatter3d",
         "x": {
          "bdata": "U3qbvg==",
          "dtype": "f4"
         },
         "y": {
          "bdata": "JUcVPw==",
          "dtype": "f4"
         },
         "z": {
          "bdata": "5hpBvg==",
          "dtype": "f4"
         }
        },
        {
         "hovertemplate": "color=between<br>0=%{x}<br>1=%{y}<br>2=%{z}<extra></extra>",
         "legendgroup": "between",
         "marker": {
          "color": "#636efa",
          "symbol": "circle"
         },
         "mode": "markers",
         "name": "between",
         "scene": "scene",
         "showlegend": true,
         "type": "scatter3d",
         "x": {
          "bdata": "rm3TPg==",
          "dtype": "f4"
         },
         "y": {
          "bdata": "osqwPg==",
          "dtype": "f4"
         },
         "z": {
          "bdata": "ZZtdPg==",
          "dtype": "f4"
         }
        },
        {
         "hovertemplate": "color=dark<br>0=%{x}<br>1=%{y}<br>2=%{z}<extra></extra>",
         "legendgroup": "dark",
         "marker": {
          "color": "#EF553B",
          "symbol": "circle"
         },
         "mode": "markers",
         "name": "dark",
         "scene": "scene",
         "showlegend": true,
         "type": "scatter3d",
         "x": {
          "bdata": "M5cDPw==",
          "dtype": "f4"
         },
         "y": {
          "bdata": "X+zJPg==",
          "dtype": "f4"
         },
         "z": {
          "bdata": "KC+MPA==",
          "dtype": "f4"
         }
        },
        {
         "hovertemplate": "color=place<br>0=%{x}<br>1=%{y}<br>2=%{z}<extra></extra>",
         "legendgroup": "place",
         "marker": {
          "color": "#00cc96",
          "symbol": "circle"
         },
         "mode": "markers",
         "name": "place",
         "scene": "scene",
         "showlegend": true,
         "type": "scatter3d",
         "x": {
          "bdata": "/946vg==",
          "dtype": "f4"
         },
         "y": {
          "bdata": "cDtNPw==",
          "dtype": "f4"
         },
         "z": {
          "bdata": "8P0UvA==",
          "dtype": "f4"
         }
        },
        {
         "hovertemplate": "color=small<br>0=%{x}<br>1=%{y}<br>2=%{z}<extra></extra>",
         "legendgroup": "small",
         "marker": {
          "color": "#ab63fa",
          "symbol": "circle"
         },
         "mode": "markers",
         "name": "small",
         "scene": "scene",
         "showlegend": true,
         "type": "scatter3d",
         "x": {
          "bdata": "pvZ4Pg==",
          "dtype": "f4"
         },
         "y": {
          "bdata": "BF2sPg==",
          "dtype": "f4"
         },
         "z": {
          "bdata": "7Cwqvg==",
          "dtype": "f4"
         }
        },
        {
         "hovertemplate": "color=cold<br>0=%{x}<br>1=%{y}<br>2=%{z}<extra></extra>",
         "legendgroup": "cold",
         "marker": {
          "color": "#FFA15A",
          "symbol": "circle"
         },
         "mode": "markers",
         "name": "cold",
         "scene": "scene",
         "showlegend": true,
         "type": "scatter3d",
         "x": {
          "bdata": "KaC7Pg==",
          "dtype": "f4"
         },
         "y": {
          "bdata": "vZXtPg==",
          "dtype": "f4"
         },
         "z": {
          "bdata": "Gx1tPg==",
          "dtype": "f4"
         }
        },
        {
         "hovertemplate": "color=winterfell<br>0=%{x}<br>1=%{y}<br>2=%{z}<extra></extra>",
         "legendgroup": "winterfell",
         "marker": {
          "color": "#19d3f3",
          "symbol": "circle"
         },
         "mode": "markers",
         "name": "winterfell",
         "scene": "scene",
         "showlegend": true,
         "type": "scatter3d",
         "x": {
          "bdata": "3keVvg==",
          "dtype": "f4"
         },
         "y": {
          "bdata": "lQIzPw==",
          "dtype": "f4"
         },
         "z": {
          "bdata": "rNofvQ==",
          "dtype": "f4"
         }
        },
        {
         "hovertemplate": "color=most<br>0=%{x}<br>1=%{y}<br>2=%{z}<extra></extra>",
         "legendgroup": "most",
         "marker": {
          "color": "#FF6692",
          "symbol": "circle"
         },
         "mode": "markers",
         "name": "most",
         "scene": "scene",
         "showlegend": true,
         "type": "scatter3d",
         "x": {
          "bdata": "s4vYvg==",
          "dtype": "f4"
         },
         "y": {
          "bdata": "VkMIPw==",
          "dtype": "f4"
         },
         "z": {
          "bdata": "ZZmQvg==",
          "dtype": "f4"
         }
        },
        {
         "hovertemplate": "color=hundred<br>0=%{x}<br>1=%{y}<br>2=%{z}<extra></extra>",
         "legendgroup": "hundred",
         "marker": {
          "color": "#B6E880",
          "symbol": "circle"
         },
         "mode": "markers",
         "name": "hundred",
         "scene": "scene",
         "showlegend": true,
         "type": "scatter3d",
         "x": {
          "bdata": "WMFpvA==",
          "dtype": "f4"
         },
         "y": {
          "bdata": "TC4OPw==",
          "dtype": "f4"
         },
         "z": {
          "bdata": "i/jhvg==",
          "dtype": "f4"
         }
        },
        {
         "hovertemplate": "color=stood<br>0=%{x}<br>1=%{y}<br>2=%{z}<extra></extra>",
         "legendgroup": "stood",
         "marker": {
          "color": "#FF97FF",
          "symbol": "circle"
         },
         "mode": "markers",
         "name": "stood",
         "scene": "scene",
         "showlegend": true,
         "type": "scatter3d",
         "x": {
          "bdata": "KRCZPg==",
          "dtype": "f4"
         },
         "y": {
          "bdata": "1T3VPg==",
          "dtype": "f4"
         },
         "z": {
          "bdata": "ZvwxPg==",
          "dtype": "f4"
         }
        },
        {
         "hovertemplate": "color=end<br>0=%{x}<br>1=%{y}<br>2=%{z}<extra></extra>",
         "legendgroup": "end",
         "marker": {
          "color": "#FECB52",
          "symbol": "circle"
         },
         "mode": "markers",
         "name": "end",
         "scene": "scene",
         "showlegend": true,
         "type": "scatter3d",
         "x": {
          "bdata": "jlenvQ==",
          "dtype": "f4"
         },
         "y": {
          "bdata": "yJQ7Pw==",
          "dtype": "f4"
         },
         "z": {
          "bdata": "4M+QPA==",
          "dtype": "f4"
         }
        },
        {
         "hovertemplate": "color=sister<br>0=%{x}<br>1=%{y}<br>2=%{z}<extra></extra>",
         "legendgroup": "sister",
         "marker": {
          "color": "#636efa",
          "symbol": "circle"
         },
         "mode": "markers",
         "name": "sister",
         "scene": "scene",
         "showlegend": true,
         "type": "scatter3d",
         "x": {
          "bdata": "NlsWvw==",
          "dtype": "f4"
         },
         "y": {
          "bdata": "w9/gPg==",
          "dtype": "f4"
         },
         "z": {
          "bdata": "I9GOPg==",
          "dtype": "f4"
         }
        },
        {
         "hovertemplate": "color=words<br>0=%{x}<br>1=%{y}<br>2=%{z}<extra></extra>",
         "legendgroup": "words",
         "marker": {
          "color": "#EF553B",
          "symbol": "circle"
         },
         "mode": "markers",
         "name": "words",
         "scene": "scene",
         "showlegend": true,
         "type": "scatter3d",
         "x": {
          "bdata": "eMCVvg==",
          "dtype": "f4"
         },
         "y": {
          "bdata": "5jD4Pg==",
          "dtype": "f4"
         },
         "z": {
          "bdata": "Iw2aPg==",
          "dtype": "f4"
         }
        },
        {
         "hovertemplate": "color=sea<br>0=%{x}<br>1=%{y}<br>2=%{z}<extra></extra>",
         "legendgroup": "sea",
         "marker": {
          "color": "#00cc96",
          "symbol": "circle"
         },
         "mode": "markers",
         "name": "sea",
         "scene": "scene",
         "showlegend": true,
         "type": "scatter3d",
         "x": {
          "bdata": "6zbsPQ==",
          "dtype": "f4"
         },
         "y": {
          "bdata": "oc9CPw==",
          "dtype": "f4"
         },
         "z": {
          "bdata": "eeazvg==",
          "dtype": "f4"
         }
        },
        {
         "hovertemplate": "color=right<br>0=%{x}<br>1=%{y}<br>2=%{z}<extra></extra>",
         "legendgroup": "right",
         "marker": {
          "color": "#ab63fa",
          "symbol": "circle"
         },
         "mode": "markers",
         "name": "right",
         "scene": "scene",
         "showlegend": true,
         "type": "scatter3d",
         "x": {
          "bdata": "pqQLPg==",
          "dtype": "f4"
         },
         "y": {
          "bdata": "wzMJPw==",
          "dtype": "f4"
         },
         "z": {
          "bdata": "gOzgPg==",
          "dtype": "f4"
         }
        },
        {
         "hovertemplate": "color=nothing<br>0=%{x}<br>1=%{y}<br>2=%{z}<extra></extra>",
         "legendgroup": "nothing",
         "marker": {
          "color": "#FFA15A",
          "symbol": "circle"
         },
         "mode": "markers",
         "name": "nothing",
         "scene": "scene",
         "showlegend": true,
         "type": "scatter3d",
         "x": {
          "bdata": "80N0vg==",
          "dtype": "f4"
         },
         "y": {
          "bdata": "sRUFPw==",
          "dtype": "f4"
         },
         "z": {
          "bdata": "+mm0PQ==",
          "dtype": "f4"
         }
        },
        {
         "hovertemplate": "color=walls<br>0=%{x}<br>1=%{y}<br>2=%{z}<extra></extra>",
         "legendgroup": "walls",
         "marker": {
          "color": "#19d3f3",
          "symbol": "circle"
         },
         "mode": "markers",
         "name": "walls",
         "scene": "scene",
         "showlegend": true,
         "type": "scatter3d",
         "x": {
          "bdata": "Wg3WPg==",
          "dtype": "f4"
         },
         "y": {
          "bdata": "Yi43Pw==",
          "dtype": "f4"
         },
         "z": {
          "bdata": "iwC+vg==",
          "dtype": "f4"
         }
        },
        {
         "hovertemplate": "color=fingers<br>0=%{x}<br>1=%{y}<br>2=%{z}<extra></extra>",
         "legendgroup": "fingers",
         "marker": {
          "color": "#FF6692",
          "symbol": "circle"
         },
         "mode": "markers",
         "name": "fingers",
         "scene": "scene",
         "showlegend": true,
         "type": "scatter3d",
         "x": {
          "bdata": "OKv4Pg==",
          "dtype": "f4"
         },
         "y": {
          "bdata": "Ml/APg==",
          "dtype": "f4"
         },
         "z": {
          "bdata": "ClIAPw==",
          "dtype": "f4"
         }
        },
        {
         "hovertemplate": "color=same<br>0=%{x}<br>1=%{y}<br>2=%{z}<extra></extra>",
         "legendgroup": "same",
         "marker": {
          "color": "#B6E880",
          "symbol": "circle"
         },
         "mode": "markers",
         "name": "same",
         "scene": "scene",
         "showlegend": true,
         "type": "scatter3d",
         "x": {
          "bdata": "oiNyvg==",
          "dtype": "f4"
         },
         "y": {
          "bdata": "dPIJPw==",
          "dtype": "f4"
         },
         "z": {
          "bdata": "hLoKPg==",
          "dtype": "f4"
         }
        },
        {
         "hovertemplate": "color=cloak<br>0=%{x}<br>1=%{y}<br>2=%{z}<extra></extra>",
         "legendgroup": "cloak",
         "marker": {
          "color": "#FF97FF",
          "symbol": "circle"
         },
         "mode": "markers",
         "name": "cloak",
         "scene": "scene",
         "showlegend": true,
         "type": "scatter3d",
         "x": {
          "bdata": "ulzQPg==",
          "dtype": "f4"
         },
         "y": {
          "bdata": "keOoPg==",
          "dtype": "f4"
         },
         "z": {
          "bdata": "EsGbPg==",
          "dtype": "f4"
         }
        },
        {
         "hovertemplate": "color=house<br>0=%{x}<br>1=%{y}<br>2=%{z}<extra></extra>",
         "legendgroup": "house",
         "marker": {
          "color": "#FECB52",
          "symbol": "circle"
         },
         "mode": "markers",
         "name": "house",
         "scene": "scene",
         "showlegend": true,
         "type": "scatter3d",
         "x": {
          "bdata": "XrmZvg==",
          "dtype": "f4"
         },
         "y": {
          "bdata": "dD/ZPg==",
          "dtype": "f4"
         },
         "z": {
          "bdata": "hoFLvg==",
          "dtype": "f4"
         }
        },
        {
         "hovertemplate": "color=young<br>0=%{x}<br>1=%{y}<br>2=%{z}<extra></extra>",
         "legendgroup": "young",
         "marker": {
          "color": "#636efa",
          "symbol": "circle"
         },
         "mode": "markers",
         "name": "young",
         "scene": "scene",
         "showlegend": true,
         "type": "scatter3d",
         "x": {
          "bdata": "dfPuvg==",
          "dtype": "f4"
         },
         "y": {
          "bdata": "HyeFPg==",
          "dtype": "f4"
         },
         "z": {
          "bdata": "AAi6Ow==",
          "dtype": "f4"
         }
        },
        {
         "hovertemplate": "color=does<br>0=%{x}<br>1=%{y}<br>2=%{z}<extra></extra>",
         "legendgroup": "does",
         "marker": {
          "color": "#EF553B",
          "symbol": "circle"
         },
         "mode": "markers",
         "name": "does",
         "scene": "scene",
         "showlegend": true,
         "type": "scatter3d",
         "x": {
          "bdata": "nv0evw==",
          "dtype": "f4"
         },
         "y": {
          "bdata": "pAnHPg==",
          "dtype": "f4"
         },
         "z": {
          "bdata": "Qw+nPg==",
          "dtype": "f4"
         }
        },
        {
         "hovertemplate": "color=beside<br>0=%{x}<br>1=%{y}<br>2=%{z}<extra></extra>",
         "legendgroup": "beside",
         "marker": {
          "color": "#00cc96",
          "symbol": "circle"
         },
         "mode": "markers",
         "name": "beside",
         "scene": "scene",
         "showlegend": true,
         "type": "scatter3d",
         "x": {
          "bdata": "jIOIPg==",
          "dtype": "f4"
         },
         "y": {
          "bdata": "5uC4Pg==",
          "dtype": "f4"
         },
         "z": {
          "bdata": "5H/IPg==",
          "dtype": "f4"
         }
        },
        {
         "hovertemplate": "color=get<br>0=%{x}<br>1=%{y}<br>2=%{z}<extra></extra>",
         "legendgroup": "get",
         "marker": {
          "color": "#ab63fa",
          "symbol": "circle"
         },
         "mode": "markers",
         "name": "get",
         "scene": "scene",
         "showlegend": true,
         "type": "scatter3d",
         "x": {
          "bdata": "vVotvg==",
          "dtype": "f4"
         },
         "y": {
          "bdata": "WhQqPw==",
          "dtype": "f4"
         },
         "z": {
          "bdata": "DX3kPg==",
          "dtype": "f4"
         }
        },
        {
         "hovertemplate": "color=mouth<br>0=%{x}<br>1=%{y}<br>2=%{z}<extra></extra>",
         "legendgroup": "mouth",
         "marker": {
          "color": "#FFA15A",
          "symbol": "circle"
         },
         "mode": "markers",
         "name": "mouth",
         "scene": "scene",
         "showlegend": true,
         "type": "scatter3d",
         "x": {
          "bdata": "38qpPg==",
          "dtype": "f4"
         },
         "y": {
          "bdata": "epmmPg==",
          "dtype": "f4"
         },
         "z": {
          "bdata": "yKEVPw==",
          "dtype": "f4"
         }
        },
        {
         "hovertemplate": "color=seven<br>0=%{x}<br>1=%{y}<br>2=%{z}<extra></extra>",
         "legendgroup": "seven",
         "marker": {
          "color": "#19d3f3",
          "symbol": "circle"
         },
         "mode": "markers",
         "name": "seven",
         "scene": "scene",
         "showlegend": true,
         "type": "scatter3d",
         "x": {
          "bdata": "Htqtvg==",
          "dtype": "f4"
         },
         "y": {
          "bdata": "3kstPw==",
          "dtype": "f4"
         },
         "z": {
          "bdata": "jssCvw==",
          "dtype": "f4"
         }
        },
        {
         "hovertemplate": "color=watch<br>0=%{x}<br>1=%{y}<br>2=%{z}<extra></extra>",
         "legendgroup": "watch",
         "marker": {
          "color": "#FF6692",
          "symbol": "circle"
         },
         "mode": "markers",
         "name": "watch",
         "scene": "scene",
         "showlegend": true,
         "type": "scatter3d",
         "x": {
          "bdata": "qq6kvg==",
          "dtype": "f4"
         },
         "y": {
          "bdata": "wdQdPw==",
          "dtype": "f4"
         },
         "z": {
          "bdata": "ACRHvQ==",
          "dtype": "f4"
         }
        },
        {
         "hovertemplate": "color=door<br>0=%{x}<br>1=%{y}<br>2=%{z}<extra></extra>",
         "legendgroup": "door",
         "marker": {
          "color": "#B6E880",
          "symbol": "circle"
         },
         "mode": "markers",
         "name": "door",
         "scene": "scene",
         "showlegend": true,
         "type": "scatter3d",
         "x": {
          "bdata": "Jgv0Pg==",
          "dtype": "f4"
         },
         "y": {
          "bdata": "MW0HPw==",
          "dtype": "f4"
         },
         "z": {
          "bdata": "aMeqPg==",
          "dtype": "f4"
         }
        },
        {
         "hovertemplate": "color=joffrey<br>0=%{x}<br>1=%{y}<br>2=%{z}<extra></extra>",
         "legendgroup": "joffrey",
         "marker": {
          "color": "#FF97FF",
          "symbol": "circle"
         },
         "mode": "markers",
         "name": "joffrey",
         "scene": "scene",
         "showlegend": true,
         "type": "scatter3d",
         "x": {
          "bdata": "wHf5vg==",
          "dtype": "f4"
         },
         "y": {
          "bdata": "DYHMPg==",
          "dtype": "f4"
         },
         "z": {
          "bdata": "nWZ1Pg==",
          "dtype": "f4"
         }
        },
        {
         "hovertemplate": "color=green<br>0=%{x}<br>1=%{y}<br>2=%{z}<extra></extra>",
         "legendgroup": "green",
         "marker": {
          "color": "#FECB52",
          "symbol": "circle"
         },
         "mode": "markers",
         "name": "green",
         "scene": "scene",
         "showlegend": true,
         "type": "scatter3d",
         "x": {
          "bdata": "SlDTPg==",
          "dtype": "f4"
         },
         "y": {
          "bdata": "l8+BPg==",
          "dtype": "f4"
         },
         "z": {
          "bdata": "ID5Qvg==",
          "dtype": "f4"
         }
        },
        {
         "hovertemplate": "color=big<br>0=%{x}<br>1=%{y}<br>2=%{z}<extra></extra>",
         "legendgroup": "big",
         "marker": {
          "color": "#636efa",
          "symbol": "circle"
         },
         "mode": "markers",
         "name": "big",
         "scene": "scene",
         "showlegend": true,
         "type": "scatter3d",
         "x": {
          "bdata": "Dr+CPg==",
          "dtype": "f4"
         },
         "y": {
          "bdata": "uJgMPg==",
          "dtype": "f4"
         },
         "z": {
          "bdata": "EuUwPg==",
          "dtype": "f4"
         }
        },
        {
         "hovertemplate": "color=under<br>0=%{x}<br>1=%{y}<br>2=%{z}<extra></extra>",
         "legendgroup": "under",
         "marker": {
          "color": "#EF553B",
          "symbol": "circle"
         },
         "mode": "markers",
         "name": "under",
         "scene": "scene",
         "showlegend": true,
         "type": "scatter3d",
         "x": {
          "bdata": "7MAPPw==",
          "dtype": "f4"
         },
         "y": {
          "bdata": "tpOaPg==",
          "dtype": "f4"
         },
         "z": {
          "bdata": "SNSMPg==",
          "dtype": "f4"
         }
        },
        {
         "hovertemplate": "color=few<br>0=%{x}<br>1=%{y}<br>2=%{z}<extra></extra>",
         "legendgroup": "few",
         "marker": {
          "color": "#00cc96",
          "symbol": "circle"
         },
         "mode": "markers",
         "name": "few",
         "scene": "scene",
         "showlegend": true,
         "type": "scatter3d",
         "x": {
          "bdata": "GKcIPA==",
          "dtype": "f4"
         },
         "y": {
          "bdata": "JG4KPw==",
          "dtype": "f4"
         },
         "z": {
          "bdata": "F7OAvg==",
          "dtype": "f4"
         }
        },
        {
         "hovertemplate": "color=sent<br>0=%{x}<br>1=%{y}<br>2=%{z}<extra></extra>",
         "legendgroup": "sent",
         "marker": {
          "color": "#ab63fa",
          "symbol": "circle"
         },
         "mode": "markers",
         "name": "sent",
         "scene": "scene",
         "showlegend": true,
         "type": "scatter3d",
         "x": {
          "bdata": "6K1+vg==",
          "dtype": "f4"
         },
         "y": {
          "bdata": "VDURPw==",
          "dtype": "f4"
         },
         "z": {
          "bdata": "km3RPg==",
          "dtype": "f4"
         }
        },
        {
         "hovertemplate": "color=perhaps<br>0=%{x}<br>1=%{y}<br>2=%{z}<extra></extra>",
         "legendgroup": "perhaps",
         "marker": {
          "color": "#FFA15A",
          "symbol": "circle"
         },
         "mode": "markers",
         "name": "perhaps",
         "scene": "scene",
         "showlegend": true,
         "type": "scatter3d",
         "x": {
          "bdata": "wUUrvw==",
          "dtype": "f4"
         },
         "y": {
          "bdata": "CdT+Pg==",
          "dtype": "f4"
         },
         "z": {
          "bdata": "Wo4MPg==",
          "dtype": "f4"
         }
        },
        {
         "hovertemplate": "color=almost<br>0=%{x}<br>1=%{y}<br>2=%{z}<extra></extra>",
         "legendgroup": "almost",
         "marker": {
          "color": "#19d3f3",
          "symbol": "circle"
         },
         "mode": "markers",
         "name": "almost",
         "scene": "scene",
         "showlegend": true,
         "type": "scatter3d",
         "x": {
          "bdata": "jjVrPg==",
          "dtype": "f4"
         },
         "y": {
          "bdata": "XiKlPg==",
          "dtype": "f4"
         },
         "z": {
          "bdata": "5A3kPg==",
          "dtype": "f4"
         }
        },
        {
         "hovertemplate": "color=such<br>0=%{x}<br>1=%{y}<br>2=%{z}<extra></extra>",
         "legendgroup": "such",
         "marker": {
          "color": "#FF6692",
          "symbol": "circle"
         },
         "mode": "markers",
         "name": "such",
         "scene": "scene",
         "showlegend": true,
         "type": "scatter3d",
         "x": {
          "bdata": "GLwrvw==",
          "dtype": "f4"
         },
         "y": {
          "bdata": "1BbfPg==",
          "dtype": "f4"
         },
         "z": {
          "bdata": "ZOfCvQ==",
          "dtype": "f4"
         }
        },
        {
         "hovertemplate": "color=wanted<br>0=%{x}<br>1=%{y}<br>2=%{z}<extra></extra>",
         "legendgroup": "wanted",
         "marker": {
          "color": "#B6E880",
          "symbol": "circle"
         },
         "mode": "markers",
         "name": "wanted",
         "scene": "scene",
         "showlegend": true,
         "type": "scatter3d",
         "x": {
          "bdata": "iSLlvg==",
          "dtype": "f4"
         },
         "y": {
          "bdata": "3xr5Pg==",
          "dtype": "f4"
         },
         "z": {
          "bdata": "pRoRPw==",
          "dtype": "f4"
         }
        },
        {
         "hovertemplate": "color=daughter<br>0=%{x}<br>1=%{y}<br>2=%{z}<extra></extra>",
         "legendgroup": "daughter",
         "marker": {
          "color": "#FF97FF",
          "symbol": "circle"
         },
         "mode": "markers",
         "name": "daughter",
         "scene": "scene",
         "showlegend": true,
         "type": "scatter3d",
         "x": {
          "bdata": "hzcLvw==",
          "dtype": "f4"
         },
         "y": {
          "bdata": "ZZiOPg==",
          "dtype": "f4"
         },
         "z": {
          "bdata": "gvaWPQ==",
          "dtype": "f4"
         }
        },
        {
         "hovertemplate": "color=true<br>0=%{x}<br>1=%{y}<br>2=%{z}<extra></extra>",
         "legendgroup": "true",
         "marker": {
          "color": "#FECB52",
          "symbol": "circle"
         },
         "mode": "markers",
         "name": "true",
         "scene": "scene",
         "showlegend": true,
         "type": "scatter3d",
         "x": {
          "bdata": "DSEwvw==",
          "dtype": "f4"
         },
         "y": {
          "bdata": "EnTsPg==",
          "dtype": "f4"
         },
         "z": {
          "bdata": "IHBavA==",
          "dtype": "f4"
         }
        },
        {
         "hovertemplate": "color=while<br>0=%{x}<br>1=%{y}<br>2=%{z}<extra></extra>",
         "legendgroup": "while",
         "marker": {
          "color": "#636efa",
          "symbol": "circle"
         },
         "mode": "markers",
         "name": "while",
         "scene": "scene",
         "showlegend": true,
         "type": "scatter3d",
         "x": {
          "bdata": "H/GlPg==",
          "dtype": "f4"
         },
         "y": {
          "bdata": "swb3Pg==",
          "dtype": "f4"
         },
         "z": {
          "bdata": "Kx9YPg==",
          "dtype": "f4"
         }
        },
        {
         "hovertemplate": "color=leave<br>0=%{x}<br>1=%{y}<br>2=%{z}<extra></extra>",
         "legendgroup": "leave",
         "marker": {
          "color": "#EF553B",
          "symbol": "circle"
         },
         "mode": "markers",
         "name": "leave",
         "scene": "scene",
         "showlegend": true,
         "type": "scatter3d",
         "x": {
          "bdata": "ENXkvg==",
          "dtype": "f4"
         },
         "y": {
          "bdata": "1QYtPw==",
          "dtype": "f4"
         },
         "z": {
          "bdata": "nVWmPg==",
          "dtype": "f4"
         }
        },
        {
         "hovertemplate": "color=city<br>0=%{x}<br>1=%{y}<br>2=%{z}<extra></extra>",
         "legendgroup": "city",
         "marker": {
          "color": "#00cc96",
          "symbol": "circle"
         },
         "mode": "markers",
         "name": "city",
         "scene": "scene",
         "showlegend": true,
         "type": "scatter3d",
         "x": {
          "bdata": "TYPbvQ==",
          "dtype": "f4"
         },
         "y": {
          "bdata": "uKdcPw==",
          "dtype": "f4"
         },
         "z": {
          "bdata": "LRzCvg==",
          "dtype": "f4"
         }
        },
        {
         "hovertemplate": "color=wind<br>0=%{x}<br>1=%{y}<br>2=%{z}<extra></extra>",
         "legendgroup": "wind",
         "marker": {
          "color": "#ab63fa",
          "symbol": "circle"
         },
         "mode": "markers",
         "name": "wind",
         "scene": "scene",
         "showlegend": true,
         "type": "scatter3d",
         "x": {
          "bdata": "sPASPw==",
          "dtype": "f4"
         },
         "y": {
          "bdata": "zncLPw==",
          "dtype": "f4"
         },
         "z": {
          "bdata": "V3yvPQ==",
          "dtype": "f4"
         }
        },
        {
         "hovertemplate": "color=light<br>0=%{x}<br>1=%{y}<br>2=%{z}<extra></extra>",
         "legendgroup": "light",
         "marker": {
          "color": "#FFA15A",
          "symbol": "circle"
         },
         "mode": "markers",
         "name": "light",
         "scene": "scene",
         "showlegend": true,
         "type": "scatter3d",
         "x": {
          "bdata": "agbGPg==",
          "dtype": "f4"
         },
         "y": {
          "bdata": "3xIdPw==",
          "dtype": "f4"
         },
         "z": {
          "bdata": "sJ4aPA==",
          "dtype": "f4"
         }
        },
        {
         "hovertemplate": "color=arms<br>0=%{x}<br>1=%{y}<br>2=%{z}<extra></extra>",
         "legendgroup": "arms",
         "marker": {
          "color": "#19d3f3",
          "symbol": "circle"
         },
         "mode": "markers",
         "name": "arms",
         "scene": "scene",
         "showlegend": true,
         "type": "scatter3d",
         "x": {
          "bdata": "ttlAPg==",
          "dtype": "f4"
         },
         "y": {
          "bdata": "87TKPg==",
          "dtype": "f4"
         },
         "z": {
          "bdata": "fTaJPg==",
          "dtype": "f4"
         }
        },
        {
         "hovertemplate": "color=children<br>0=%{x}<br>1=%{y}<br>2=%{z}<extra></extra>",
         "legendgroup": "children",
         "marker": {
          "color": "#FF6692",
          "symbol": "circle"
         },
         "mode": "markers",
         "name": "children",
         "scene": "scene",
         "showlegend": true,
         "type": "scatter3d",
         "x": {
          "bdata": "YZPDvg==",
          "dtype": "f4"
         },
         "y": {
          "bdata": "NJUsPw==",
          "dtype": "f4"
         },
         "z": {
          "bdata": "RMiCvg==",
          "dtype": "f4"
         }
        },
        {
         "hovertemplate": "color=herself<br>0=%{x}<br>1=%{y}<br>2=%{z}<extra></extra>",
         "legendgroup": "herself",
         "marker": {
          "color": "#B6E880",
          "symbol": "circle"
         },
         "mode": "markers",
         "name": "herself",
         "scene": "scene",
         "showlegend": true,
         "type": "scatter3d",
         "x": {
          "bdata": "yrWKvQ==",
          "dtype": "f4"
         },
         "y": {
          "bdata": "Z7i7Pg==",
          "dtype": "f4"
         },
         "z": {
          "bdata": "pqu8Pg==",
          "dtype": "f4"
         }
        },
        {
         "hovertemplate": "color=sweet<br>0=%{x}<br>1=%{y}<br>2=%{z}<extra></extra>",
         "legendgroup": "sweet",
         "marker": {
          "color": "#FF97FF",
          "symbol": "circle"
         },
         "mode": "markers",
         "name": "sweet",
         "scene": "scene",
         "showlegend": true,
         "type": "scatter3d",
         "x": {
          "bdata": "OFTPvg==",
          "dtype": "f4"
         },
         "y": {
          "bdata": "YiVjPg==",
          "dtype": "f4"
         },
         "z": {
          "bdata": "W7uPPg==",
          "dtype": "f4"
         }
        },
        {
         "hovertemplate": "color=others<br>0=%{x}<br>1=%{y}<br>2=%{z}<extra></extra>",
         "legendgroup": "others",
         "marker": {
          "color": "#FECB52",
          "symbol": "circle"
         },
         "mode": "markers",
         "name": "others",
         "scene": "scene",
         "showlegend": true,
         "type": "scatter3d",
         "x": {
          "bdata": "cg4OvQ==",
          "dtype": "f4"
         },
         "y": {
          "bdata": "I74gPw==",
          "dtype": "f4"
         },
         "z": {
          "bdata": "Aiotvg==",
          "dtype": "f4"
         }
        },
        {
         "hovertemplate": "color=lost<br>0=%{x}<br>1=%{y}<br>2=%{z}<extra></extra>",
         "legendgroup": "lost",
         "marker": {
          "color": "#636efa",
          "symbol": "circle"
         },
         "mode": "markers",
         "name": "lost",
         "scene": "scene",
         "showlegend": true,
         "type": "scatter3d",
         "x": {
          "bdata": "Esd+vg==",
          "dtype": "f4"
         },
         "y": {
          "bdata": "EDwLPw==",
          "dtype": "f4"
         },
         "z": {
          "bdata": "rRZrPg==",
          "dtype": "f4"
         }
        },
        {
         "hovertemplate": "color=theon<br>0=%{x}<br>1=%{y}<br>2=%{z}<extra></extra>",
         "legendgroup": "theon",
         "marker": {
          "color": "#EF553B",
          "symbol": "circle"
         },
         "mode": "markers",
         "name": "theon",
         "scene": "scene",
         "showlegend": true,
         "type": "scatter3d",
         "x": {
          "bdata": "IMpDvg==",
          "dtype": "f4"
         },
         "y": {
          "bdata": "/v2kPg==",
          "dtype": "f4"
         },
         "z": {
          "bdata": "KdiWPg==",
          "dtype": "f4"
         }
        },
        {
         "hovertemplate": "color=each<br>0=%{x}<br>1=%{y}<br>2=%{z}<extra></extra>",
         "legendgroup": "each",
         "marker": {
          "color": "#00cc96",
          "symbol": "circle"
         },
         "mode": "markers",
         "name": "each",
         "scene": "scene",
         "showlegend": true,
         "type": "scatter3d",
         "x": {
          "bdata": "J6CCPg==",
          "dtype": "f4"
         },
         "y": {
          "bdata": "z4sGPw==",
          "dtype": "f4"
         },
         "z": {
          "bdata": "iCl+vQ==",
          "dtype": "f4"
         }
        },
        {
         "hovertemplate": "color=felt<br>0=%{x}<br>1=%{y}<br>2=%{z}<extra></extra>",
         "legendgroup": "felt",
         "marker": {
          "color": "#ab63fa",
          "symbol": "circle"
         },
         "mode": "markers",
         "name": "felt",
         "scene": "scene",
         "showlegend": true,
         "type": "scatter3d",
         "x": {
          "bdata": "3o0aPg==",
          "dtype": "f4"
         },
         "y": {
          "bdata": "HhahPg==",
          "dtype": "f4"
         },
         "z": {
          "bdata": "lk8lPw==",
          "dtype": "f4"
         }
        },
        {
         "hovertemplate": "color=side<br>0=%{x}<br>1=%{y}<br>2=%{z}<extra></extra>",
         "legendgroup": "side",
         "marker": {
          "color": "#FFA15A",
          "symbol": "circle"
         },
         "mode": "markers",
         "name": "side",
         "scene": "scene",
         "showlegend": true,
         "type": "scatter3d",
         "x": {
          "bdata": "HD6YPg==",
          "dtype": "f4"
         },
         "y": {
          "bdata": "dUcsPw==",
          "dtype": "f4"
         },
         "z": {
          "bdata": "0qMYPg==",
          "dtype": "f4"
         }
        },
        {
         "hovertemplate": "color=yes<br>0=%{x}<br>1=%{y}<br>2=%{z}<extra></extra>",
         "legendgroup": "yes",
         "marker": {
          "color": "#19d3f3",
          "symbol": "circle"
         },
         "mode": "markers",
         "name": "yes",
         "scene": "scene",
         "showlegend": true,
         "type": "scatter3d",
         "x": {
          "bdata": "p7c4vw==",
          "dtype": "f4"
         },
         "y": {
          "bdata": "+Q+fPg==",
          "dtype": "f4"
         },
         "z": {
          "bdata": "c5GUPg==",
          "dtype": "f4"
         }
        },
        {
         "hovertemplate": "color=brothers<br>0=%{x}<br>1=%{y}<br>2=%{z}<extra></extra>",
         "legendgroup": "brothers",
         "marker": {
          "color": "#FF6692",
          "symbol": "circle"
         },
         "mode": "markers",
         "name": "brothers",
         "scene": "scene",
         "showlegend": true,
         "type": "scatter3d",
         "x": {
          "bdata": "Pq+dvg==",
          "dtype": "f4"
         },
         "y": {
          "bdata": "c5YnPw==",
          "dtype": "f4"
         },
         "z": {
          "bdata": "Luksvg==",
          "dtype": "f4"
         }
        },
        {
         "hovertemplate": "color=best<br>0=%{x}<br>1=%{y}<br>2=%{z}<extra></extra>",
         "legendgroup": "best",
         "marker": {
          "color": "#B6E880",
          "symbol": "circle"
         },
         "mode": "markers",
         "name": "best",
         "scene": "scene",
         "showlegend": true,
         "type": "scatter3d",
         "x": {
          "bdata": "onMPvw==",
          "dtype": "f4"
         },
         "y": {
          "bdata": "hfckPw==",
          "dtype": "f4"
         },
         "z": {
          "bdata": "LmAMPg==",
          "dtype": "f4"
         }
        },
        {
         "hovertemplate": "color=very<br>0=%{x}<br>1=%{y}<br>2=%{z}<extra></extra>",
         "legendgroup": "very",
         "marker": {
          "color": "#FF97FF",
          "symbol": "circle"
         },
         "mode": "markers",
         "name": "very",
         "scene": "scene",
         "showlegend": true,
         "type": "scatter3d",
         "x": {
          "bdata": "DUCrvg==",
          "dtype": "f4"
         },
         "y": {
          "bdata": "ET+kPg==",
          "dtype": "f4"
         },
         "z": {
          "bdata": "IfTaPQ==",
          "dtype": "f4"
         }
        },
        {
         "hovertemplate": "color=die<br>0=%{x}<br>1=%{y}<br>2=%{z}<extra></extra>",
         "legendgroup": "die",
         "marker": {
          "color": "#FECB52",
          "symbol": "circle"
         },
         "mode": "markers",
         "name": "die",
         "scene": "scene",
         "showlegend": true,
         "type": "scatter3d",
         "x": {
          "bdata": "UP3zvg==",
          "dtype": "f4"
         },
         "y": {
          "bdata": "kr0uPw==",
          "dtype": "f4"
         },
         "z": {
          "bdata": "imxkPg==",
          "dtype": "f4"
         }
        }
       ],
       "layout": {
        "legend": {
         "title": {
          "text": "color"
         },
         "tracegroupgap": 0
        },
        "margin": {
         "t": 60
        },
        "scene": {
         "domain": {
          "x": [
           0,
           1
          ],
          "y": [
           0,
           1
          ]
         },
         "xaxis": {
          "title": {
           "text": "0"
          }
         },
         "yaxis": {
          "title": {
           "text": "1"
          }
         },
         "zaxis": {
          "title": {
           "text": "2"
          }
         }
        },
        "template": {
         "data": {
          "bar": [
           {
            "error_x": {
             "color": "#2a3f5f"
            },
            "error_y": {
             "color": "#2a3f5f"
            },
            "marker": {
             "line": {
              "color": "#E5ECF6",
              "width": 0.5
             },
             "pattern": {
              "fillmode": "overlay",
              "size": 10,
              "solidity": 0.2
             }
            },
            "type": "bar"
           }
          ],
          "barpolar": [
           {
            "marker": {
             "line": {
              "color": "#E5ECF6",
              "width": 0.5
             },
             "pattern": {
              "fillmode": "overlay",
              "size": 10,
              "solidity": 0.2
             }
            },
            "type": "barpolar"
           }
          ],
          "carpet": [
           {
            "aaxis": {
             "endlinecolor": "#2a3f5f",
             "gridcolor": "white",
             "linecolor": "white",
             "minorgridcolor": "white",
             "startlinecolor": "#2a3f5f"
            },
            "baxis": {
             "endlinecolor": "#2a3f5f",
             "gridcolor": "white",
             "linecolor": "white",
             "minorgridcolor": "white",
             "startlinecolor": "#2a3f5f"
            },
            "type": "carpet"
           }
          ],
          "choropleth": [
           {
            "colorbar": {
             "outlinewidth": 0,
             "ticks": ""
            },
            "type": "choropleth"
           }
          ],
          "contour": [
           {
            "colorbar": {
             "outlinewidth": 0,
             "ticks": ""
            },
            "colorscale": [
             [
              0,
              "#0d0887"
             ],
             [
              0.1111111111111111,
              "#46039f"
             ],
             [
              0.2222222222222222,
              "#7201a8"
             ],
             [
              0.3333333333333333,
              "#9c179e"
             ],
             [
              0.4444444444444444,
              "#bd3786"
             ],
             [
              0.5555555555555556,
              "#d8576b"
             ],
             [
              0.6666666666666666,
              "#ed7953"
             ],
             [
              0.7777777777777778,
              "#fb9f3a"
             ],
             [
              0.8888888888888888,
              "#fdca26"
             ],
             [
              1,
              "#f0f921"
             ]
            ],
            "type": "contour"
           }
          ],
          "contourcarpet": [
           {
            "colorbar": {
             "outlinewidth": 0,
             "ticks": ""
            },
            "type": "contourcarpet"
           }
          ],
          "heatmap": [
           {
            "colorbar": {
             "outlinewidth": 0,
             "ticks": ""
            },
            "colorscale": [
             [
              0,
              "#0d0887"
             ],
             [
              0.1111111111111111,
              "#46039f"
             ],
             [
              0.2222222222222222,
              "#7201a8"
             ],
             [
              0.3333333333333333,
              "#9c179e"
             ],
             [
              0.4444444444444444,
              "#bd3786"
             ],
             [
              0.5555555555555556,
              "#d8576b"
             ],
             [
              0.6666666666666666,
              "#ed7953"
             ],
             [
              0.7777777777777778,
              "#fb9f3a"
             ],
             [
              0.8888888888888888,
              "#fdca26"
             ],
             [
              1,
              "#f0f921"
             ]
            ],
            "type": "heatmap"
           }
          ],
          "histogram": [
           {
            "marker": {
             "pattern": {
              "fillmode": "overlay",
              "size": 10,
              "solidity": 0.2
             }
            },
            "type": "histogram"
           }
          ],
          "histogram2d": [
           {
            "colorbar": {
             "outlinewidth": 0,
             "ticks": ""
            },
            "colorscale": [
             [
              0,
              "#0d0887"
             ],
             [
              0.1111111111111111,
              "#46039f"
             ],
             [
              0.2222222222222222,
              "#7201a8"
             ],
             [
              0.3333333333333333,
              "#9c179e"
             ],
             [
              0.4444444444444444,
              "#bd3786"
             ],
             [
              0.5555555555555556,
              "#d8576b"
             ],
             [
              0.6666666666666666,
              "#ed7953"
             ],
             [
              0.7777777777777778,
              "#fb9f3a"
             ],
             [
              0.8888888888888888,
              "#fdca26"
             ],
             [
              1,
              "#f0f921"
             ]
            ],
            "type": "histogram2d"
           }
          ],
          "histogram2dcontour": [
           {
            "colorbar": {
             "outlinewidth": 0,
             "ticks": ""
            },
            "colorscale": [
             [
              0,
              "#0d0887"
             ],
             [
              0.1111111111111111,
              "#46039f"
             ],
             [
              0.2222222222222222,
              "#7201a8"
             ],
             [
              0.3333333333333333,
              "#9c179e"
             ],
             [
              0.4444444444444444,
              "#bd3786"
             ],
             [
              0.5555555555555556,
              "#d8576b"
             ],
             [
              0.6666666666666666,
              "#ed7953"
             ],
             [
              0.7777777777777778,
              "#fb9f3a"
             ],
             [
              0.8888888888888888,
              "#fdca26"
             ],
             [
              1,
              "#f0f921"
             ]
            ],
            "type": "histogram2dcontour"
           }
          ],
          "mesh3d": [
           {
            "colorbar": {
             "outlinewidth": 0,
             "ticks": ""
            },
            "type": "mesh3d"
           }
          ],
          "parcoords": [
           {
            "line": {
             "colorbar": {
              "outlinewidth": 0,
              "ticks": ""
             }
            },
            "type": "parcoords"
           }
          ],
          "pie": [
           {
            "automargin": true,
            "type": "pie"
           }
          ],
          "scatter": [
           {
            "fillpattern": {
             "fillmode": "overlay",
             "size": 10,
             "solidity": 0.2
            },
            "type": "scatter"
           }
          ],
          "scatter3d": [
           {
            "line": {
             "colorbar": {
              "outlinewidth": 0,
              "ticks": ""
             }
            },
            "marker": {
             "colorbar": {
              "outlinewidth": 0,
              "ticks": ""
             }
            },
            "type": "scatter3d"
           }
          ],
          "scattercarpet": [
           {
            "marker": {
             "colorbar": {
              "outlinewidth": 0,
              "ticks": ""
             }
            },
            "type": "scattercarpet"
           }
          ],
          "scattergeo": [
           {
            "marker": {
             "colorbar": {
              "outlinewidth": 0,
              "ticks": ""
             }
            },
            "type": "scattergeo"
           }
          ],
          "scattergl": [
           {
            "marker": {
             "colorbar": {
              "outlinewidth": 0,
              "ticks": ""
             }
            },
            "type": "scattergl"
           }
          ],
          "scattermap": [
           {
            "marker": {
             "colorbar": {
              "outlinewidth": 0,
              "ticks": ""
             }
            },
            "type": "scattermap"
           }
          ],
          "scattermapbox": [
           {
            "marker": {
             "colorbar": {
              "outlinewidth": 0,
              "ticks": ""
             }
            },
            "type": "scattermapbox"
           }
          ],
          "scatterpolar": [
           {
            "marker": {
             "colorbar": {
              "outlinewidth": 0,
              "ticks": ""
             }
            },
            "type": "scatterpolar"
           }
          ],
          "scatterpolargl": [
           {
            "marker": {
             "colorbar": {
              "outlinewidth": 0,
              "ticks": ""
             }
            },
            "type": "scatterpolargl"
           }
          ],
          "scatterternary": [
           {
            "marker": {
             "colorbar": {
              "outlinewidth": 0,
              "ticks": ""
             }
            },
            "type": "scatterternary"
           }
          ],
          "surface": [
           {
            "colorbar": {
             "outlinewidth": 0,
             "ticks": ""
            },
            "colorscale": [
             [
              0,
              "#0d0887"
             ],
             [
              0.1111111111111111,
              "#46039f"
             ],
             [
              0.2222222222222222,
              "#7201a8"
             ],
             [
              0.3333333333333333,
              "#9c179e"
             ],
             [
              0.4444444444444444,
              "#bd3786"
             ],
             [
              0.5555555555555556,
              "#d8576b"
             ],
             [
              0.6666666666666666,
              "#ed7953"
             ],
             [
              0.7777777777777778,
              "#fb9f3a"
             ],
             [
              0.8888888888888888,
              "#fdca26"
             ],
             [
              1,
              "#f0f921"
             ]
            ],
            "type": "surface"
           }
          ],
          "table": [
           {
            "cells": {
             "fill": {
              "color": "#EBF0F8"
             },
             "line": {
              "color": "white"
             }
            },
            "header": {
             "fill": {
              "color": "#C8D4E3"
             },
             "line": {
              "color": "white"
             }
            },
            "type": "table"
           }
          ]
         },
         "layout": {
          "annotationdefaults": {
           "arrowcolor": "#2a3f5f",
           "arrowhead": 0,
           "arrowwidth": 1
          },
          "autotypenumbers": "strict",
          "coloraxis": {
           "colorbar": {
            "outlinewidth": 0,
            "ticks": ""
           }
          },
          "colorscale": {
           "diverging": [
            [
             0,
             "#8e0152"
            ],
            [
             0.1,
             "#c51b7d"
            ],
            [
             0.2,
             "#de77ae"
            ],
            [
             0.3,
             "#f1b6da"
            ],
            [
             0.4,
             "#fde0ef"
            ],
            [
             0.5,
             "#f7f7f7"
            ],
            [
             0.6,
             "#e6f5d0"
            ],
            [
             0.7,
             "#b8e186"
            ],
            [
             0.8,
             "#7fbc41"
            ],
            [
             0.9,
             "#4d9221"
            ],
            [
             1,
             "#276419"
            ]
           ],
           "sequential": [
            [
             0,
             "#0d0887"
            ],
            [
             0.1111111111111111,
             "#46039f"
            ],
            [
             0.2222222222222222,
             "#7201a8"
            ],
            [
             0.3333333333333333,
             "#9c179e"
            ],
            [
             0.4444444444444444,
             "#bd3786"
            ],
            [
             0.5555555555555556,
             "#d8576b"
            ],
            [
             0.6666666666666666,
             "#ed7953"
            ],
            [
             0.7777777777777778,
             "#fb9f3a"
            ],
            [
             0.8888888888888888,
             "#fdca26"
            ],
            [
             1,
             "#f0f921"
            ]
           ],
           "sequentialminus": [
            [
             0,
             "#0d0887"
            ],
            [
             0.1111111111111111,
             "#46039f"
            ],
            [
             0.2222222222222222,
             "#7201a8"
            ],
            [
             0.3333333333333333,
             "#9c179e"
            ],
            [
             0.4444444444444444,
             "#bd3786"
            ],
            [
             0.5555555555555556,
             "#d8576b"
            ],
            [
             0.6666666666666666,
             "#ed7953"
            ],
            [
             0.7777777777777778,
             "#fb9f3a"
            ],
            [
             0.8888888888888888,
             "#fdca26"
            ],
            [
             1,
             "#f0f921"
            ]
           ]
          },
          "colorway": [
           "#636efa",
           "#EF553B",
           "#00cc96",
           "#ab63fa",
           "#FFA15A",
           "#19d3f3",
           "#FF6692",
           "#B6E880",
           "#FF97FF",
           "#FECB52"
          ],
          "font": {
           "color": "#2a3f5f"
          },
          "geo": {
           "bgcolor": "white",
           "lakecolor": "white",
           "landcolor": "#E5ECF6",
           "showlakes": true,
           "showland": true,
           "subunitcolor": "white"
          },
          "hoverlabel": {
           "align": "left"
          },
          "hovermode": "closest",
          "mapbox": {
           "style": "light"
          },
          "paper_bgcolor": "white",
          "plot_bgcolor": "#E5ECF6",
          "polar": {
           "angularaxis": {
            "gridcolor": "white",
            "linecolor": "white",
            "ticks": ""
           },
           "bgcolor": "#E5ECF6",
           "radialaxis": {
            "gridcolor": "white",
            "linecolor": "white",
            "ticks": ""
           }
          },
          "scene": {
           "xaxis": {
            "backgroundcolor": "#E5ECF6",
            "gridcolor": "white",
            "gridwidth": 2,
            "linecolor": "white",
            "showbackground": true,
            "ticks": "",
            "zerolinecolor": "white"
           },
           "yaxis": {
            "backgroundcolor": "#E5ECF6",
            "gridcolor": "white",
            "gridwidth": 2,
            "linecolor": "white",
            "showbackground": true,
            "ticks": "",
            "zerolinecolor": "white"
           },
           "zaxis": {
            "backgroundcolor": "#E5ECF6",
            "gridcolor": "white",
            "gridwidth": 2,
            "linecolor": "white",
            "showbackground": true,
            "ticks": "",
            "zerolinecolor": "white"
           }
          },
          "shapedefaults": {
           "line": {
            "color": "#2a3f5f"
           }
          },
          "ternary": {
           "aaxis": {
            "gridcolor": "white",
            "linecolor": "white",
            "ticks": ""
           },
           "baxis": {
            "gridcolor": "white",
            "linecolor": "white",
            "ticks": ""
           },
           "bgcolor": "#E5ECF6",
           "caxis": {
            "gridcolor": "white",
            "linecolor": "white",
            "ticks": ""
           }
          },
          "title": {
           "x": 0.05
          },
          "xaxis": {
           "automargin": true,
           "gridcolor": "white",
           "linecolor": "white",
           "ticks": "",
           "title": {
            "standoff": 15
           },
           "zerolinecolor": "white",
           "zerolinewidth": 2
          },
          "yaxis": {
           "automargin": true,
           "gridcolor": "white",
           "linecolor": "white",
           "ticks": "",
           "title": {
            "standoff": 15
           },
           "zerolinecolor": "white",
           "zerolinewidth": 2
          }
         }
        }
       }
      }
     },
     "metadata": {},
     "output_type": "display_data"
    }
   ],
   "source": [
    "# plot between 200 to 300\n",
    "fig=px.scatter_3d(x[200:300],x=0,y=1,z=2,color= self_model.wv.index_to_key[200:300])\n",
    "fig.show()"
   ]
  }
 ],
 "metadata": {
  "kernelspec": {
   "display_name": "nlp",
   "language": "python",
   "name": "python3"
  },
  "language_info": {
   "codemirror_mode": {
    "name": "ipython",
    "version": 3
   },
   "file_extension": ".py",
   "mimetype": "text/x-python",
   "name": "python",
   "nbconvert_exporter": "python",
   "pygments_lexer": "ipython3",
   "version": "3.12.11"
  }
 },
 "nbformat": 4,
 "nbformat_minor": 5
}
